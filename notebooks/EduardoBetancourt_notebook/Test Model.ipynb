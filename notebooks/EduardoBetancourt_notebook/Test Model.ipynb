{
 "cells": [
  {
   "cell_type": "code",
   "execution_count": 1,
   "metadata": {},
   "outputs": [],
   "source": [
    "from tensorflow.keras.models import load_model\n",
    "new_model = load_model('../../models')"
   ]
  },
  {
   "cell_type": "code",
   "execution_count": 3,
   "metadata": {},
   "outputs": [
    {
     "data": {
      "text/html": [
       "<div>\n",
       "<style scoped>\n",
       "    .dataframe tbody tr th:only-of-type {\n",
       "        vertical-align: middle;\n",
       "    }\n",
       "\n",
       "    .dataframe tbody tr th {\n",
       "        vertical-align: top;\n",
       "    }\n",
       "\n",
       "    .dataframe thead th {\n",
       "        text-align: right;\n",
       "    }\n",
       "</style>\n",
       "<table border=\"1\" class=\"dataframe\">\n",
       "  <thead>\n",
       "    <tr style=\"text-align: right;\">\n",
       "      <th></th>\n",
       "      <th>review_date</th>\n",
       "      <th>movie_id</th>\n",
       "      <th>user_id</th>\n",
       "      <th>is_spoiler</th>\n",
       "      <th>review_text</th>\n",
       "      <th>rating</th>\n",
       "      <th>review_summary</th>\n",
       "    </tr>\n",
       "  </thead>\n",
       "  <tbody>\n",
       "    <tr>\n",
       "      <th>0</th>\n",
       "      <td>18 March 2001</td>\n",
       "      <td>tt0101921</td>\n",
       "      <td>ur1105488</td>\n",
       "      <td>False</td>\n",
       "      <td>I love this movie, I watch it over and over! I...</td>\n",
       "      <td>10</td>\n",
       "      <td>One of the best movies I have seen!</td>\n",
       "    </tr>\n",
       "    <tr>\n",
       "      <th>1</th>\n",
       "      <td>14 April 2012</td>\n",
       "      <td>tt0068646</td>\n",
       "      <td>ur26779655</td>\n",
       "      <td>False</td>\n",
       "      <td>Francis Ford Coppola was 33 years old in 1972....</td>\n",
       "      <td>10</td>\n",
       "      <td>Copollas Grand Entry--------and its Perfect</td>\n",
       "    </tr>\n",
       "    <tr>\n",
       "      <th>2</th>\n",
       "      <td>26 March 2003</td>\n",
       "      <td>tt0285531</td>\n",
       "      <td>ur0332927</td>\n",
       "      <td>False</td>\n",
       "      <td>Adaptation of King books always suffer form tr...</td>\n",
       "      <td>6</td>\n",
       "      <td>Well the movie is what the book was, not King ...</td>\n",
       "    </tr>\n",
       "    <tr>\n",
       "      <th>3</th>\n",
       "      <td>6 September 2015</td>\n",
       "      <td>tt2184339</td>\n",
       "      <td>ur3900348</td>\n",
       "      <td>False</td>\n",
       "      <td>I passed on the Purge back when it was first r...</td>\n",
       "      <td>10</td>\n",
       "      <td>It pays to wait 2 years to see a movie hobbled...</td>\n",
       "    </tr>\n",
       "    <tr>\n",
       "      <th>4</th>\n",
       "      <td>18 April 2006</td>\n",
       "      <td>tt0120735</td>\n",
       "      <td>ur0345596</td>\n",
       "      <td>False</td>\n",
       "      <td>STAR RATING: ***** The Works **** Just Misses ...</td>\n",
       "      <td>7</td>\n",
       "      <td>Some flaws but generally a fine introduction t...</td>\n",
       "    </tr>\n",
       "  </tbody>\n",
       "</table>\n",
       "</div>"
      ],
      "text/plain": [
       "        review_date   movie_id     user_id  is_spoiler  \\\n",
       "0     18 March 2001  tt0101921   ur1105488       False   \n",
       "1     14 April 2012  tt0068646  ur26779655       False   \n",
       "2     26 March 2003  tt0285531   ur0332927       False   \n",
       "3  6 September 2015  tt2184339   ur3900348       False   \n",
       "4     18 April 2006  tt0120735   ur0345596       False   \n",
       "\n",
       "                                         review_text  rating  \\\n",
       "0  I love this movie, I watch it over and over! I...      10   \n",
       "1  Francis Ford Coppola was 33 years old in 1972....      10   \n",
       "2  Adaptation of King books always suffer form tr...       6   \n",
       "3  I passed on the Purge back when it was first r...      10   \n",
       "4  STAR RATING: ***** The Works **** Just Misses ...       7   \n",
       "\n",
       "                                      review_summary  \n",
       "0                One of the best movies I have seen!  \n",
       "1        Copollas Grand Entry--------and its Perfect  \n",
       "2  Well the movie is what the book was, not King ...  \n",
       "3  It pays to wait 2 years to see a movie hobbled...  \n",
       "4  Some flaws but generally a fine introduction t...  "
      ]
     },
     "execution_count": 3,
     "metadata": {},
     "output_type": "execute_result"
    }
   ],
   "source": [
    "from splocked.trainer import get_small_df, preprocess\n",
    "df = get_small_df()\n",
    "df.head()"
   ]
  },
  {
   "cell_type": "code",
   "execution_count": 4,
   "metadata": {},
   "outputs": [
    {
     "name": "stderr",
     "output_type": "stream",
     "text": [
      "/Users/eduardobetancourthernandez/.pyenv/versions/3.7.7/envs/lewagon/lib/python3.7/site-packages/splocked/trainer.py:87: SettingWithCopyWarning: \n",
      "A value is trying to be set on a copy of a slice from a DataFrame.\n",
      "Try using .loc[row_indexer,col_indexer] = value instead\n",
      "\n",
      "See the caveats in the documentation: https://pandas.pydata.org/pandas-docs/stable/user_guide/indexing.html#returning-a-view-versus-a-copy\n",
      "  df['is_spoiler'] = boolean_to_binary_array(df['is_spoiler'])\n"
     ]
    },
    {
     "data": {
      "text/plain": [
       "(70, 963)"
      ]
     },
     "execution_count": 4,
     "metadata": {},
     "output_type": "execute_result"
    }
   ],
   "source": [
    "X_train, X_test, y_train, y_test, word_to_id = preprocess(df)\n",
    "X_train.shape"
   ]
  },
  {
   "cell_type": "code",
   "execution_count": 7,
   "metadata": {},
   "outputs": [
    {
     "data": {
      "text/plain": [
       "array([[0.49504787],\n",
       "       [0.4902084 ],\n",
       "       [0.49504787]], dtype=float32)"
      ]
     },
     "execution_count": 7,
     "metadata": {},
     "output_type": "execute_result"
    }
   ],
   "source": [
    "from splocked.utils import embed\n",
    "inputs = ['Hello spoiler spoiler spoiler', 'Not a spoiler, everything happy', 'SPOILER ALERT!! SPOILER!!']\n",
    "inputs_em = embed(inputs, word_to_id)\n",
    "new_model.predict(inputs_em)"
   ]
  },
  {
   "cell_type": "code",
   "execution_count": null,
   "metadata": {},
   "outputs": [],
   "source": [
    "# Scrape from the web\n",
    "\n",
    "# Return a list of reviews\n",
    "\n",
    "# Make a prediction\n",
    "\n",
    "# Filter out spoilers"
   ]
  }
 ],
 "metadata": {
  "kernelspec": {
   "display_name": "Python 3",
   "language": "python",
   "name": "python3"
  },
  "language_info": {
   "codemirror_mode": {
    "name": "ipython",
    "version": 3
   },
   "file_extension": ".py",
   "mimetype": "text/x-python",
   "name": "python",
   "nbconvert_exporter": "python",
   "pygments_lexer": "ipython3",
   "version": "3.7.7"
  },
  "toc": {
   "base_numbering": 1,
   "nav_menu": {},
   "number_sections": true,
   "sideBar": true,
   "skip_h1_title": false,
   "title_cell": "Table of Contents",
   "title_sidebar": "Contents",
   "toc_cell": false,
   "toc_position": {},
   "toc_section_display": true,
   "toc_window_display": false
  }
 },
 "nbformat": 4,
 "nbformat_minor": 4
}
