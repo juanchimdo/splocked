{
 "cells": [
  {
   "cell_type": "markdown",
   "metadata": {},
   "source": [
    "# This notebook is to test trainer.py"
   ]
  },
  {
   "cell_type": "markdown",
   "metadata": {},
   "source": [
    "## Test to see if get_data works"
   ]
  },
  {
   "cell_type": "code",
   "execution_count": 1,
   "metadata": {},
   "outputs": [],
   "source": [
    "# Import get_data and preprocess\n",
    "from splocked.trainer import get_data, preprocess, train_model\n",
    "import joblib\n",
    "from google.cloud import storage"
   ]
  },
  {
   "cell_type": "code",
   "execution_count": 2,
   "metadata": {},
   "outputs": [],
   "source": [
    "# Download data from google cloud\n",
    "df = get_data(nrows=1000)"
   ]
  },
  {
   "cell_type": "code",
   "execution_count": 3,
   "metadata": {},
   "outputs": [
    {
     "data": {
      "text/plain": [
       "(1000, 7)"
      ]
     },
     "execution_count": 3,
     "metadata": {},
     "output_type": "execute_result"
    }
   ],
   "source": [
    "# Check the shape of the df\n",
    "df.shape"
   ]
  },
  {
   "cell_type": "code",
   "execution_count": 4,
   "metadata": {},
   "outputs": [
    {
     "data": {
      "text/html": [
       "<div>\n",
       "<style scoped>\n",
       "    .dataframe tbody tr th:only-of-type {\n",
       "        vertical-align: middle;\n",
       "    }\n",
       "\n",
       "    .dataframe tbody tr th {\n",
       "        vertical-align: top;\n",
       "    }\n",
       "\n",
       "    .dataframe thead th {\n",
       "        text-align: right;\n",
       "    }\n",
       "</style>\n",
       "<table border=\"1\" class=\"dataframe\">\n",
       "  <thead>\n",
       "    <tr style=\"text-align: right;\">\n",
       "      <th></th>\n",
       "      <th>review_date</th>\n",
       "      <th>movie_id</th>\n",
       "      <th>user_id</th>\n",
       "      <th>is_spoiler</th>\n",
       "      <th>review_text</th>\n",
       "      <th>rating</th>\n",
       "      <th>review_summary</th>\n",
       "    </tr>\n",
       "  </thead>\n",
       "  <tbody>\n",
       "    <tr>\n",
       "      <th>0</th>\n",
       "      <td>10 February 2006</td>\n",
       "      <td>tt0111161</td>\n",
       "      <td>ur1898687</td>\n",
       "      <td>True</td>\n",
       "      <td>In its Oscar year, Shawshank Redemption (writt...</td>\n",
       "      <td>10</td>\n",
       "      <td>A classic piece of unforgettable film-making.</td>\n",
       "    </tr>\n",
       "    <tr>\n",
       "      <th>1</th>\n",
       "      <td>6 September 2000</td>\n",
       "      <td>tt0111161</td>\n",
       "      <td>ur0842118</td>\n",
       "      <td>True</td>\n",
       "      <td>The Shawshank Redemption is without a doubt on...</td>\n",
       "      <td>10</td>\n",
       "      <td>Simply amazing. The best film of the 90's.</td>\n",
       "    </tr>\n",
       "    <tr>\n",
       "      <th>2</th>\n",
       "      <td>3 August 2001</td>\n",
       "      <td>tt0111161</td>\n",
       "      <td>ur1285640</td>\n",
       "      <td>True</td>\n",
       "      <td>I believe that this film is the best story eve...</td>\n",
       "      <td>8</td>\n",
       "      <td>The best story ever told on film</td>\n",
       "    </tr>\n",
       "    <tr>\n",
       "      <th>3</th>\n",
       "      <td>1 September 2002</td>\n",
       "      <td>tt0111161</td>\n",
       "      <td>ur1003471</td>\n",
       "      <td>True</td>\n",
       "      <td>**Yes, there are SPOILERS here**This film has ...</td>\n",
       "      <td>10</td>\n",
       "      <td>Busy dying or busy living?</td>\n",
       "    </tr>\n",
       "    <tr>\n",
       "      <th>4</th>\n",
       "      <td>20 May 2004</td>\n",
       "      <td>tt0111161</td>\n",
       "      <td>ur0226855</td>\n",
       "      <td>True</td>\n",
       "      <td>At the heart of this extraordinary movie is a ...</td>\n",
       "      <td>8</td>\n",
       "      <td>Great story, wondrously told and acted</td>\n",
       "    </tr>\n",
       "  </tbody>\n",
       "</table>\n",
       "</div>"
      ],
      "text/plain": [
       "        review_date   movie_id    user_id  is_spoiler  \\\n",
       "0  10 February 2006  tt0111161  ur1898687        True   \n",
       "1  6 September 2000  tt0111161  ur0842118        True   \n",
       "2     3 August 2001  tt0111161  ur1285640        True   \n",
       "3  1 September 2002  tt0111161  ur1003471        True   \n",
       "4       20 May 2004  tt0111161  ur0226855        True   \n",
       "\n",
       "                                         review_text  rating  \\\n",
       "0  In its Oscar year, Shawshank Redemption (writt...      10   \n",
       "1  The Shawshank Redemption is without a doubt on...      10   \n",
       "2  I believe that this film is the best story eve...       8   \n",
       "3  **Yes, there are SPOILERS here**This film has ...      10   \n",
       "4  At the heart of this extraordinary movie is a ...       8   \n",
       "\n",
       "                                  review_summary  \n",
       "0  A classic piece of unforgettable film-making.  \n",
       "1     Simply amazing. The best film of the 90's.  \n",
       "2               The best story ever told on film  \n",
       "3                     Busy dying or busy living?  \n",
       "4         Great story, wondrously told and acted  "
      ]
     },
     "execution_count": 4,
     "metadata": {},
     "output_type": "execute_result"
    }
   ],
   "source": [
    "# Check the content of the df\n",
    "df.head()"
   ]
  },
  {
   "cell_type": "markdown",
   "metadata": {},
   "source": [
    "## Test to see if preprocess works"
   ]
  },
  {
   "cell_type": "code",
   "execution_count": 5,
   "metadata": {
    "scrolled": true
   },
   "outputs": [
    {
     "name": "stderr",
     "output_type": "stream",
     "text": [
      "/Users/eduardobetancourthernandez/.pyenv/versions/3.7.7/envs/lewagon/lib/python3.7/site-packages/splocked/trainer.py:76: SettingWithCopyWarning: \n",
      "A value is trying to be set on a copy of a slice from a DataFrame.\n",
      "Try using .loc[row_indexer,col_indexer] = value instead\n",
      "\n",
      "See the caveats in the documentation: https://pandas.pydata.org/pandas-docs/stable/user_guide/indexing.html#returning-a-view-versus-a-copy\n",
      "  df['is_spoiler'] = boolean_to_binary_array(df['is_spoiler'])\n"
     ]
    }
   ],
   "source": [
    "X_train, X_test, y_train, y_test, word_to_id = preprocess(df)"
   ]
  },
  {
   "cell_type": "code",
   "execution_count": 6,
   "metadata": {},
   "outputs": [
    {
     "data": {
      "text/plain": [
       "(700, 997)"
      ]
     },
     "execution_count": 6,
     "metadata": {},
     "output_type": "execute_result"
    }
   ],
   "source": [
    "# See the dimensions of embedded arrays\n",
    "X_train.shape"
   ]
  },
  {
   "cell_type": "code",
   "execution_count": 7,
   "metadata": {},
   "outputs": [
    {
     "data": {
      "text/plain": [
       "array([ 1.,  2.,  3.,  4.,  5.,  6.,  7.,  8.,  9., 10., 11., 12., 13.,\n",
       "       14., 15., 16., 17., 18., 19., 20.,  7., 21., 22., 23., 24., 25.,\n",
       "       26., 27., 11., 28.], dtype=float32)"
      ]
     },
     "execution_count": 7,
     "metadata": {},
     "output_type": "execute_result"
    }
   ],
   "source": [
    "# Load the first 30 words of the first review\n",
    "# They will already be embedded based on X_train vocab\n",
    "X_train[0][:30]"
   ]
  },
  {
   "cell_type": "markdown",
   "metadata": {},
   "source": [
    "## Run the model Locally in notebook"
   ]
  },
  {
   "cell_type": "code",
   "execution_count": 8,
   "metadata": {},
   "outputs": [
    {
     "data": {
      "text/plain": [
       "array([[  0,  32],\n",
       "       [  1, 668]])"
      ]
     },
     "execution_count": 8,
     "metadata": {},
     "output_type": "execute_result"
    }
   ],
   "source": [
    "# Check the balance of the training set\n",
    "import numpy as np\n",
    "np.array(np.unique(y_train, return_counts=True)).T"
   ]
  },
  {
   "cell_type": "code",
   "execution_count": 9,
   "metadata": {},
   "outputs": [
    {
     "data": {
      "text/plain": [
       "array([[  0,  12],\n",
       "       [  1, 288]])"
      ]
     },
     "execution_count": 9,
     "metadata": {},
     "output_type": "execute_result"
    }
   ],
   "source": [
    "# Check the balance of the testing set\n",
    "np.array(np.unique(y_test, return_counts=True)).T"
   ]
  },
  {
   "cell_type": "code",
   "execution_count": 10,
   "metadata": {},
   "outputs": [
    {
     "name": "stdout",
     "output_type": "stream",
     "text": [
      "Epoch 1/10\n",
      "16/16 [==============================] - 14s 872ms/step - loss: 0.5953 - accuracy: 0.9264 - val_loss: 0.4389 - val_accuracy: 0.9526\n",
      "Epoch 2/10\n",
      "16/16 [==============================] - 13s 782ms/step - loss: 0.2976 - accuracy: 0.9550 - val_loss: 0.2146 - val_accuracy: 0.9526\n",
      "Epoch 3/10\n",
      "16/16 [==============================] - 13s 788ms/step - loss: 0.1920 - accuracy: 0.9550 - val_loss: 0.1943 - val_accuracy: 0.9526\n",
      "Epoch 4/10\n",
      "16/16 [==============================] - 12s 779ms/step - loss: 0.1798 - accuracy: 0.9550 - val_loss: 0.1925 - val_accuracy: 0.9526\n",
      "Epoch 5/10\n",
      "16/16 [==============================] - 12s 770ms/step - loss: 0.1709 - accuracy: 0.9550 - val_loss: 0.1918 - val_accuracy: 0.9526\n",
      "Epoch 6/10\n",
      "16/16 [==============================] - 12s 768ms/step - loss: 0.1413 - accuracy: 0.9550 - val_loss: 0.2016 - val_accuracy: 0.9526\n",
      "Epoch 7/10\n",
      "16/16 [==============================] - 12s 775ms/step - loss: 0.1095 - accuracy: 0.9550 - val_loss: 0.2001 - val_accuracy: 0.9526\n",
      "Epoch 8/10\n",
      "16/16 [==============================] - 12s 773ms/step - loss: 0.0843 - accuracy: 0.9550 - val_loss: 0.2045 - val_accuracy: 0.9526\n",
      "Epoch 9/10\n",
      "16/16 [==============================] - 13s 803ms/step - loss: 0.0663 - accuracy: 0.9652 - val_loss: 0.2222 - val_accuracy: 0.9526\n",
      "Epoch 10/10\n",
      "16/16 [==============================] - 12s 776ms/step - loss: 0.0602 - accuracy: 0.9734 - val_loss: 0.2224 - val_accuracy: 0.9479\n"
     ]
    }
   ],
   "source": [
    "model = train_model(X_train, y_train, len(word_to_id))"
   ]
  },
  {
   "cell_type": "code",
   "execution_count": 11,
   "metadata": {},
   "outputs": [],
   "source": [
    "BUCKET_NAME = 'splocked-betancourt-1'\n",
    "CLOUD_PROJECT = 'splocked'\n",
    "MODEL_NAME = 'splocked-models'\n",
    "MODEL_VERSION = 'v1'"
   ]
  },
  {
   "cell_type": "code",
   "execution_count": 12,
   "metadata": {},
   "outputs": [],
   "source": [
    "def save_model_tf(model):\n",
    "    \"\"\"method that saves the model into a .joblib file and uploads it on Google Storage /models folder\n",
    "    HINTS : use joblib library and google-cloud-storage\"\"\"\n",
    "    \n",
    "    model.save(f\"gs://{BUCKET_NAME}/models/{MODEL_NAME}/{MODEL_VERSION}\", save_format='tf')"
   ]
  },
  {
   "cell_type": "code",
   "execution_count": 13,
   "metadata": {},
   "outputs": [],
   "source": [
    "def save_model_joblib(model):\n",
    "    \"\"\"method that saves the model into a .joblib file and uploads it on Google Storage /models folder\n",
    "    HINTS : use joblib library and google-cloud-storage\"\"\"\n",
    "    local_model_name = 'model.joblib'\n",
    "\n",
    "    # saving the trained model to disk (which does not really make sense\n",
    "    # if we are running this code on GCP, because then this file cannot be accessed once the code finished its execution)\n",
    "    joblib.dump(model, local_model_name)\n",
    "    print(\"saved model.joblib locally\")\n",
    "\n",
    "    client = storage.Client().bucket(BUCKET_NAME)\n",
    "\n",
    "    storage_location = '{}/{}/{}/{}'.format(\n",
    "        'models',\n",
    "        MODEL_NAME,\n",
    "        MODEL_VERSION,\n",
    "        local_model_name)\n",
    "    blob = client.blob(storage_location)\n",
    "    blob.upload_from_filename(local_model_name)\n",
    "    print(\"uploaded model.joblib to gcp cloud storage under \\n => {}\".format(storage_location))"
   ]
  },
  {
   "cell_type": "code",
   "execution_count": 33,
   "metadata": {
    "scrolled": true
   },
   "outputs": [
    {
     "name": "stdout",
     "output_type": "stream",
     "text": [
      "INFO:tensorflow:Assets written to: gs://splocked-betancourt-1/models/splocked-models/v1/saved_model/assets\n"
     ]
    }
   ],
   "source": [
    "save_model_tf(model)"
   ]
  },
  {
   "cell_type": "code",
   "execution_count": 17,
   "metadata": {},
   "outputs": [
    {
     "name": "stdout",
     "output_type": "stream",
     "text": [
      "INFO:tensorflow:Assets written to: ../../models/assets\n"
     ]
    }
   ],
   "source": [
    "model.save(\"../../models\", save_format='tf')"
   ]
  },
  {
   "cell_type": "markdown",
   "metadata": {},
   "source": [
    "# Create a small dataset"
   ]
  },
  {
   "cell_type": "markdown",
   "metadata": {},
   "source": [
    "It contains 70 random non spoilers and 30 random spoilers from the whole dataset"
   ]
  },
  {
   "cell_type": "code",
   "execution_count": 56,
   "metadata": {},
   "outputs": [],
   "source": [
    "df = get_data()"
   ]
  },
  {
   "cell_type": "code",
   "execution_count": 57,
   "metadata": {},
   "outputs": [
    {
     "data": {
      "text/html": [
       "<div>\n",
       "<style scoped>\n",
       "    .dataframe tbody tr th:only-of-type {\n",
       "        vertical-align: middle;\n",
       "    }\n",
       "\n",
       "    .dataframe tbody tr th {\n",
       "        vertical-align: top;\n",
       "    }\n",
       "\n",
       "    .dataframe thead th {\n",
       "        text-align: right;\n",
       "    }\n",
       "</style>\n",
       "<table border=\"1\" class=\"dataframe\">\n",
       "  <thead>\n",
       "    <tr style=\"text-align: right;\">\n",
       "      <th></th>\n",
       "      <th>review_date</th>\n",
       "      <th>movie_id</th>\n",
       "      <th>user_id</th>\n",
       "      <th>is_spoiler</th>\n",
       "      <th>review_text</th>\n",
       "      <th>rating</th>\n",
       "      <th>review_summary</th>\n",
       "    </tr>\n",
       "  </thead>\n",
       "  <tbody>\n",
       "    <tr>\n",
       "      <th>0</th>\n",
       "      <td>10 February 2006</td>\n",
       "      <td>tt0111161</td>\n",
       "      <td>ur1898687</td>\n",
       "      <td>True</td>\n",
       "      <td>In its Oscar year, Shawshank Redemption (writt...</td>\n",
       "      <td>10</td>\n",
       "      <td>A classic piece of unforgettable film-making.</td>\n",
       "    </tr>\n",
       "    <tr>\n",
       "      <th>1</th>\n",
       "      <td>6 September 2000</td>\n",
       "      <td>tt0111161</td>\n",
       "      <td>ur0842118</td>\n",
       "      <td>True</td>\n",
       "      <td>The Shawshank Redemption is without a doubt on...</td>\n",
       "      <td>10</td>\n",
       "      <td>Simply amazing. The best film of the 90's.</td>\n",
       "    </tr>\n",
       "    <tr>\n",
       "      <th>2</th>\n",
       "      <td>3 August 2001</td>\n",
       "      <td>tt0111161</td>\n",
       "      <td>ur1285640</td>\n",
       "      <td>True</td>\n",
       "      <td>I believe that this film is the best story eve...</td>\n",
       "      <td>8</td>\n",
       "      <td>The best story ever told on film</td>\n",
       "    </tr>\n",
       "    <tr>\n",
       "      <th>3</th>\n",
       "      <td>1 September 2002</td>\n",
       "      <td>tt0111161</td>\n",
       "      <td>ur1003471</td>\n",
       "      <td>True</td>\n",
       "      <td>**Yes, there are SPOILERS here**This film has ...</td>\n",
       "      <td>10</td>\n",
       "      <td>Busy dying or busy living?</td>\n",
       "    </tr>\n",
       "    <tr>\n",
       "      <th>4</th>\n",
       "      <td>20 May 2004</td>\n",
       "      <td>tt0111161</td>\n",
       "      <td>ur0226855</td>\n",
       "      <td>True</td>\n",
       "      <td>At the heart of this extraordinary movie is a ...</td>\n",
       "      <td>8</td>\n",
       "      <td>Great story, wondrously told and acted</td>\n",
       "    </tr>\n",
       "  </tbody>\n",
       "</table>\n",
       "</div>"
      ],
      "text/plain": [
       "        review_date   movie_id    user_id  is_spoiler  \\\n",
       "0  10 February 2006  tt0111161  ur1898687        True   \n",
       "1  6 September 2000  tt0111161  ur0842118        True   \n",
       "2     3 August 2001  tt0111161  ur1285640        True   \n",
       "3  1 September 2002  tt0111161  ur1003471        True   \n",
       "4       20 May 2004  tt0111161  ur0226855        True   \n",
       "\n",
       "                                         review_text  rating  \\\n",
       "0  In its Oscar year, Shawshank Redemption (writt...      10   \n",
       "1  The Shawshank Redemption is without a doubt on...      10   \n",
       "2  I believe that this film is the best story eve...       8   \n",
       "3  **Yes, there are SPOILERS here**This film has ...      10   \n",
       "4  At the heart of this extraordinary movie is a ...       8   \n",
       "\n",
       "                                  review_summary  \n",
       "0  A classic piece of unforgettable film-making.  \n",
       "1     Simply amazing. The best film of the 90's.  \n",
       "2               The best story ever told on film  \n",
       "3                     Busy dying or busy living?  \n",
       "4         Great story, wondrously told and acted  "
      ]
     },
     "execution_count": 57,
     "metadata": {},
     "output_type": "execute_result"
    }
   ],
   "source": [
    "df.head()"
   ]
  },
  {
   "cell_type": "code",
   "execution_count": 58,
   "metadata": {},
   "outputs": [],
   "source": [
    "from sklearn.utils import shuffle\n",
    "df = shuffle(df)"
   ]
  },
  {
   "cell_type": "code",
   "execution_count": 59,
   "metadata": {},
   "outputs": [
    {
     "data": {
      "text/html": [
       "<div>\n",
       "<style scoped>\n",
       "    .dataframe tbody tr th:only-of-type {\n",
       "        vertical-align: middle;\n",
       "    }\n",
       "\n",
       "    .dataframe tbody tr th {\n",
       "        vertical-align: top;\n",
       "    }\n",
       "\n",
       "    .dataframe thead th {\n",
       "        text-align: right;\n",
       "    }\n",
       "</style>\n",
       "<table border=\"1\" class=\"dataframe\">\n",
       "  <thead>\n",
       "    <tr style=\"text-align: right;\">\n",
       "      <th></th>\n",
       "      <th>review_date</th>\n",
       "      <th>movie_id</th>\n",
       "      <th>user_id</th>\n",
       "      <th>is_spoiler</th>\n",
       "      <th>review_text</th>\n",
       "      <th>rating</th>\n",
       "      <th>review_summary</th>\n",
       "    </tr>\n",
       "  </thead>\n",
       "  <tbody>\n",
       "    <tr>\n",
       "      <th>564431</th>\n",
       "      <td>4 July 1999</td>\n",
       "      <td>tt0120891</td>\n",
       "      <td>ur0244097</td>\n",
       "      <td>False</td>\n",
       "      <td>I'm sick of people with problems with this mov...</td>\n",
       "      <td>10</td>\n",
       "      <td>IT ROCKED!!</td>\n",
       "    </tr>\n",
       "    <tr>\n",
       "      <th>259449</th>\n",
       "      <td>12 July 2016</td>\n",
       "      <td>tt1289401</td>\n",
       "      <td>ur67938243</td>\n",
       "      <td>True</td>\n",
       "      <td>The new Ghostbusters is a troubled movie. It c...</td>\n",
       "      <td>4</td>\n",
       "      <td>So much for that Franchise idea, Sony</td>\n",
       "    </tr>\n",
       "    <tr>\n",
       "      <th>398311</th>\n",
       "      <td>4 April 2007</td>\n",
       "      <td>tt0454082</td>\n",
       "      <td>ur12530827</td>\n",
       "      <td>False</td>\n",
       "      <td>This is one of the most entertaining films I'v...</td>\n",
       "      <td>8</td>\n",
       "      <td>Entertainment brought to a new level</td>\n",
       "    </tr>\n",
       "    <tr>\n",
       "      <th>424061</th>\n",
       "      <td>6 February 2007</td>\n",
       "      <td>tt0425112</td>\n",
       "      <td>ur3990626</td>\n",
       "      <td>False</td>\n",
       "      <td>Saw this last night at a special screening fol...</td>\n",
       "      <td>10</td>\n",
       "      <td>Most fun in a cinema since....forever</td>\n",
       "    </tr>\n",
       "    <tr>\n",
       "      <th>200417</th>\n",
       "      <td>21 October 2013</td>\n",
       "      <td>tt1211956</td>\n",
       "      <td>ur47508231</td>\n",
       "      <td>False</td>\n",
       "      <td>Honestly, it's just a ball of fun and entertai...</td>\n",
       "      <td>7</td>\n",
       "      <td>You shouldn't have high expectations for this ...</td>\n",
       "    </tr>\n",
       "  </tbody>\n",
       "</table>\n",
       "</div>"
      ],
      "text/plain": [
       "            review_date   movie_id     user_id  is_spoiler  \\\n",
       "564431      4 July 1999  tt0120891   ur0244097       False   \n",
       "259449     12 July 2016  tt1289401  ur67938243        True   \n",
       "398311     4 April 2007  tt0454082  ur12530827       False   \n",
       "424061  6 February 2007  tt0425112   ur3990626       False   \n",
       "200417  21 October 2013  tt1211956  ur47508231       False   \n",
       "\n",
       "                                              review_text  rating  \\\n",
       "564431  I'm sick of people with problems with this mov...      10   \n",
       "259449  The new Ghostbusters is a troubled movie. It c...       4   \n",
       "398311  This is one of the most entertaining films I'v...       8   \n",
       "424061  Saw this last night at a special screening fol...      10   \n",
       "200417  Honestly, it's just a ball of fun and entertai...       7   \n",
       "\n",
       "                                           review_summary  \n",
       "564431                                        IT ROCKED!!  \n",
       "259449              So much for that Franchise idea, Sony  \n",
       "398311               Entertainment brought to a new level  \n",
       "424061              Most fun in a cinema since....forever  \n",
       "200417  You shouldn't have high expectations for this ...  "
      ]
     },
     "execution_count": 59,
     "metadata": {},
     "output_type": "execute_result"
    }
   ],
   "source": [
    "df.head()"
   ]
  },
  {
   "cell_type": "code",
   "execution_count": 60,
   "metadata": {},
   "outputs": [],
   "source": [
    "f_df = df[df['is_spoiler'] == False][:70]\n",
    "t_df = df[df['is_spoiler'] == True][:30]"
   ]
  },
  {
   "cell_type": "code",
   "execution_count": 61,
   "metadata": {},
   "outputs": [
    {
     "data": {
      "text/plain": [
       "False    70\n",
       "Name: is_spoiler, dtype: int64"
      ]
     },
     "execution_count": 61,
     "metadata": {},
     "output_type": "execute_result"
    }
   ],
   "source": [
    "f_df.is_spoiler.value_counts()"
   ]
  },
  {
   "cell_type": "code",
   "execution_count": 62,
   "metadata": {},
   "outputs": [
    {
     "data": {
      "text/plain": [
       "True    30\n",
       "Name: is_spoiler, dtype: int64"
      ]
     },
     "execution_count": 62,
     "metadata": {},
     "output_type": "execute_result"
    }
   ],
   "source": [
    "t_df.is_spoiler.value_counts()"
   ]
  },
  {
   "cell_type": "code",
   "execution_count": 63,
   "metadata": {},
   "outputs": [],
   "source": [
    "import pandas as pd\n",
    "df = shuffle(pd.concat([t_df, f_df]))"
   ]
  },
  {
   "cell_type": "code",
   "execution_count": 65,
   "metadata": {},
   "outputs": [],
   "source": [
    "df.to_json('small_df.json', lines=True, orient='records')"
   ]
  },
  {
   "cell_type": "code",
   "execution_count": 66,
   "metadata": {},
   "outputs": [
    {
     "data": {
      "text/html": [
       "<div>\n",
       "<style scoped>\n",
       "    .dataframe tbody tr th:only-of-type {\n",
       "        vertical-align: middle;\n",
       "    }\n",
       "\n",
       "    .dataframe tbody tr th {\n",
       "        vertical-align: top;\n",
       "    }\n",
       "\n",
       "    .dataframe thead th {\n",
       "        text-align: right;\n",
       "    }\n",
       "</style>\n",
       "<table border=\"1\" class=\"dataframe\">\n",
       "  <thead>\n",
       "    <tr style=\"text-align: right;\">\n",
       "      <th></th>\n",
       "      <th>review_date</th>\n",
       "      <th>movie_id</th>\n",
       "      <th>user_id</th>\n",
       "      <th>is_spoiler</th>\n",
       "      <th>review_text</th>\n",
       "      <th>rating</th>\n",
       "      <th>review_summary</th>\n",
       "    </tr>\n",
       "  </thead>\n",
       "  <tbody>\n",
       "    <tr>\n",
       "      <th>0</th>\n",
       "      <td>18 March 2001</td>\n",
       "      <td>tt0101921</td>\n",
       "      <td>ur1105488</td>\n",
       "      <td>False</td>\n",
       "      <td>I love this movie, I watch it over and over! I...</td>\n",
       "      <td>10</td>\n",
       "      <td>One of the best movies I have seen!</td>\n",
       "    </tr>\n",
       "    <tr>\n",
       "      <th>1</th>\n",
       "      <td>14 April 2012</td>\n",
       "      <td>tt0068646</td>\n",
       "      <td>ur26779655</td>\n",
       "      <td>False</td>\n",
       "      <td>Francis Ford Coppola was 33 years old in 1972....</td>\n",
       "      <td>10</td>\n",
       "      <td>Copollas Grand Entry--------and its Perfect</td>\n",
       "    </tr>\n",
       "    <tr>\n",
       "      <th>2</th>\n",
       "      <td>26 March 2003</td>\n",
       "      <td>tt0285531</td>\n",
       "      <td>ur0332927</td>\n",
       "      <td>False</td>\n",
       "      <td>Adaptation of King books always suffer form tr...</td>\n",
       "      <td>6</td>\n",
       "      <td>Well the movie is what the book was, not King ...</td>\n",
       "    </tr>\n",
       "    <tr>\n",
       "      <th>3</th>\n",
       "      <td>6 September 2015</td>\n",
       "      <td>tt2184339</td>\n",
       "      <td>ur3900348</td>\n",
       "      <td>False</td>\n",
       "      <td>I passed on the Purge back when it was first r...</td>\n",
       "      <td>10</td>\n",
       "      <td>It pays to wait 2 years to see a movie hobbled...</td>\n",
       "    </tr>\n",
       "    <tr>\n",
       "      <th>4</th>\n",
       "      <td>18 April 2006</td>\n",
       "      <td>tt0120735</td>\n",
       "      <td>ur0345596</td>\n",
       "      <td>False</td>\n",
       "      <td>STAR RATING: ***** The Works **** Just Misses ...</td>\n",
       "      <td>7</td>\n",
       "      <td>Some flaws but generally a fine introduction t...</td>\n",
       "    </tr>\n",
       "  </tbody>\n",
       "</table>\n",
       "</div>"
      ],
      "text/plain": [
       "        review_date   movie_id     user_id  is_spoiler  \\\n",
       "0     18 March 2001  tt0101921   ur1105488       False   \n",
       "1     14 April 2012  tt0068646  ur26779655       False   \n",
       "2     26 March 2003  tt0285531   ur0332927       False   \n",
       "3  6 September 2015  tt2184339   ur3900348       False   \n",
       "4     18 April 2006  tt0120735   ur0345596       False   \n",
       "\n",
       "                                         review_text  rating  \\\n",
       "0  I love this movie, I watch it over and over! I...      10   \n",
       "1  Francis Ford Coppola was 33 years old in 1972....      10   \n",
       "2  Adaptation of King books always suffer form tr...       6   \n",
       "3  I passed on the Purge back when it was first r...      10   \n",
       "4  STAR RATING: ***** The Works **** Just Misses ...       7   \n",
       "\n",
       "                                      review_summary  \n",
       "0                One of the best movies I have seen!  \n",
       "1        Copollas Grand Entry--------and its Perfect  \n",
       "2  Well the movie is what the book was, not King ...  \n",
       "3  It pays to wait 2 years to see a movie hobbled...  \n",
       "4  Some flaws but generally a fine introduction t...  "
      ]
     },
     "execution_count": 66,
     "metadata": {},
     "output_type": "execute_result"
    }
   ],
   "source": [
    "df = pd.read_json('small_df.json', lines=True)\n",
    "df.head()"
   ]
  }
 ],
 "metadata": {
  "kernelspec": {
   "display_name": "Python 3",
   "language": "python",
   "name": "python3"
  },
  "language_info": {
   "codemirror_mode": {
    "name": "ipython",
    "version": 3
   },
   "file_extension": ".py",
   "mimetype": "text/x-python",
   "name": "python",
   "nbconvert_exporter": "python",
   "pygments_lexer": "ipython3",
   "version": "3.7.7"
  },
  "toc": {
   "base_numbering": 1,
   "nav_menu": {},
   "number_sections": true,
   "sideBar": true,
   "skip_h1_title": false,
   "title_cell": "Table of Contents",
   "title_sidebar": "Contents",
   "toc_cell": false,
   "toc_position": {},
   "toc_section_display": true,
   "toc_window_display": false
  }
 },
 "nbformat": 4,
 "nbformat_minor": 4
}
