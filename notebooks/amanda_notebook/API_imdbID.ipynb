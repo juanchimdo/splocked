{
 "cells": [
  {
   "cell_type": "code",
   "execution_count": 9,
   "metadata": {},
   "outputs": [],
   "source": [
    "import pandas as pd\n",
    "import numpy as np\n",
    "import requests\n",
    "from bs4 import BeautifulSoup as bsp"
   ]
  },
  {
   "cell_type": "code",
   "execution_count": 138,
   "metadata": {},
   "outputs": [],
   "source": [
    "title = 'Sausage Party'\n",
    "api_key = 'ca58a32b'\n",
    "api_url = 'http://www.omdbapi.com/'\n",
    "params = {'t':title.strip(' ').replace(' ', '+').title(), 'apikey':api_key}"
   ]
  },
  {
   "cell_type": "code",
   "execution_count": 139,
   "metadata": {},
   "outputs": [
    {
     "data": {
      "text/plain": [
       "'Sausage+Party'"
      ]
     },
     "execution_count": 139,
     "metadata": {},
     "output_type": "execute_result"
    }
   ],
   "source": [
    "params['t']"
   ]
  },
  {
   "cell_type": "code",
   "execution_count": 140,
   "metadata": {},
   "outputs": [],
   "source": [
    "response = requests.get(api_url, params = params).json()\n"
   ]
  },
  {
   "cell_type": "code",
   "execution_count": 141,
   "metadata": {},
   "outputs": [],
   "source": [
    "imdbID = response['imdbID']"
   ]
  },
  {
   "cell_type": "code",
   "execution_count": 142,
   "metadata": {},
   "outputs": [],
   "source": [
    "imdb_url = f'https://www.imdb.com/title/{imdbID}/reviews?ref_=tt_urv'\n",
    "\n",
    "response = requests.get(imdb_url)\n",
    "soup = bsp(response.content, \"html.parser\")"
   ]
  },
  {
   "cell_type": "code",
   "execution_count": 159,
   "metadata": {},
   "outputs": [],
   "source": [
    "import numpy as np\n",
    "import math\n",
    "movies = []\n",
    "for comment in soup.find_all(\"div\", class_=\"lister-item-content\"):\n",
    "    titles = comment.find(\"a\", class_=\"title\").string.rstrip('\\n').strip(' ')\n",
    "    rating = comment.find_all('span', class_='rating-other-user-rating')\n",
    "    comments = comment.find_all(\"div\", class_='text')\n",
    "    if not rating:\n",
    "        for cmt in comments:\n",
    "            movies.append({'title':titles, 'comment': cmt.text, 'rating':np.nan})\n",
    "    else:\n",
    "        for rates in rating:\n",
    "            user_rate = rates.find('span').text\n",
    "            for cmt in comments:\n",
    "                movies.append({'title':titles, 'comment': cmt.text, 'rating':math.ceil(int(user_rate)/2)})\n",
    "                \n",
    "comments_df = pd.DataFrame(movies)"
   ]
  },
  {
   "cell_type": "code",
   "execution_count": 160,
   "metadata": {},
   "outputs": [
    {
     "data": {
      "text/plain": [
       "numpy.float64"
      ]
     },
     "execution_count": 160,
     "metadata": {},
     "output_type": "execute_result"
    }
   ],
   "source": [
    "type(comments_df['rating'][0])"
   ]
  },
  {
   "cell_type": "code",
   "execution_count": 162,
   "metadata": {},
   "outputs": [
    {
     "data": {
      "text/html": [
       "<div>\n",
       "<style scoped>\n",
       "    .dataframe tbody tr th:only-of-type {\n",
       "        vertical-align: middle;\n",
       "    }\n",
       "\n",
       "    .dataframe tbody tr th {\n",
       "        vertical-align: top;\n",
       "    }\n",
       "\n",
       "    .dataframe thead th {\n",
       "        text-align: right;\n",
       "    }\n",
       "</style>\n",
       "<table border=\"1\" class=\"dataframe\">\n",
       "  <thead>\n",
       "    <tr style=\"text-align: right;\">\n",
       "      <th></th>\n",
       "      <th>title</th>\n",
       "      <th>comment</th>\n",
       "      <th>rating</th>\n",
       "    </tr>\n",
       "  </thead>\n",
       "  <tbody>\n",
       "    <tr>\n",
       "      <th>0</th>\n",
       "      <td>If this movie was a physical object, I'd kick ...</td>\n",
       "      <td>This film is the equivalent to a sixteen year ...</td>\n",
       "      <td>1.0</td>\n",
       "    </tr>\n",
       "    <tr>\n",
       "      <th>1</th>\n",
       "      <td>Lousy, Loud, Unfunny Garbage</td>\n",
       "      <td>If your idea of funny is excessive unnecessary...</td>\n",
       "      <td>1.0</td>\n",
       "    </tr>\n",
       "    <tr>\n",
       "      <th>2</th>\n",
       "      <td>My brain. It bleeds.</td>\n",
       "      <td>Have you ever seen a movie so terrible you cre...</td>\n",
       "      <td>1.0</td>\n",
       "    </tr>\n",
       "    <tr>\n",
       "      <th>3</th>\n",
       "      <td>More clever than it has any right to be.</td>\n",
       "      <td>I honestly didn't think I'd like this movie ne...</td>\n",
       "      <td>4.0</td>\n",
       "    </tr>\n",
       "    <tr>\n",
       "      <th>4</th>\n",
       "      <td>I hate myself for thinking this would be good</td>\n",
       "      <td>Before I start this review I'm telling you tha...</td>\n",
       "      <td>1.0</td>\n",
       "    </tr>\n",
       "    <tr>\n",
       "      <th>5</th>\n",
       "      <td>Vulgar, Crass and Incredibly Funny</td>\n",
       "      <td>Sausage Party is a foul, crass, mean-spirited ...</td>\n",
       "      <td>5.0</td>\n",
       "    </tr>\n",
       "    <tr>\n",
       "      <th>6</th>\n",
       "      <td>S**t Party</td>\n",
       "      <td>Here's the entire scriptFood 1: F**k Food 2: F...</td>\n",
       "      <td>1.0</td>\n",
       "    </tr>\n",
       "    <tr>\n",
       "      <th>7</th>\n",
       "      <td>An Obnoxiously Tedious Exercise in Bad Satire,...</td>\n",
       "      <td>Let me start off this review by saying I like ...</td>\n",
       "      <td>2.0</td>\n",
       "    </tr>\n",
       "    <tr>\n",
       "      <th>8</th>\n",
       "      <td>Animated Seth Rogen comedy is as funny and irr...</td>\n",
       "      <td>Seth Rogen and Evan Goldberg have reunited onc...</td>\n",
       "      <td>5.0</td>\n",
       "    </tr>\n",
       "    <tr>\n",
       "      <th>9</th>\n",
       "      <td>mediocre mess of a movie, lazy and uninspired</td>\n",
       "      <td>i went into this movie expecting to at least e...</td>\n",
       "      <td>1.0</td>\n",
       "    </tr>\n",
       "    <tr>\n",
       "      <th>10</th>\n",
       "      <td>A graphic religious allegory (and not for kids)</td>\n",
       "      <td>Nothing in the trailers will prepare you for t...</td>\n",
       "      <td>4.0</td>\n",
       "    </tr>\n",
       "    <tr>\n",
       "      <th>11</th>\n",
       "      <td>Um...</td>\n",
       "      <td>It was good until the orgy. No, seriously. It ...</td>\n",
       "      <td>1.0</td>\n",
       "    </tr>\n",
       "    <tr>\n",
       "      <th>12</th>\n",
       "      <td>why are there so many bad reviews?</td>\n",
       "      <td>This film was genuinely funny. What's the prob...</td>\n",
       "      <td>4.0</td>\n",
       "    </tr>\n",
       "    <tr>\n",
       "      <th>13</th>\n",
       "      <td>Best comedy of 2016</td>\n",
       "      <td>It's vulgar. Over the top. And completely hila...</td>\n",
       "      <td>5.0</td>\n",
       "    </tr>\n",
       "    <tr>\n",
       "      <th>14</th>\n",
       "      <td>Would have walked out if I had been alone</td>\n",
       "      <td>Interesting concept - the entirety of the inte...</td>\n",
       "      <td>1.0</td>\n",
       "    </tr>\n",
       "    <tr>\n",
       "      <th>15</th>\n",
       "      <td>Food Fight was better...that's how bad it was.</td>\n",
       "      <td>Here's the thing about propaganda films. If th...</td>\n",
       "      <td>1.0</td>\n",
       "    </tr>\n",
       "    <tr>\n",
       "      <th>16</th>\n",
       "      <td>I loved every minute of it!</td>\n",
       "      <td>It's crass, offensive and wild and I loved it ...</td>\n",
       "      <td>5.0</td>\n",
       "    </tr>\n",
       "    <tr>\n",
       "      <th>17</th>\n",
       "      <td>Why did I see this?</td>\n",
       "      <td>My brothers wanted to see this Friday. I thoug...</td>\n",
       "      <td>NaN</td>\n",
       "    </tr>\n",
       "    <tr>\n",
       "      <th>18</th>\n",
       "      <td>Leave The Kiddies At Home And Let The Good Tim...</td>\n",
       "      <td>Surprisingly clever adult animated film. It is...</td>\n",
       "      <td>5.0</td>\n",
       "    </tr>\n",
       "    <tr>\n",
       "      <th>19</th>\n",
       "      <td>You can't polish a t***</td>\n",
       "      <td>This is the movie that made me get an account ...</td>\n",
       "      <td>1.0</td>\n",
       "    </tr>\n",
       "    <tr>\n",
       "      <th>20</th>\n",
       "      <td>Well This Sucks</td>\n",
       "      <td>When I saw the trailer, I thought it would be ...</td>\n",
       "      <td>1.0</td>\n",
       "    </tr>\n",
       "    <tr>\n",
       "      <th>21</th>\n",
       "      <td>Boring and not funny</td>\n",
       "      <td>I expected a funny movie, it turned out to be ...</td>\n",
       "      <td>1.0</td>\n",
       "    </tr>\n",
       "    <tr>\n",
       "      <th>22</th>\n",
       "      <td>Weird, obscene and just plain out offensive bu...</td>\n",
       "      <td>Okay, to start this off: this movie is definit...</td>\n",
       "      <td>3.0</td>\n",
       "    </tr>\n",
       "    <tr>\n",
       "      <th>23</th>\n",
       "      <td>Just watch the trailers and you've seen it all</td>\n",
       "      <td>The movie wasn't funny. It's mostly just crude...</td>\n",
       "      <td>1.0</td>\n",
       "    </tr>\n",
       "    <tr>\n",
       "      <th>24</th>\n",
       "      <td>Smart , Funny and not for everyone</td>\n",
       "      <td>Let me start by saying that i read reviews fro...</td>\n",
       "      <td>5.0</td>\n",
       "    </tr>\n",
       "  </tbody>\n",
       "</table>\n",
       "</div>"
      ],
      "text/plain": [
       "                                                title  \\\n",
       "0   If this movie was a physical object, I'd kick ...   \n",
       "1                        Lousy, Loud, Unfunny Garbage   \n",
       "2                                My brain. It bleeds.   \n",
       "3            More clever than it has any right to be.   \n",
       "4       I hate myself for thinking this would be good   \n",
       "5                  Vulgar, Crass and Incredibly Funny   \n",
       "6                                          S**t Party   \n",
       "7   An Obnoxiously Tedious Exercise in Bad Satire,...   \n",
       "8   Animated Seth Rogen comedy is as funny and irr...   \n",
       "9       mediocre mess of a movie, lazy and uninspired   \n",
       "10    A graphic religious allegory (and not for kids)   \n",
       "11                                              Um...   \n",
       "12                 why are there so many bad reviews?   \n",
       "13                                Best comedy of 2016   \n",
       "14          Would have walked out if I had been alone   \n",
       "15     Food Fight was better...that's how bad it was.   \n",
       "16                        I loved every minute of it!   \n",
       "17                                Why did I see this?   \n",
       "18  Leave The Kiddies At Home And Let The Good Tim...   \n",
       "19                            You can't polish a t***   \n",
       "20                                    Well This Sucks   \n",
       "21                               Boring and not funny   \n",
       "22  Weird, obscene and just plain out offensive bu...   \n",
       "23     Just watch the trailers and you've seen it all   \n",
       "24                 Smart , Funny and not for everyone   \n",
       "\n",
       "                                              comment  rating  \n",
       "0   This film is the equivalent to a sixteen year ...     1.0  \n",
       "1   If your idea of funny is excessive unnecessary...     1.0  \n",
       "2   Have you ever seen a movie so terrible you cre...     1.0  \n",
       "3   I honestly didn't think I'd like this movie ne...     4.0  \n",
       "4   Before I start this review I'm telling you tha...     1.0  \n",
       "5   Sausage Party is a foul, crass, mean-spirited ...     5.0  \n",
       "6   Here's the entire scriptFood 1: F**k Food 2: F...     1.0  \n",
       "7   Let me start off this review by saying I like ...     2.0  \n",
       "8   Seth Rogen and Evan Goldberg have reunited onc...     5.0  \n",
       "9   i went into this movie expecting to at least e...     1.0  \n",
       "10  Nothing in the trailers will prepare you for t...     4.0  \n",
       "11  It was good until the orgy. No, seriously. It ...     1.0  \n",
       "12  This film was genuinely funny. What's the prob...     4.0  \n",
       "13  It's vulgar. Over the top. And completely hila...     5.0  \n",
       "14  Interesting concept - the entirety of the inte...     1.0  \n",
       "15  Here's the thing about propaganda films. If th...     1.0  \n",
       "16  It's crass, offensive and wild and I loved it ...     5.0  \n",
       "17  My brothers wanted to see this Friday. I thoug...     NaN  \n",
       "18  Surprisingly clever adult animated film. It is...     5.0  \n",
       "19  This is the movie that made me get an account ...     1.0  \n",
       "20  When I saw the trailer, I thought it would be ...     1.0  \n",
       "21  I expected a funny movie, it turned out to be ...     1.0  \n",
       "22  Okay, to start this off: this movie is definit...     3.0  \n",
       "23  The movie wasn't funny. It's mostly just crude...     1.0  \n",
       "24  Let me start by saying that i read reviews fro...     5.0  "
      ]
     },
     "execution_count": 162,
     "metadata": {},
     "output_type": "execute_result"
    }
   ],
   "source": [
    "comments_df"
   ]
  },
  {
   "cell_type": "code",
   "execution_count": 79,
   "metadata": {},
   "outputs": [],
   "source": [
    "movie_url = 'https://www.imdb.com/title/tt0468569'\n",
    "response = requests.get(movie_url)\n",
    "soup = bsp(response.content, \"html.parser\")"
   ]
  },
  {
   "cell_type": "code",
   "execution_count": 80,
   "metadata": {},
   "outputs": [],
   "source": [
    "poster = soup.find(\"div\", class_='poster')\n",
    "for img in poster.find_all('img'):\n",
    "    image = img.get('src')"
   ]
  },
  {
   "cell_type": "code",
   "execution_count": 81,
   "metadata": {},
   "outputs": [
    {
     "data": {
      "text/plain": [
       "'https://m.media-amazon.com/images/M/MV5BMTMxNTMwODM0NF5BMl5BanBnXkFtZTcwODAyMTk2Mw@@._V1_UX182_CR0,0,182,268_AL_.jpg'"
      ]
     },
     "execution_count": 81,
     "metadata": {},
     "output_type": "execute_result"
    }
   ],
   "source": [
    "image"
   ]
  },
  {
   "cell_type": "code",
   "execution_count": 87,
   "metadata": {},
   "outputs": [],
   "source": [
    "movie_title = soup.find(\"div\", class_='originalTitle')\\\n",
    ".text.rstrip('original title)')\\\n",
    ".rstrip(' (')"
   ]
  },
  {
   "cell_type": "code",
   "execution_count": 88,
   "metadata": {},
   "outputs": [
    {
     "data": {
      "text/plain": [
       "'The Dark Knight'"
      ]
     },
     "execution_count": 88,
     "metadata": {},
     "output_type": "execute_result"
    }
   ],
   "source": [
    "movie_title"
   ]
  },
  {
   "cell_type": "code",
   "execution_count": 89,
   "metadata": {},
   "outputs": [
    {
     "data": {
      "text/plain": [
       "'When the menace known as the Joker wreaks havoc and chaos on the people of Gotham, Batman must accept one of the greatest psychological and physical tests of his ability to fight injustice.'"
      ]
     },
     "execution_count": 89,
     "metadata": {},
     "output_type": "execute_result"
    }
   ],
   "source": [
    "summary_txt = soup.find(\"div\", class_='summary_text').text.lstrip('\\n').strip().rstrip('\\n')\n",
    "summary_txt"
   ]
  },
  {
   "cell_type": "code",
   "execution_count": null,
   "metadata": {},
   "outputs": [],
   "source": []
  }
 ],
 "metadata": {
  "kernelspec": {
   "display_name": "Python 3",
   "language": "python",
   "name": "python3"
  },
  "language_info": {
   "codemirror_mode": {
    "name": "ipython",
    "version": 3
   },
   "file_extension": ".py",
   "mimetype": "text/x-python",
   "name": "python",
   "nbconvert_exporter": "python",
   "pygments_lexer": "ipython3",
   "version": "3.7.7"
  },
  "toc": {
   "base_numbering": 1,
   "nav_menu": {},
   "number_sections": true,
   "sideBar": true,
   "skip_h1_title": false,
   "title_cell": "Table of Contents",
   "title_sidebar": "Contents",
   "toc_cell": false,
   "toc_position": {},
   "toc_section_display": true,
   "toc_window_display": false
  },
  "varInspector": {
   "cols": {
    "lenName": 16,
    "lenType": 16,
    "lenVar": 40
   },
   "kernels_config": {
    "python": {
     "delete_cmd_postfix": "",
     "delete_cmd_prefix": "del ",
     "library": "var_list.py",
     "varRefreshCmd": "print(var_dic_list())"
    },
    "r": {
     "delete_cmd_postfix": ") ",
     "delete_cmd_prefix": "rm(",
     "library": "var_list.r",
     "varRefreshCmd": "cat(var_dic_list()) "
    }
   },
   "types_to_exclude": [
    "module",
    "function",
    "builtin_function_or_method",
    "instance",
    "_Feature"
   ],
   "window_display": false
  }
 },
 "nbformat": 4,
 "nbformat_minor": 4
}
