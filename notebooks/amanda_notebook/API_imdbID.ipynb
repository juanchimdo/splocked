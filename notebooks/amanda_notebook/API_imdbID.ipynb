{
 "cells": [
  {
   "cell_type": "code",
   "execution_count": 1,
   "metadata": {},
   "outputs": [],
   "source": [
    "import pandas as pd\n",
    "import numpy as np\n",
    "import requests\n",
    "from bs4 import BeautifulSoup as bsp"
   ]
  },
  {
   "cell_type": "code",
   "execution_count": 16,
   "metadata": {},
   "outputs": [],
   "source": [
    "title = 'the notebook'\n",
    "api_key = 'ca58a32b'\n",
    "api_url = 'http://www.omdbapi.com/'\n",
    "params = {'t':title.strip(' ').replace(' ', '+').title(), 'apikey':api_key}"
   ]
  },
  {
   "cell_type": "code",
   "execution_count": 17,
   "metadata": {},
   "outputs": [
    {
     "data": {
      "text/plain": [
       "'The+Notebook'"
      ]
     },
     "execution_count": 17,
     "metadata": {},
     "output_type": "execute_result"
    }
   ],
   "source": [
    "params['t']"
   ]
  },
  {
   "cell_type": "code",
   "execution_count": 18,
   "metadata": {},
   "outputs": [],
   "source": [
    "response = requests.get(api_url, params = params).json()\n"
   ]
  },
  {
   "cell_type": "code",
   "execution_count": 19,
   "metadata": {},
   "outputs": [],
   "source": [
    "imdbID = response['imdbID']"
   ]
  },
  {
   "cell_type": "code",
   "execution_count": 20,
   "metadata": {},
   "outputs": [],
   "source": [
    "imdb_url = f'https://www.imdb.com/title/{imdbID}/reviews?ref_=tt_urv'\n",
    "\n",
    "response = requests.get(imdb_url)\n",
    "soup = bsp(response.content, \"html.parser\")"
   ]
  },
  {
   "cell_type": "code",
   "execution_count": 21,
   "metadata": {},
   "outputs": [],
   "source": [
    "movies = []\n",
    "for comment in soup.find_all(\"div\", class_=\"lister-item-content\"):\n",
    "    titles = comment.find(\"a\", class_=\"title\").string.rstrip('\\n').strip(' ')\n",
    "    comments = comment.find_all(\"div\", class_='text')\n",
    "    for cmt in comments:\n",
    "        movies.append({'title':titles, 'comment': cmt.text})"
   ]
  },
  {
   "cell_type": "code",
   "execution_count": 22,
   "metadata": {},
   "outputs": [
    {
     "data": {
      "text/html": [
       "<div>\n",
       "<style scoped>\n",
       "    .dataframe tbody tr th:only-of-type {\n",
       "        vertical-align: middle;\n",
       "    }\n",
       "\n",
       "    .dataframe tbody tr th {\n",
       "        vertical-align: top;\n",
       "    }\n",
       "\n",
       "    .dataframe thead th {\n",
       "        text-align: right;\n",
       "    }\n",
       "</style>\n",
       "<table border=\"1\" class=\"dataframe\">\n",
       "  <thead>\n",
       "    <tr style=\"text-align: right;\">\n",
       "      <th></th>\n",
       "      <th>title</th>\n",
       "      <th>comment</th>\n",
       "    </tr>\n",
       "  </thead>\n",
       "  <tbody>\n",
       "    <tr>\n",
       "      <th>0</th>\n",
       "      <td>the notebook was a truly remarkable film</td>\n",
       "      <td>In all honesty, my Dad paid me to go see the N...</td>\n",
       "    </tr>\n",
       "    <tr>\n",
       "      <th>1</th>\n",
       "      <td>Beautiful</td>\n",
       "      <td>I went to see this film with my sister and my ...</td>\n",
       "    </tr>\n",
       "    <tr>\n",
       "      <th>2</th>\n",
       "      <td>SImple but wonderful</td>\n",
       "      <td>This movie seems to be postcard perfect, a les...</td>\n",
       "    </tr>\n",
       "    <tr>\n",
       "      <th>3</th>\n",
       "      <td>The Notebook : Based on the novel by Nicholas ...</td>\n",
       "      <td>Often times when a movie comes from source mat...</td>\n",
       "    </tr>\n",
       "    <tr>\n",
       "      <th>4</th>\n",
       "      <td>Just beautiful!</td>\n",
       "      <td>This amazing love story can be enjoyed by all....</td>\n",
       "    </tr>\n",
       "    <tr>\n",
       "      <th>5</th>\n",
       "      <td>An Heartwarming movie that makes your insides ...</td>\n",
       "      <td>I went into this movie with the misconception ...</td>\n",
       "    </tr>\n",
       "    <tr>\n",
       "      <th>6</th>\n",
       "      <td>Unabashedly Romantic and Sentimental. It's Sto...</td>\n",
       "      <td>This story plays out as Duke, played by James ...</td>\n",
       "    </tr>\n",
       "    <tr>\n",
       "      <th>7</th>\n",
       "      <td>Moves you deeply</td>\n",
       "      <td>The Notebook is one of my all-time favourite m...</td>\n",
       "    </tr>\n",
       "    <tr>\n",
       "      <th>8</th>\n",
       "      <td>I have not been so moved by a movie before!</td>\n",
       "      <td>I am a big fan of love stories. Lately, the fi...</td>\n",
       "    </tr>\n",
       "    <tr>\n",
       "      <th>9</th>\n",
       "      <td>My Favorite Scene was the One with the Geese, ...</td>\n",
       "      <td>Prior to watching \"The Notebook,\" I was not fa...</td>\n",
       "    </tr>\n",
       "    <tr>\n",
       "      <th>10</th>\n",
       "      <td>This one got to me because I lost someone that...</td>\n",
       "      <td>I hesitated to watch this movie for almost 2 y...</td>\n",
       "    </tr>\n",
       "    <tr>\n",
       "      <th>11</th>\n",
       "      <td>i cried ok i'm gonna admit it</td>\n",
       "      <td>Hear me out lads i do not cry during movies ok...</td>\n",
       "    </tr>\n",
       "    <tr>\n",
       "      <th>12</th>\n",
       "      <td>Cry Me a River.</td>\n",
       "      <td>Heartwarming, heart-wrenching, poignant, emoti...</td>\n",
       "    </tr>\n",
       "    <tr>\n",
       "      <th>13</th>\n",
       "      <td>Beautiful and Sensitive Romance</td>\n",
       "      <td>In a nursing home, the resident Duke (James Ga...</td>\n",
       "    </tr>\n",
       "    <tr>\n",
       "      <th>14</th>\n",
       "      <td>The best love movie i've seen</td>\n",
       "      <td>Although they're fun to watch, most love movie...</td>\n",
       "    </tr>\n",
       "    <tr>\n",
       "      <th>15</th>\n",
       "      <td>Like a poorly made \"Hallmark Hall of Fame\" spe...</td>\n",
       "      <td>I think most of the folks who rated this movie...</td>\n",
       "    </tr>\n",
       "    <tr>\n",
       "      <th>16</th>\n",
       "      <td>Shallow and sugar coated to the point of becom...</td>\n",
       "      <td>It's not that I dislike romance anything but t...</td>\n",
       "    </tr>\n",
       "    <tr>\n",
       "      <th>17</th>\n",
       "      <td>The worst film I've seen in a decade</td>\n",
       "      <td>My wife and I watched The Notebook last night....</td>\n",
       "    </tr>\n",
       "    <tr>\n",
       "      <th>18</th>\n",
       "      <td>this is an awful movie</td>\n",
       "      <td>It's the most cheesiest movie I have ever watc...</td>\n",
       "    </tr>\n",
       "    <tr>\n",
       "      <th>19</th>\n",
       "      <td>I'm not afraid to hurt your last living brain ...</td>\n",
       "      <td>\"I am no one special. Just a common man with c...</td>\n",
       "    </tr>\n",
       "    <tr>\n",
       "      <th>20</th>\n",
       "      <td>awful</td>\n",
       "      <td>one of the worst films i have ever seen. poor ...</td>\n",
       "    </tr>\n",
       "    <tr>\n",
       "      <th>21</th>\n",
       "      <td>Milk of amnesia</td>\n",
       "      <td>SPOILERS THROUGHOUT. 'The Notebook' is the 17,...</td>\n",
       "    </tr>\n",
       "    <tr>\n",
       "      <th>22</th>\n",
       "      <td>The mother of all the clichés</td>\n",
       "      <td>Why this movie is rated so high is beyond me. ...</td>\n",
       "    </tr>\n",
       "    <tr>\n",
       "      <th>23</th>\n",
       "      <td>A Great Love Story</td>\n",
       "      <td>This was one of the greatest love stories that...</td>\n",
       "    </tr>\n",
       "    <tr>\n",
       "      <th>24</th>\n",
       "      <td>cliché of the clichés...</td>\n",
       "      <td>there are three things I look for in movies, q...</td>\n",
       "    </tr>\n",
       "  </tbody>\n",
       "</table>\n",
       "</div>"
      ],
      "text/plain": [
       "                                                title  \\\n",
       "0            the notebook was a truly remarkable film   \n",
       "1                                           Beautiful   \n",
       "2                                SImple but wonderful   \n",
       "3   The Notebook : Based on the novel by Nicholas ...   \n",
       "4                                     Just beautiful!   \n",
       "5   An Heartwarming movie that makes your insides ...   \n",
       "6   Unabashedly Romantic and Sentimental. It's Sto...   \n",
       "7                                    Moves you deeply   \n",
       "8         I have not been so moved by a movie before!   \n",
       "9   My Favorite Scene was the One with the Geese, ...   \n",
       "10  This one got to me because I lost someone that...   \n",
       "11                      i cried ok i'm gonna admit it   \n",
       "12                                    Cry Me a River.   \n",
       "13                    Beautiful and Sensitive Romance   \n",
       "14                      The best love movie i've seen   \n",
       "15  Like a poorly made \"Hallmark Hall of Fame\" spe...   \n",
       "16  Shallow and sugar coated to the point of becom...   \n",
       "17               The worst film I've seen in a decade   \n",
       "18                             this is an awful movie   \n",
       "19  I'm not afraid to hurt your last living brain ...   \n",
       "20                                              awful   \n",
       "21                                    Milk of amnesia   \n",
       "22                      The mother of all the clichés   \n",
       "23                                 A Great Love Story   \n",
       "24                           cliché of the clichés...   \n",
       "\n",
       "                                              comment  \n",
       "0   In all honesty, my Dad paid me to go see the N...  \n",
       "1   I went to see this film with my sister and my ...  \n",
       "2   This movie seems to be postcard perfect, a les...  \n",
       "3   Often times when a movie comes from source mat...  \n",
       "4   This amazing love story can be enjoyed by all....  \n",
       "5   I went into this movie with the misconception ...  \n",
       "6   This story plays out as Duke, played by James ...  \n",
       "7   The Notebook is one of my all-time favourite m...  \n",
       "8   I am a big fan of love stories. Lately, the fi...  \n",
       "9   Prior to watching \"The Notebook,\" I was not fa...  \n",
       "10  I hesitated to watch this movie for almost 2 y...  \n",
       "11  Hear me out lads i do not cry during movies ok...  \n",
       "12  Heartwarming, heart-wrenching, poignant, emoti...  \n",
       "13  In a nursing home, the resident Duke (James Ga...  \n",
       "14  Although they're fun to watch, most love movie...  \n",
       "15  I think most of the folks who rated this movie...  \n",
       "16  It's not that I dislike romance anything but t...  \n",
       "17  My wife and I watched The Notebook last night....  \n",
       "18  It's the most cheesiest movie I have ever watc...  \n",
       "19  \"I am no one special. Just a common man with c...  \n",
       "20  one of the worst films i have ever seen. poor ...  \n",
       "21  SPOILERS THROUGHOUT. 'The Notebook' is the 17,...  \n",
       "22  Why this movie is rated so high is beyond me. ...  \n",
       "23  This was one of the greatest love stories that...  \n",
       "24  there are three things I look for in movies, q...  "
      ]
     },
     "execution_count": 22,
     "metadata": {},
     "output_type": "execute_result"
    }
   ],
   "source": [
    "pd.DataFrame(movies)"
   ]
  },
  {
   "cell_type": "code",
   "execution_count": null,
   "metadata": {},
   "outputs": [],
   "source": []
  }
 ],
 "metadata": {
  "kernelspec": {
   "display_name": "Python 3",
   "language": "python",
   "name": "python3"
  },
  "language_info": {
   "codemirror_mode": {
    "name": "ipython",
    "version": 3
   },
   "file_extension": ".py",
   "mimetype": "text/x-python",
   "name": "python",
   "nbconvert_exporter": "python",
   "pygments_lexer": "ipython3",
   "version": "3.7.7"
  },
  "toc": {
   "base_numbering": 1,
   "nav_menu": {},
   "number_sections": true,
   "sideBar": true,
   "skip_h1_title": false,
   "title_cell": "Table of Contents",
   "title_sidebar": "Contents",
   "toc_cell": false,
   "toc_position": {},
   "toc_section_display": true,
   "toc_window_display": false
  },
  "varInspector": {
   "cols": {
    "lenName": 16,
    "lenType": 16,
    "lenVar": 40
   },
   "kernels_config": {
    "python": {
     "delete_cmd_postfix": "",
     "delete_cmd_prefix": "del ",
     "library": "var_list.py",
     "varRefreshCmd": "print(var_dic_list())"
    },
    "r": {
     "delete_cmd_postfix": ") ",
     "delete_cmd_prefix": "rm(",
     "library": "var_list.r",
     "varRefreshCmd": "cat(var_dic_list()) "
    }
   },
   "types_to_exclude": [
    "module",
    "function",
    "builtin_function_or_method",
    "instance",
    "_Feature"
   ],
   "window_display": false
  }
 },
 "nbformat": 4,
 "nbformat_minor": 4
}
