{
  "nbformat": 4,
  "nbformat_minor": 0,
  "metadata": {
    "kernelspec": {
      "display_name": "Python 3",
      "language": "python",
      "name": "python3"
    },
    "language_info": {
      "codemirror_mode": {
        "name": "ipython",
        "version": 3
      },
      "file_extension": ".py",
      "mimetype": "text/x-python",
      "name": "python",
      "nbconvert_exporter": "python",
      "pygments_lexer": "ipython3",
      "version": "3.7.7"
    },
    "varInspector": {
      "cols": {
        "lenName": 16,
        "lenType": 16,
        "lenVar": 40
      },
      "kernels_config": {
        "python": {
          "delete_cmd_postfix": "",
          "delete_cmd_prefix": "del ",
          "library": "var_list.py",
          "varRefreshCmd": "print(var_dic_list())"
        },
        "r": {
          "delete_cmd_postfix": ") ",
          "delete_cmd_prefix": "rm(",
          "library": "var_list.r",
          "varRefreshCmd": "cat(var_dic_list()) "
        }
      },
      "types_to_exclude": [
        "module",
        "function",
        "builtin_function_or_method",
        "instance",
        "_Feature"
      ],
      "window_display": false
    },
    "colab": {
      "name": "Multinomial_Model.ipynb",
      "provenance": []
    },
    "accelerator": "GPU"
  },
  "cells": [
    {
      "cell_type": "markdown",
      "metadata": {
        "id": "4ojpnEgBmlRF"
      },
      "source": [
        "1. Data Prep"
      ]
    },
    {
      "cell_type": "code",
      "metadata": {
        "id": "v6ZTRpzolrpU"
      },
      "source": [
        "import pandas as pd\n",
        "import numpy as np"
      ],
      "execution_count": 1,
      "outputs": []
    },
    {
      "cell_type": "code",
      "metadata": {
        "colab": {
          "base_uri": "https://localhost:8080/"
        },
        "id": "8FFtJp7omFCE",
        "outputId": "8054bab7-d3c4-41a7-afed-985a274f6e3c"
      },
      "source": [
        "from google.colab import drive\n",
        "drive.mount('/content/drive')"
      ],
      "execution_count": 2,
      "outputs": [
        {
          "output_type": "stream",
          "text": [
            "Mounted at /content/drive\n"
          ],
          "name": "stdout"
        }
      ]
    },
    {
      "cell_type": "code",
      "metadata": {
        "id": "ddKP11gxlrpV"
      },
      "source": [
        "df = pd.read_csv('/content/drive/My Drive/Colab Notebooks/data_cleaned_stem_v4.csv' )"
      ],
      "execution_count": 3,
      "outputs": []
    },
    {
      "cell_type": "code",
      "metadata": {
        "colab": {
          "base_uri": "https://localhost:8080/",
          "height": 204
        },
        "id": "F8wmjbHAmjwO",
        "outputId": "f2189662-8a10-4fff-edfc-4b70742b685e"
      },
      "source": [
        "df.head()"
      ],
      "execution_count": 4,
      "outputs": [
        {
          "output_type": "execute_result",
          "data": {
            "text/html": [
              "<div>\n",
              "<style scoped>\n",
              "    .dataframe tbody tr th:only-of-type {\n",
              "        vertical-align: middle;\n",
              "    }\n",
              "\n",
              "    .dataframe tbody tr th {\n",
              "        vertical-align: top;\n",
              "    }\n",
              "\n",
              "    .dataframe thead th {\n",
              "        text-align: right;\n",
              "    }\n",
              "</style>\n",
              "<table border=\"1\" class=\"dataframe\">\n",
              "  <thead>\n",
              "    <tr style=\"text-align: right;\">\n",
              "      <th></th>\n",
              "      <th>is_spoiler_label</th>\n",
              "      <th>full_summary_clean</th>\n",
              "    </tr>\n",
              "  </thead>\n",
              "  <tbody>\n",
              "    <tr>\n",
              "      <th>0</th>\n",
              "      <td>1</td>\n",
              "      <td>classic piec unforgett film make oscar year sh...</td>\n",
              "    </tr>\n",
              "    <tr>\n",
              "      <th>1</th>\n",
              "      <td>1</td>\n",
              "      <td>simpli amaz best film shawshank redempt withou...</td>\n",
              "    </tr>\n",
              "    <tr>\n",
              "      <th>2</th>\n",
              "      <td>1</td>\n",
              "      <td>best stori ever told film believ film best sto...</td>\n",
              "    </tr>\n",
              "    <tr>\n",
              "      <th>3</th>\n",
              "      <td>1</td>\n",
              "      <td>busi die busi live ye spoiler film emot impact...</td>\n",
              "    </tr>\n",
              "    <tr>\n",
              "      <th>4</th>\n",
              "      <td>1</td>\n",
              "      <td>great stori wondrous told act heart extraordin...</td>\n",
              "    </tr>\n",
              "  </tbody>\n",
              "</table>\n",
              "</div>"
            ],
            "text/plain": [
              "   is_spoiler_label                                 full_summary_clean\n",
              "0                 1  classic piec unforgett film make oscar year sh...\n",
              "1                 1  simpli amaz best film shawshank redempt withou...\n",
              "2                 1  best stori ever told film believ film best sto...\n",
              "3                 1  busi die busi live ye spoiler film emot impact...\n",
              "4                 1  great stori wondrous told act heart extraordin..."
            ]
          },
          "metadata": {
            "tags": []
          },
          "execution_count": 4
        }
      ]
    },
    {
      "cell_type": "code",
      "metadata": {
        "colab": {
          "base_uri": "https://localhost:8080/"
        },
        "id": "l4uFmTjbmuSJ",
        "outputId": "7908c6f9-aef9-434f-df80-2ba76cf99623"
      },
      "source": [
        "df.shape\n"
      ],
      "execution_count": 5,
      "outputs": [
        {
          "output_type": "execute_result",
          "data": {
            "text/plain": [
              "(573913, 2)"
            ]
          },
          "metadata": {
            "tags": []
          },
          "execution_count": 5
        }
      ]
    },
    {
      "cell_type": "code",
      "metadata": {
        "id": "n1S6HIkzmybZ"
      },
      "source": [
        "df_sample = df.sample(frac = 0.1) "
      ],
      "execution_count": 8,
      "outputs": []
    },
    {
      "cell_type": "code",
      "metadata": {
        "colab": {
          "base_uri": "https://localhost:8080/"
        },
        "id": "qriZ_9WYpDTu",
        "outputId": "cf17eb75-d799-45f6-f214-65140febd1f0"
      },
      "source": [
        "df_sample['is_spoiler_label'].value_counts()"
      ],
      "execution_count": 9,
      "outputs": [
        {
          "output_type": "execute_result",
          "data": {
            "text/plain": [
              "0    42178\n",
              "1    15213\n",
              "Name: is_spoiler_label, dtype: int64"
            ]
          },
          "metadata": {
            "tags": []
          },
          "execution_count": 9
        }
      ]
    },
    {
      "cell_type": "markdown",
      "metadata": {
        "id": "qogRjX-CqeIg"
      },
      "source": [
        "2. Model"
      ]
    },
    {
      "cell_type": "code",
      "metadata": {
        "id": "4_-o5tu-r30E"
      },
      "source": [
        "from sklearn.model_selection import train_test_split\n",
        "\n",
        "X_train, X_test, y_train, y_test = train_test_split( df_sample['full_summary_clean'], df_sample['is_spoiler_label'], test_size=0.2, random_state=42)"
      ],
      "execution_count": 10,
      "outputs": []
    },
    {
      "cell_type": "code",
      "metadata": {
        "colab": {
          "base_uri": "https://localhost:8080/"
        },
        "id": "yD2IzF29qtcs",
        "outputId": "f6e35c6b-ce37-420a-cf6d-204966a78aa8"
      },
      "source": [
        "%%time\n",
        "from sklearn.model_selection import GridSearchCV\n",
        "from sklearn.pipeline import Pipeline\n",
        "from sklearn.feature_extraction.text import TfidfVectorizer\n",
        "from sklearn.naive_bayes import MultinomialNB\n",
        "\n",
        "# Create Pipeline\n",
        "pipeline = Pipeline([\n",
        "    ('tfidf', TfidfVectorizer()),\n",
        "    ('nb', MultinomialNB()),\n",
        "])\n",
        "\n",
        "# Set parameters to search\n",
        "parameters = {\n",
        "    'tfidf__ngram_range': ((1,1), (1,2)),\n",
        "    'tfidf__min_df': (0.1, 0.2),\n",
        "    'tfidf__max_df': (0.75, 1),\n",
        "    'nb__alpha': (1,)}\n",
        "\n",
        "# Perform grid search on pipeline\n",
        "grid_search = GridSearchCV(pipeline, parameters, n_jobs=-1, \n",
        "                           verbose=1, scoring = \"recall\", \n",
        "                           refit=True, cv=5)\n",
        "\n",
        "grid_search.fit(X_train,y_train)"
      ],
      "execution_count": 11,
      "outputs": [
        {
          "output_type": "stream",
          "text": [
            "Fitting 5 folds for each of 8 candidates, totalling 40 fits\n"
          ],
          "name": "stdout"
        },
        {
          "output_type": "stream",
          "text": [
            "[Parallel(n_jobs=-1)]: Using backend LokyBackend with 2 concurrent workers.\n",
            "/usr/local/lib/python3.6/dist-packages/joblib/externals/loky/process_executor.py:691: UserWarning: A worker stopped while some jobs were given to the executor. This can be caused by a too short worker timeout or by a memory leak.\n",
            "  \"timeout or by a memory leak.\", UserWarning\n",
            "[Parallel(n_jobs=-1)]: Done  40 out of  40 | elapsed:  5.8min finished\n"
          ],
          "name": "stderr"
        },
        {
          "output_type": "stream",
          "text": [
            "CPU times: user 9.2 s, sys: 939 ms, total: 10.1 s\n",
            "Wall time: 5min 50s\n"
          ],
          "name": "stdout"
        }
      ]
    },
    {
      "cell_type": "code",
      "metadata": {
        "colab": {
          "base_uri": "https://localhost:8080/"
        },
        "id": "R4HCoA8nuGXk",
        "outputId": "50551ecd-fed2-4d8e-c7e0-5d4e4e996f66"
      },
      "source": [
        "grid_search.best_params_"
      ],
      "execution_count": 12,
      "outputs": [
        {
          "output_type": "execute_result",
          "data": {
            "text/plain": [
              "{'nb__alpha': 1,\n",
              " 'tfidf__max_df': 0.75,\n",
              " 'tfidf__min_df': 0.1,\n",
              " 'tfidf__ngram_range': (1, 1)}"
            ]
          },
          "metadata": {
            "tags": []
          },
          "execution_count": 12
        }
      ]
    },
    {
      "cell_type": "code",
      "metadata": {
        "colab": {
          "base_uri": "https://localhost:8080/"
        },
        "id": "aDJyvChJ50bn",
        "outputId": "9b5c61fa-60a1-47ee-daae-519b6490aec0"
      },
      "source": [
        "grid_search.best_estimator_"
      ],
      "execution_count": 13,
      "outputs": [
        {
          "output_type": "execute_result",
          "data": {
            "text/plain": [
              "Pipeline(memory=None,\n",
              "         steps=[('tfidf',\n",
              "                 TfidfVectorizer(analyzer='word', binary=False,\n",
              "                                 decode_error='strict',\n",
              "                                 dtype=<class 'numpy.float64'>,\n",
              "                                 encoding='utf-8', input='content',\n",
              "                                 lowercase=True, max_df=0.75, max_features=None,\n",
              "                                 min_df=0.1, ngram_range=(1, 1), norm='l2',\n",
              "                                 preprocessor=None, smooth_idf=True,\n",
              "                                 stop_words=None, strip_accents=None,\n",
              "                                 sublinear_tf=False,\n",
              "                                 token_pattern='(?u)\\\\b\\\\w\\\\w+\\\\b',\n",
              "                                 tokenizer=None, use_idf=True,\n",
              "                                 vocabulary=None)),\n",
              "                ('nb',\n",
              "                 MultinomialNB(alpha=1, class_prior=None, fit_prior=True))],\n",
              "         verbose=False)"
            ]
          },
          "metadata": {
            "tags": []
          },
          "execution_count": 13
        }
      ]
    },
    {
      "cell_type": "code",
      "metadata": {
        "id": "RCG94CE85895"
      },
      "source": [
        "best_pipe = grid_search.best_estimator_"
      ],
      "execution_count": 14,
      "outputs": []
    },
    {
      "cell_type": "code",
      "metadata": {
        "id": "B-FmdNpF6APH"
      },
      "source": [
        "vectorizer = best_pipe.named_steps['tfidf']\n"
      ],
      "execution_count": 15,
      "outputs": []
    },
    {
      "cell_type": "code",
      "metadata": {
        "colab": {
          "base_uri": "https://localhost:8080/"
        },
        "id": "BPXkt1lx6RWL",
        "outputId": "bd2550e2-c147-40b3-fe00-5cbacc050047"
      },
      "source": [
        "vectorizer.get_feature_names()\n"
      ],
      "execution_count": 16,
      "outputs": [
        {
          "output_type": "execute_result",
          "data": {
            "text/plain": [
              "['act',\n",
              " 'action',\n",
              " 'actor',\n",
              " 'actual',\n",
              " 'almost',\n",
              " 'also',\n",
              " 'alway',\n",
              " 'amaz',\n",
              " 'anoth',\n",
              " 'anyth',\n",
              " 'around',\n",
              " 'audienc',\n",
              " 'away',\n",
              " 'back',\n",
              " 'bad',\n",
              " 'beauti',\n",
              " 'becom',\n",
              " 'begin',\n",
              " 'believ',\n",
              " 'best',\n",
              " 'better',\n",
              " 'big',\n",
              " 'bit',\n",
              " 'book',\n",
              " 'cast',\n",
              " 'charact',\n",
              " 'come',\n",
              " 'comedi',\n",
              " 'complet',\n",
              " 'could',\n",
              " 'day',\n",
              " 'differ',\n",
              " 'direct',\n",
              " 'director',\n",
              " 'disappoint',\n",
              " 'done',\n",
              " 'effect',\n",
              " 'emot',\n",
              " 'end',\n",
              " 'enjoy',\n",
              " 'enough',\n",
              " 'entertain',\n",
              " 'especi',\n",
              " 'even',\n",
              " 'ever',\n",
              " 'everi',\n",
              " 'everyon',\n",
              " 'everyth',\n",
              " 'excel',\n",
              " 'expect',\n",
              " 'fact',\n",
              " 'fan',\n",
              " 'far',\n",
              " 'feel',\n",
              " 'film',\n",
              " 'final',\n",
              " 'find',\n",
              " 'first',\n",
              " 'fun',\n",
              " 'funni',\n",
              " 'get',\n",
              " 'give',\n",
              " 'go',\n",
              " 'good',\n",
              " 'got',\n",
              " 'great',\n",
              " 'guy',\n",
              " 'happen',\n",
              " 'hard',\n",
              " 'help',\n",
              " 'hope',\n",
              " 'hour',\n",
              " 'howev',\n",
              " 'interest',\n",
              " 'job',\n",
              " 'keep',\n",
              " 'kill',\n",
              " 'kind',\n",
              " 'know',\n",
              " 'last',\n",
              " 'least',\n",
              " 'let',\n",
              " 'life',\n",
              " 'like',\n",
              " 'line',\n",
              " 'littl',\n",
              " 'live',\n",
              " 'long',\n",
              " 'look',\n",
              " 'lot',\n",
              " 'love',\n",
              " 'made',\n",
              " 'make',\n",
              " 'man',\n",
              " 'mani',\n",
              " 'may',\n",
              " 'mean',\n",
              " 'mind',\n",
              " 'minut',\n",
              " 'moment',\n",
              " 'much',\n",
              " 'music',\n",
              " 'must',\n",
              " 'need',\n",
              " 'never',\n",
              " 'new',\n",
              " 'noth',\n",
              " 'old',\n",
              " 'one',\n",
              " 'origin',\n",
              " 'part',\n",
              " 'peopl',\n",
              " 'perfect',\n",
              " 'perform',\n",
              " 'person',\n",
              " 'place',\n",
              " 'play',\n",
              " 'plot',\n",
              " 'point',\n",
              " 'pretti',\n",
              " 'probabl',\n",
              " 'put',\n",
              " 'quit',\n",
              " 'read',\n",
              " 'real',\n",
              " 'realli',\n",
              " 'reason',\n",
              " 'review',\n",
              " 'right',\n",
              " 'role',\n",
              " 'saw',\n",
              " 'say',\n",
              " 'scene',\n",
              " 'screen',\n",
              " 'script',\n",
              " 'second',\n",
              " 'see',\n",
              " 'seem',\n",
              " 'seen',\n",
              " 'sens',\n",
              " 'set',\n",
              " 'show',\n",
              " 'sinc',\n",
              " 'someth',\n",
              " 'special',\n",
              " 'star',\n",
              " 'start',\n",
              " 'still',\n",
              " 'stori',\n",
              " 'sure',\n",
              " 'take',\n",
              " 'tell',\n",
              " 'thing',\n",
              " 'think',\n",
              " 'though',\n",
              " 'thought',\n",
              " 'time',\n",
              " 'top',\n",
              " 'tri',\n",
              " 'true',\n",
              " 'turn',\n",
              " 'two',\n",
              " 'us',\n",
              " 'use',\n",
              " 'want',\n",
              " 'watch',\n",
              " 'way',\n",
              " 'well',\n",
              " 'whole',\n",
              " 'without',\n",
              " 'wonder',\n",
              " 'work',\n",
              " 'world',\n",
              " 'would',\n",
              " 'year',\n",
              " 'yet']"
            ]
          },
          "metadata": {
            "tags": []
          },
          "execution_count": 16
        }
      ]
    },
    {
      "cell_type": "code",
      "metadata": {
        "colab": {
          "base_uri": "https://localhost:8080/"
        },
        "id": "s_oD7t54uHSl",
        "outputId": "670ba2d4-6c69-42d2-d532-953bd7f99049"
      },
      "source": [
        "grid_search.best_score_"
      ],
      "execution_count": 17,
      "outputs": [
        {
          "output_type": "execute_result",
          "data": {
            "text/plain": [
              "0.0"
            ]
          },
          "metadata": {
            "tags": []
          },
          "execution_count": 17
        }
      ]
    },
    {
      "cell_type": "code",
      "metadata": {
        "colab": {
          "base_uri": "https://localhost:8080/"
        },
        "id": "11V9kVcX5Ewv",
        "outputId": "505d8c9b-3e1d-4c93-abdf-6c72f1583fdd"
      },
      "source": [
        "grid_search.cv_results_"
      ],
      "execution_count": 18,
      "outputs": [
        {
          "output_type": "execute_result",
          "data": {
            "text/plain": [
              "{'mean_fit_time': array([ 6.06465816, 28.02891989,  5.65014653, 27.78625708,  5.30392408,\n",
              "        24.22546902,  5.34927692, 22.24170589]),\n",
              " 'mean_score_time': array([1.35227113, 2.47676511, 1.16689992, 2.39106402, 0.        ,\n",
              "        0.        , 0.        , 0.        ]),\n",
              " 'mean_test_score': array([ 0.,  0.,  0.,  0., nan, nan, nan, nan]),\n",
              " 'param_nb__alpha': masked_array(data=[1, 1, 1, 1, 1, 1, 1, 1],\n",
              "              mask=[False, False, False, False, False, False, False, False],\n",
              "        fill_value='?',\n",
              "             dtype=object),\n",
              " 'param_tfidf__max_df': masked_array(data=[0.75, 0.75, 0.75, 0.75, 1, 1, 1, 1],\n",
              "              mask=[False, False, False, False, False, False, False, False],\n",
              "        fill_value='?',\n",
              "             dtype=object),\n",
              " 'param_tfidf__min_df': masked_array(data=[0.1, 0.1, 0.2, 0.2, 0.1, 0.1, 0.2, 0.2],\n",
              "              mask=[False, False, False, False, False, False, False, False],\n",
              "        fill_value='?',\n",
              "             dtype=object),\n",
              " 'param_tfidf__ngram_range': masked_array(data=[(1, 1), (1, 2), (1, 1), (1, 2), (1, 1), (1, 2), (1, 1),\n",
              "                    (1, 2)],\n",
              "              mask=[False, False, False, False, False, False, False, False],\n",
              "        fill_value='?',\n",
              "             dtype=object),\n",
              " 'params': [{'nb__alpha': 1,\n",
              "   'tfidf__max_df': 0.75,\n",
              "   'tfidf__min_df': 0.1,\n",
              "   'tfidf__ngram_range': (1, 1)},\n",
              "  {'nb__alpha': 1,\n",
              "   'tfidf__max_df': 0.75,\n",
              "   'tfidf__min_df': 0.1,\n",
              "   'tfidf__ngram_range': (1, 2)},\n",
              "  {'nb__alpha': 1,\n",
              "   'tfidf__max_df': 0.75,\n",
              "   'tfidf__min_df': 0.2,\n",
              "   'tfidf__ngram_range': (1, 1)},\n",
              "  {'nb__alpha': 1,\n",
              "   'tfidf__max_df': 0.75,\n",
              "   'tfidf__min_df': 0.2,\n",
              "   'tfidf__ngram_range': (1, 2)},\n",
              "  {'nb__alpha': 1,\n",
              "   'tfidf__max_df': 1,\n",
              "   'tfidf__min_df': 0.1,\n",
              "   'tfidf__ngram_range': (1, 1)},\n",
              "  {'nb__alpha': 1,\n",
              "   'tfidf__max_df': 1,\n",
              "   'tfidf__min_df': 0.1,\n",
              "   'tfidf__ngram_range': (1, 2)},\n",
              "  {'nb__alpha': 1,\n",
              "   'tfidf__max_df': 1,\n",
              "   'tfidf__min_df': 0.2,\n",
              "   'tfidf__ngram_range': (1, 1)},\n",
              "  {'nb__alpha': 1,\n",
              "   'tfidf__max_df': 1,\n",
              "   'tfidf__min_df': 0.2,\n",
              "   'tfidf__ngram_range': (1, 2)}],\n",
              " 'rank_test_score': array([1, 1, 1, 1, 5, 6, 7, 8], dtype=int32),\n",
              " 'split0_test_score': array([ 0.,  0.,  0.,  0., nan, nan, nan, nan]),\n",
              " 'split1_test_score': array([ 0.,  0.,  0.,  0., nan, nan, nan, nan]),\n",
              " 'split2_test_score': array([ 0.,  0.,  0.,  0., nan, nan, nan, nan]),\n",
              " 'split3_test_score': array([ 0.,  0.,  0.,  0., nan, nan, nan, nan]),\n",
              " 'split4_test_score': array([ 0.,  0.,  0.,  0., nan, nan, nan, nan]),\n",
              " 'std_fit_time': array([0.03285651, 0.34172959, 0.33553685, 0.40151073, 0.32488653,\n",
              "        0.26845836, 0.17413463, 3.14435947]),\n",
              " 'std_score_time': array([0.06205759, 0.21415606, 0.09394212, 0.22303545, 0.        ,\n",
              "        0.        , 0.        , 0.        ]),\n",
              " 'std_test_score': array([ 0.,  0.,  0.,  0., nan, nan, nan, nan])}"
            ]
          },
          "metadata": {
            "tags": []
          },
          "execution_count": 18
        }
      ]
    },
    {
      "cell_type": "code",
      "metadata": {
        "colab": {
          "base_uri": "https://localhost:8080/"
        },
        "id": "70YVvUd2wtas",
        "outputId": "b22ae3ae-2abd-42af-b34b-69c79a6e29bf"
      },
      "source": [
        "y_predict = grid_search.predict(X_test)\n",
        "y_predict"
      ],
      "execution_count": 19,
      "outputs": [
        {
          "output_type": "execute_result",
          "data": {
            "text/plain": [
              "array([0, 0, 0, ..., 0, 0, 0])"
            ]
          },
          "metadata": {
            "tags": []
          },
          "execution_count": 19
        }
      ]
    },
    {
      "cell_type": "code",
      "metadata": {
        "colab": {
          "base_uri": "https://localhost:8080/"
        },
        "id": "TpPO1DJ_uKes",
        "outputId": "716b433f-2369-4888-a663-1874a4a884a9"
      },
      "source": [
        "from sklearn.metrics import confusion_matrix, classification_report, precision_recall_curve\n",
        "\n",
        "print(classification_report(y_test, y_predict))\n",
        "\n",
        "\n"
      ],
      "execution_count": 20,
      "outputs": [
        {
          "output_type": "stream",
          "text": [
            "              precision    recall  f1-score   support\n",
            "\n",
            "           0       0.73      1.00      0.85      8411\n",
            "           1       1.00      0.00      0.00      3068\n",
            "\n",
            "    accuracy                           0.73     11479\n",
            "   macro avg       0.87      0.50      0.42     11479\n",
            "weighted avg       0.80      0.73      0.62     11479\n",
            "\n"
          ],
          "name": "stdout"
        }
      ]
    },
    {
      "cell_type": "code",
      "metadata": {
        "colab": {
          "base_uri": "https://localhost:8080/",
          "height": 643
        },
        "id": "W7gPcqXgw9sh",
        "outputId": "7345e6d2-504e-48c1-c3c1-4ed1787f361a"
      },
      "source": [
        "import seaborn as sns\n",
        "import matplotlib.pyplot as plt\n",
        "\n",
        "print(confusion_matrix(y_test, y_predict))\n",
        "cm = confusion_matrix(y_test, y_predict)\n",
        "cm = pd.DataFrame(cm , index = ['Not Spoiler','Spoiler'] , columns = ['Not Spoiler','Spoiler'])\n",
        "plt.figure(figsize = (10,10))\n",
        "sns.heatmap(cm,cmap= \"Blues\", linecolor = 'black' , linewidth = 1 , annot = True, fmt='' , xticklabels = ['Not Spoiler','Spoiler'] , yticklabels = ['Not Spoiler','Spoiler'])"
      ],
      "execution_count": 21,
      "outputs": [
        {
          "output_type": "stream",
          "text": [
            "[[8411    0]\n",
            " [3067    1]]\n"
          ],
          "name": "stdout"
        },
        {
          "output_type": "execute_result",
          "data": {
            "text/plain": [
              "<matplotlib.axes._subplots.AxesSubplot at 0x7f18c6b67b70>"
            ]
          },
          "metadata": {
            "tags": []
          },
          "execution_count": 21
        },
        {
          "output_type": "display_data",
          "data": {
            "image/png": "[encoded data removed]",
            "text/plain": [
              "<Figure size 720x720 with 2 Axes>"
            ]
          },
          "metadata": {
            "tags": [],
            "needs_background": "light"
          }
        }
      ]
    },
    {
      "cell_type": "code",
      "metadata": {
        "id": "cQvBfV5-MPji"
      },
      "source": [
        ""
      ],
      "execution_count": null,
      "outputs": []
    }
  ]
}