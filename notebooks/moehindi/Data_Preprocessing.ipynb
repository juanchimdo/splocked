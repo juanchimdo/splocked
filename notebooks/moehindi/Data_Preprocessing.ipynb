{
  "nbformat": 4,
  "nbformat_minor": 0,
  "metadata": {
    "accelerator": "GPU",
    "colab": {
      "name": "Data_Preprocessing.ipynb",
      "provenance": [],
      "collapsed_sections": []
    },
    "kernelspec": {
      "display_name": "Python 3",
      "language": "python",
      "name": "python3"
    },
    "language_info": {
      "codemirror_mode": {
        "name": "ipython",
        "version": 3
      },
      "file_extension": ".py",
      "mimetype": "text/x-python",
      "name": "python",
      "nbconvert_exporter": "python",
      "pygments_lexer": "ipython3",
      "version": "3.7.7"
    },
    "varInspector": {
      "cols": {
        "lenName": 16,
        "lenType": 16,
        "lenVar": 40
      },
      "kernels_config": {
        "python": {
          "delete_cmd_postfix": "",
          "delete_cmd_prefix": "del ",
          "library": "var_list.py",
          "varRefreshCmd": "print(var_dic_list())"
        },
        "r": {
          "delete_cmd_postfix": ") ",
          "delete_cmd_prefix": "rm(",
          "library": "var_list.r",
          "varRefreshCmd": "cat(var_dic_list()) "
        }
      },
      "types_to_exclude": [
        "module",
        "function",
        "builtin_function_or_method",
        "instance",
        "_Feature"
      ],
      "window_display": false
    }
  },
  "cells": [
    {
      "cell_type": "code",
      "metadata": {
        "id": "nevgwt8tgb7O"
      },
      "source": [
        "import pandas as pd\n",
        "import numpy as np"
      ],
      "execution_count": 1,
      "outputs": []
    },
    {
      "cell_type": "code",
      "metadata": {
        "id": "bob5fIXEryCC",
        "colab": {
          "base_uri": "https://localhost:8080/"
        },
        "outputId": "4a750595-2af3-4b2f-d8b3-5ff9d13afc41"
      },
      "source": [
        "from google.colab import drive\n",
        "drive.mount('/content/drive')"
      ],
      "execution_count": 3,
      "outputs": [
        {
          "output_type": "stream",
          "text": [
            "Mounted at /content/drive\n"
          ],
          "name": "stdout"
        }
      ]
    },
    {
      "cell_type": "code",
      "metadata": {
        "id": "xzxZjI1Bgb7O"
      },
      "source": [
        "df = pd.read_json('/content/drive/My Drive/Colab Notebooks/IMDB_reviews.json' , lines =True)"
      ],
      "execution_count": 5,
      "outputs": []
    },
    {
      "cell_type": "code",
      "metadata": {
        "id": "7ABtJEG8gb7O",
        "colab": {
          "base_uri": "https://localhost:8080/",
          "height": 204
        },
        "outputId": "63f609df-d266-409e-aa0e-2cd2f5b02b0b"
      },
      "source": [
        "df.head()"
      ],
      "execution_count": 6,
      "outputs": [
        {
          "output_type": "execute_result",
          "data": {
            "text/html": [
              "<div>\n",
              "<style scoped>\n",
              "    .dataframe tbody tr th:only-of-type {\n",
              "        vertical-align: middle;\n",
              "    }\n",
              "\n",
              "    .dataframe tbody tr th {\n",
              "        vertical-align: top;\n",
              "    }\n",
              "\n",
              "    .dataframe thead th {\n",
              "        text-align: right;\n",
              "    }\n",
              "</style>\n",
              "<table border=\"1\" class=\"dataframe\">\n",
              "  <thead>\n",
              "    <tr style=\"text-align: right;\">\n",
              "      <th></th>\n",
              "      <th>review_date</th>\n",
              "      <th>movie_id</th>\n",
              "      <th>user_id</th>\n",
              "      <th>is_spoiler</th>\n",
              "      <th>review_text</th>\n",
              "      <th>rating</th>\n",
              "      <th>review_summary</th>\n",
              "    </tr>\n",
              "  </thead>\n",
              "  <tbody>\n",
              "    <tr>\n",
              "      <th>0</th>\n",
              "      <td>10 February 2006</td>\n",
              "      <td>tt0111161</td>\n",
              "      <td>ur1898687</td>\n",
              "      <td>True</td>\n",
              "      <td>In its Oscar year, Shawshank Redemption (writt...</td>\n",
              "      <td>10</td>\n",
              "      <td>A classic piece of unforgettable film-making.</td>\n",
              "    </tr>\n",
              "    <tr>\n",
              "      <th>1</th>\n",
              "      <td>6 September 2000</td>\n",
              "      <td>tt0111161</td>\n",
              "      <td>ur0842118</td>\n",
              "      <td>True</td>\n",
              "      <td>The Shawshank Redemption is without a doubt on...</td>\n",
              "      <td>10</td>\n",
              "      <td>Simply amazing. The best film of the 90's.</td>\n",
              "    </tr>\n",
              "    <tr>\n",
              "      <th>2</th>\n",
              "      <td>3 August 2001</td>\n",
              "      <td>tt0111161</td>\n",
              "      <td>ur1285640</td>\n",
              "      <td>True</td>\n",
              "      <td>I believe that this film is the best story eve...</td>\n",
              "      <td>8</td>\n",
              "      <td>The best story ever told on film</td>\n",
              "    </tr>\n",
              "    <tr>\n",
              "      <th>3</th>\n",
              "      <td>1 September 2002</td>\n",
              "      <td>tt0111161</td>\n",
              "      <td>ur1003471</td>\n",
              "      <td>True</td>\n",
              "      <td>**Yes, there are SPOILERS here**This film has ...</td>\n",
              "      <td>10</td>\n",
              "      <td>Busy dying or busy living?</td>\n",
              "    </tr>\n",
              "    <tr>\n",
              "      <th>4</th>\n",
              "      <td>20 May 2004</td>\n",
              "      <td>tt0111161</td>\n",
              "      <td>ur0226855</td>\n",
              "      <td>True</td>\n",
              "      <td>At the heart of this extraordinary movie is a ...</td>\n",
              "      <td>8</td>\n",
              "      <td>Great story, wondrously told and acted</td>\n",
              "    </tr>\n",
              "  </tbody>\n",
              "</table>\n",
              "</div>"
            ],
            "text/plain": [
              "        review_date  ...                                 review_summary\n",
              "0  10 February 2006  ...  A classic piece of unforgettable film-making.\n",
              "1  6 September 2000  ...     Simply amazing. The best film of the 90's.\n",
              "2     3 August 2001  ...               The best story ever told on film\n",
              "3  1 September 2002  ...                     Busy dying or busy living?\n",
              "4       20 May 2004  ...         Great story, wondrously told and acted\n",
              "\n",
              "[5 rows x 7 columns]"
            ]
          },
          "metadata": {
            "tags": []
          },
          "execution_count": 6
        }
      ]
    },
    {
      "cell_type": "code",
      "metadata": {
        "id": "P6d2dJzHgb7P",
        "colab": {
          "base_uri": "https://localhost:8080/"
        },
        "outputId": "a16744e2-c64e-479d-af66-3823ea0e8f33"
      },
      "source": [
        "df[\"is_spoiler\"].value_counts()\n"
      ],
      "execution_count": 7,
      "outputs": [
        {
          "output_type": "execute_result",
          "data": {
            "text/plain": [
              "False    422989\n",
              "True     150924\n",
              "Name: is_spoiler, dtype: int64"
            ]
          },
          "metadata": {
            "tags": []
          },
          "execution_count": 7
        }
      ]
    },
    {
      "cell_type": "code",
      "metadata": {
        "id": "eBpSH3SAs2ns",
        "colab": {
          "base_uri": "https://localhost:8080/"
        },
        "outputId": "f6bebd7e-ee07-449b-969e-1790019aa54d"
      },
      "source": [
        "df.isnull().values.any()"
      ],
      "execution_count": 8,
      "outputs": [
        {
          "output_type": "execute_result",
          "data": {
            "text/plain": [
              "False"
            ]
          },
          "metadata": {
            "tags": []
          },
          "execution_count": 8
        }
      ]
    },
    {
      "cell_type": "code",
      "metadata": {
        "id": "y0x10X5cuAcs",
        "colab": {
          "base_uri": "https://localhost:8080/"
        },
        "outputId": "c17f15af-2baa-41c6-aed5-8fd331b84a4f"
      },
      "source": [
        "print( df['is_spoiler'].isnull().sum() )\n",
        "print( df['review_text'].isnull().sum() )\n",
        "print( df['review_summary'].isnull().sum() )"
      ],
      "execution_count": 10,
      "outputs": [
        {
          "output_type": "stream",
          "text": [
            "0\n",
            "0\n",
            "0\n"
          ],
          "name": "stdout"
        }
      ]
    },
    {
      "cell_type": "code",
      "metadata": {
        "colab": {
          "base_uri": "https://localhost:8080/",
          "height": 289
        },
        "id": "9-ZVqgjg4KVp",
        "outputId": "425bbe6a-6ae7-49f9-9f20-49f4ed46cf48"
      },
      "source": [
        "df[\"full_summary\"] = df['review_summary'] + ' ' + df['review_text']\n",
        "df.head()"
      ],
      "execution_count": 11,
      "outputs": [
        {
          "output_type": "execute_result",
          "data": {
            "text/html": [
              "<div>\n",
              "<style scoped>\n",
              "    .dataframe tbody tr th:only-of-type {\n",
              "        vertical-align: middle;\n",
              "    }\n",
              "\n",
              "    .dataframe tbody tr th {\n",
              "        vertical-align: top;\n",
              "    }\n",
              "\n",
              "    .dataframe thead th {\n",
              "        text-align: right;\n",
              "    }\n",
              "</style>\n",
              "<table border=\"1\" class=\"dataframe\">\n",
              "  <thead>\n",
              "    <tr style=\"text-align: right;\">\n",
              "      <th></th>\n",
              "      <th>review_date</th>\n",
              "      <th>movie_id</th>\n",
              "      <th>user_id</th>\n",
              "      <th>is_spoiler</th>\n",
              "      <th>review_text</th>\n",
              "      <th>rating</th>\n",
              "      <th>review_summary</th>\n",
              "      <th>full_summary</th>\n",
              "    </tr>\n",
              "  </thead>\n",
              "  <tbody>\n",
              "    <tr>\n",
              "      <th>0</th>\n",
              "      <td>10 February 2006</td>\n",
              "      <td>tt0111161</td>\n",
              "      <td>ur1898687</td>\n",
              "      <td>True</td>\n",
              "      <td>In its Oscar year, Shawshank Redemption (writt...</td>\n",
              "      <td>10</td>\n",
              "      <td>A classic piece of unforgettable film-making.</td>\n",
              "      <td>A classic piece of unforgettable film-making. ...</td>\n",
              "    </tr>\n",
              "    <tr>\n",
              "      <th>1</th>\n",
              "      <td>6 September 2000</td>\n",
              "      <td>tt0111161</td>\n",
              "      <td>ur0842118</td>\n",
              "      <td>True</td>\n",
              "      <td>The Shawshank Redemption is without a doubt on...</td>\n",
              "      <td>10</td>\n",
              "      <td>Simply amazing. The best film of the 90's.</td>\n",
              "      <td>Simply amazing. The best film of the 90's. The...</td>\n",
              "    </tr>\n",
              "    <tr>\n",
              "      <th>2</th>\n",
              "      <td>3 August 2001</td>\n",
              "      <td>tt0111161</td>\n",
              "      <td>ur1285640</td>\n",
              "      <td>True</td>\n",
              "      <td>I believe that this film is the best story eve...</td>\n",
              "      <td>8</td>\n",
              "      <td>The best story ever told on film</td>\n",
              "      <td>The best story ever told on film I believe tha...</td>\n",
              "    </tr>\n",
              "    <tr>\n",
              "      <th>3</th>\n",
              "      <td>1 September 2002</td>\n",
              "      <td>tt0111161</td>\n",
              "      <td>ur1003471</td>\n",
              "      <td>True</td>\n",
              "      <td>**Yes, there are SPOILERS here**This film has ...</td>\n",
              "      <td>10</td>\n",
              "      <td>Busy dying or busy living?</td>\n",
              "      <td>Busy dying or busy living? **Yes, there are SP...</td>\n",
              "    </tr>\n",
              "    <tr>\n",
              "      <th>4</th>\n",
              "      <td>20 May 2004</td>\n",
              "      <td>tt0111161</td>\n",
              "      <td>ur0226855</td>\n",
              "      <td>True</td>\n",
              "      <td>At the heart of this extraordinary movie is a ...</td>\n",
              "      <td>8</td>\n",
              "      <td>Great story, wondrously told and acted</td>\n",
              "      <td>Great story, wondrously told and acted At the ...</td>\n",
              "    </tr>\n",
              "  </tbody>\n",
              "</table>\n",
              "</div>"
            ],
            "text/plain": [
              "        review_date  ...                                       full_summary\n",
              "0  10 February 2006  ...  A classic piece of unforgettable film-making. ...\n",
              "1  6 September 2000  ...  Simply amazing. The best film of the 90's. The...\n",
              "2     3 August 2001  ...  The best story ever told on film I believe tha...\n",
              "3  1 September 2002  ...  Busy dying or busy living? **Yes, there are SP...\n",
              "4       20 May 2004  ...  Great story, wondrously told and acted At the ...\n",
              "\n",
              "[5 rows x 8 columns]"
            ]
          },
          "metadata": {
            "tags": []
          },
          "execution_count": 11
        }
      ]
    },
    {
      "cell_type": "code",
      "metadata": {
        "id": "9ccXMtRnOfqr"
      },
      "source": [
        "df['is_spoiler_label'] = np.where(df['is_spoiler'] == True, 1, 0)\n"
      ],
      "execution_count": 12,
      "outputs": []
    },
    {
      "cell_type": "code",
      "metadata": {
        "colab": {
          "base_uri": "https://localhost:8080/",
          "height": 419
        },
        "id": "t27ZDjB_gb7P",
        "outputId": "262d36b1-2ca0-48d7-d7e5-be36db8fdb8e"
      },
      "source": [
        "df_use = df[[\"is_spoiler_label\",\"full_summary\"]].copy()\n",
        "df_use"
      ],
      "execution_count": 14,
      "outputs": [
        {
          "output_type": "execute_result",
          "data": {
            "text/html": [
              "<div>\n",
              "<style scoped>\n",
              "    .dataframe tbody tr th:only-of-type {\n",
              "        vertical-align: middle;\n",
              "    }\n",
              "\n",
              "    .dataframe tbody tr th {\n",
              "        vertical-align: top;\n",
              "    }\n",
              "\n",
              "    .dataframe thead th {\n",
              "        text-align: right;\n",
              "    }\n",
              "</style>\n",
              "<table border=\"1\" class=\"dataframe\">\n",
              "  <thead>\n",
              "    <tr style=\"text-align: right;\">\n",
              "      <th></th>\n",
              "      <th>is_spoiler_label</th>\n",
              "      <th>full_summary</th>\n",
              "    </tr>\n",
              "  </thead>\n",
              "  <tbody>\n",
              "    <tr>\n",
              "      <th>0</th>\n",
              "      <td>1</td>\n",
              "      <td>A classic piece of unforgettable film-making. ...</td>\n",
              "    </tr>\n",
              "    <tr>\n",
              "      <th>1</th>\n",
              "      <td>1</td>\n",
              "      <td>Simply amazing. The best film of the 90's. The...</td>\n",
              "    </tr>\n",
              "    <tr>\n",
              "      <th>2</th>\n",
              "      <td>1</td>\n",
              "      <td>The best story ever told on film I believe tha...</td>\n",
              "    </tr>\n",
              "    <tr>\n",
              "      <th>3</th>\n",
              "      <td>1</td>\n",
              "      <td>Busy dying or busy living? **Yes, there are SP...</td>\n",
              "    </tr>\n",
              "    <tr>\n",
              "      <th>4</th>\n",
              "      <td>1</td>\n",
              "      <td>Great story, wondrously told and acted At the ...</td>\n",
              "    </tr>\n",
              "    <tr>\n",
              "      <th>...</th>\n",
              "      <td>...</td>\n",
              "      <td>...</td>\n",
              "    </tr>\n",
              "    <tr>\n",
              "      <th>573908</th>\n",
              "      <td>0</td>\n",
              "      <td>The best teen movie of the nineties Go is wise...</td>\n",
              "    </tr>\n",
              "    <tr>\n",
              "      <th>573909</th>\n",
              "      <td>0</td>\n",
              "      <td>Go - see the movie Well, what shall I say. thi...</td>\n",
              "    </tr>\n",
              "    <tr>\n",
              "      <th>573910</th>\n",
              "      <td>0</td>\n",
              "      <td>It's the best movie I've ever seen Go is the b...</td>\n",
              "    </tr>\n",
              "    <tr>\n",
              "      <th>573911</th>\n",
              "      <td>0</td>\n",
              "      <td>Haven't we seen this before? Call this 1999 te...</td>\n",
              "    </tr>\n",
              "    <tr>\n",
              "      <th>573912</th>\n",
              "      <td>0</td>\n",
              "      <td>Go doesn't go anywhere Why was this movie made...</td>\n",
              "    </tr>\n",
              "  </tbody>\n",
              "</table>\n",
              "<p>573913 rows × 2 columns</p>\n",
              "</div>"
            ],
            "text/plain": [
              "        is_spoiler_label                                       full_summary\n",
              "0                      1  A classic piece of unforgettable film-making. ...\n",
              "1                      1  Simply amazing. The best film of the 90's. The...\n",
              "2                      1  The best story ever told on film I believe tha...\n",
              "3                      1  Busy dying or busy living? **Yes, there are SP...\n",
              "4                      1  Great story, wondrously told and acted At the ...\n",
              "...                  ...                                                ...\n",
              "573908                 0  The best teen movie of the nineties Go is wise...\n",
              "573909                 0  Go - see the movie Well, what shall I say. thi...\n",
              "573910                 0  It's the best movie I've ever seen Go is the b...\n",
              "573911                 0  Haven't we seen this before? Call this 1999 te...\n",
              "573912                 0  Go doesn't go anywhere Why was this movie made...\n",
              "\n",
              "[573913 rows x 2 columns]"
            ]
          },
          "metadata": {
            "tags": []
          },
          "execution_count": 14
        }
      ]
    },
    {
      "cell_type": "code",
      "metadata": {
        "id": "AaaWiuSw4vzk"
      },
      "source": [
        "import string \n",
        "from nltk.corpus import stopwords \n",
        "from nltk.tokenize import word_tokenize\n",
        "\n",
        "def clean (text):\n",
        "    for punctuation in string.punctuation:\n",
        "        text = text.replace(punctuation, ' ') # Remove Punctuation\n",
        "    lowercased = text.lower() # Lower Case\n",
        "    tokenized = word_tokenize(lowercased) # Tokenize\n",
        "    words_only = [word for word in tokenized if word.isalpha()] # Remove numbers\n",
        "    stop_words = set(stopwords.words('english')) # Make stopword list\n",
        "    without_stopwords = [word for word in words_only if not word in stop_words] # Remove Stop Words\n",
        "    return \" \".join(without_stopwords)"
      ],
      "execution_count": 15,
      "outputs": []
    },
    {
      "cell_type": "code",
      "metadata": {
        "colab": {
          "base_uri": "https://localhost:8080/"
        },
        "id": "dRB74E18_Iab",
        "outputId": "dcca04df-4734-4e1d-829b-88dddf365263"
      },
      "source": [
        "import nltk\n",
        "nltk.download('punkt')\n"
      ],
      "execution_count": 16,
      "outputs": [
        {
          "output_type": "stream",
          "text": [
            "[nltk_data] Downloading package punkt to /root/nltk_data...\n",
            "[nltk_data]   Unzipping tokenizers/punkt.zip.\n"
          ],
          "name": "stdout"
        },
        {
          "output_type": "execute_result",
          "data": {
            "text/plain": [
              "True"
            ]
          },
          "metadata": {
            "tags": []
          },
          "execution_count": 16
        }
      ]
    },
    {
      "cell_type": "code",
      "metadata": {
        "colab": {
          "base_uri": "https://localhost:8080/"
        },
        "id": "33UOLQvS_OIO",
        "outputId": "0f03c1f4-bdce-4873-d625-50039e502aae"
      },
      "source": [
        "nltk.download('stopwords')"
      ],
      "execution_count": 17,
      "outputs": [
        {
          "output_type": "stream",
          "text": [
            "[nltk_data] Downloading package stopwords to /root/nltk_data...\n",
            "[nltk_data]   Unzipping corpora/stopwords.zip.\n"
          ],
          "name": "stdout"
        },
        {
          "output_type": "execute_result",
          "data": {
            "text/plain": [
              "True"
            ]
          },
          "metadata": {
            "tags": []
          },
          "execution_count": 17
        }
      ]
    },
    {
      "cell_type": "code",
      "metadata": {
        "colab": {
          "base_uri": "https://localhost:8080/"
        },
        "id": "X0P5wSg75C_5",
        "outputId": "ab732a2e-832d-4f3d-f873-0976b6d7f746"
      },
      "source": [
        "%%time\n",
        "df_use['full_summary_clean'] = df_use['full_summary'].apply(lambda x: clean(x))\n",
        "df_use.head()"
      ],
      "execution_count": 18,
      "outputs": [
        {
          "output_type": "stream",
          "text": [
            "CPU times: user 10min 29s, sys: 8 s, total: 10min 37s\n",
            "Wall time: 10min 37s\n"
          ],
          "name": "stdout"
        }
      ]
    },
    {
      "cell_type": "code",
      "metadata": {
        "colab": {
          "base_uri": "https://localhost:8080/",
          "height": 204
        },
        "id": "ecACX1Y3B8QD",
        "outputId": "56f0664b-ad6f-450f-975d-c8688bcdbd86"
      },
      "source": [
        "df_use.head()"
      ],
      "execution_count": 19,
      "outputs": [
        {
          "output_type": "execute_result",
          "data": {
            "text/html": [
              "<div>\n",
              "<style scoped>\n",
              "    .dataframe tbody tr th:only-of-type {\n",
              "        vertical-align: middle;\n",
              "    }\n",
              "\n",
              "    .dataframe tbody tr th {\n",
              "        vertical-align: top;\n",
              "    }\n",
              "\n",
              "    .dataframe thead th {\n",
              "        text-align: right;\n",
              "    }\n",
              "</style>\n",
              "<table border=\"1\" class=\"dataframe\">\n",
              "  <thead>\n",
              "    <tr style=\"text-align: right;\">\n",
              "      <th></th>\n",
              "      <th>is_spoiler_label</th>\n",
              "      <th>full_summary</th>\n",
              "      <th>full_summary_clean</th>\n",
              "    </tr>\n",
              "  </thead>\n",
              "  <tbody>\n",
              "    <tr>\n",
              "      <th>0</th>\n",
              "      <td>1</td>\n",
              "      <td>A classic piece of unforgettable film-making. ...</td>\n",
              "      <td>classic piece unforgettable film making oscar ...</td>\n",
              "    </tr>\n",
              "    <tr>\n",
              "      <th>1</th>\n",
              "      <td>1</td>\n",
              "      <td>Simply amazing. The best film of the 90's. The...</td>\n",
              "      <td>simply amazing best film shawshank redemption ...</td>\n",
              "    </tr>\n",
              "    <tr>\n",
              "      <th>2</th>\n",
              "      <td>1</td>\n",
              "      <td>The best story ever told on film I believe tha...</td>\n",
              "      <td>best story ever told film believe film best st...</td>\n",
              "    </tr>\n",
              "    <tr>\n",
              "      <th>3</th>\n",
              "      <td>1</td>\n",
              "      <td>Busy dying or busy living? **Yes, there are SP...</td>\n",
              "      <td>busy dying busy living yes spoilers film emoti...</td>\n",
              "    </tr>\n",
              "    <tr>\n",
              "      <th>4</th>\n",
              "      <td>1</td>\n",
              "      <td>Great story, wondrously told and acted At the ...</td>\n",
              "      <td>great story wondrously told acted heart extrao...</td>\n",
              "    </tr>\n",
              "  </tbody>\n",
              "</table>\n",
              "</div>"
            ],
            "text/plain": [
              "   is_spoiler_label  ...                                 full_summary_clean\n",
              "0                 1  ...  classic piece unforgettable film making oscar ...\n",
              "1                 1  ...  simply amazing best film shawshank redemption ...\n",
              "2                 1  ...  best story ever told film believe film best st...\n",
              "3                 1  ...  busy dying busy living yes spoilers film emoti...\n",
              "4                 1  ...  great story wondrously told acted heart extrao...\n",
              "\n",
              "[5 rows x 3 columns]"
            ]
          },
          "metadata": {
            "tags": []
          },
          "execution_count": 19
        }
      ]
    },
    {
      "cell_type": "code",
      "metadata": {
        "id": "v4QSAc4bCKtf"
      },
      "source": [
        "from nltk.stem.porter import PorterStemmer\n",
        "\n",
        "def stemm (text):\n",
        "  tokenized = word_tokenize(text)\n",
        "  stemmer = PorterStemmer()\n",
        "  stemmed = [stemmer.stem(word) for word in tokenized]\n",
        "  return \" \".join(stemmed)"
      ],
      "execution_count": 20,
      "outputs": []
    },
    {
      "cell_type": "code",
      "metadata": {
        "id": "vV1RRcABDIFP",
        "colab": {
          "base_uri": "https://localhost:8080/"
        },
        "outputId": "ee18debf-0851-4b68-c9d6-76379c39e2f6"
      },
      "source": [
        "nltk.download('wordnet')"
      ],
      "execution_count": 21,
      "outputs": [
        {
          "output_type": "stream",
          "text": [
            "[nltk_data] Downloading package wordnet to /root/nltk_data...\n",
            "[nltk_data]   Unzipping corpora/wordnet.zip.\n"
          ],
          "name": "stdout"
        },
        {
          "output_type": "execute_result",
          "data": {
            "text/plain": [
              "True"
            ]
          },
          "metadata": {
            "tags": []
          },
          "execution_count": 21
        }
      ]
    },
    {
      "cell_type": "code",
      "metadata": {
        "id": "HNWcXiM0C-yA"
      },
      "source": [
        "df_use['full_summary_clean'] = df_use['full_summary_clean'].apply(lambda x: stemm(x))"
      ],
      "execution_count": 22,
      "outputs": []
    },
    {
      "cell_type": "code",
      "metadata": {
        "colab": {
          "base_uri": "https://localhost:8080/",
          "height": 204
        },
        "id": "qoUVPPSnJdCP",
        "outputId": "be9f41d7-e756-40be-9c5a-3ef5896f9f45"
      },
      "source": [
        "df_use.head()"
      ],
      "execution_count": 23,
      "outputs": [
        {
          "output_type": "execute_result",
          "data": {
            "text/html": [
              "<div>\n",
              "<style scoped>\n",
              "    .dataframe tbody tr th:only-of-type {\n",
              "        vertical-align: middle;\n",
              "    }\n",
              "\n",
              "    .dataframe tbody tr th {\n",
              "        vertical-align: top;\n",
              "    }\n",
              "\n",
              "    .dataframe thead th {\n",
              "        text-align: right;\n",
              "    }\n",
              "</style>\n",
              "<table border=\"1\" class=\"dataframe\">\n",
              "  <thead>\n",
              "    <tr style=\"text-align: right;\">\n",
              "      <th></th>\n",
              "      <th>is_spoiler_label</th>\n",
              "      <th>full_summary</th>\n",
              "      <th>full_summary_clean</th>\n",
              "    </tr>\n",
              "  </thead>\n",
              "  <tbody>\n",
              "    <tr>\n",
              "      <th>0</th>\n",
              "      <td>1</td>\n",
              "      <td>A classic piece of unforgettable film-making. ...</td>\n",
              "      <td>classic piec unforgett film make oscar year sh...</td>\n",
              "    </tr>\n",
              "    <tr>\n",
              "      <th>1</th>\n",
              "      <td>1</td>\n",
              "      <td>Simply amazing. The best film of the 90's. The...</td>\n",
              "      <td>simpli amaz best film shawshank redempt withou...</td>\n",
              "    </tr>\n",
              "    <tr>\n",
              "      <th>2</th>\n",
              "      <td>1</td>\n",
              "      <td>The best story ever told on film I believe tha...</td>\n",
              "      <td>best stori ever told film believ film best sto...</td>\n",
              "    </tr>\n",
              "    <tr>\n",
              "      <th>3</th>\n",
              "      <td>1</td>\n",
              "      <td>Busy dying or busy living? **Yes, there are SP...</td>\n",
              "      <td>busi die busi live ye spoiler film emot impact...</td>\n",
              "    </tr>\n",
              "    <tr>\n",
              "      <th>4</th>\n",
              "      <td>1</td>\n",
              "      <td>Great story, wondrously told and acted At the ...</td>\n",
              "      <td>great stori wondrous told act heart extraordin...</td>\n",
              "    </tr>\n",
              "  </tbody>\n",
              "</table>\n",
              "</div>"
            ],
            "text/plain": [
              "   is_spoiler_label  ...                                 full_summary_clean\n",
              "0                 1  ...  classic piec unforgett film make oscar year sh...\n",
              "1                 1  ...  simpli amaz best film shawshank redempt withou...\n",
              "2                 1  ...  best stori ever told film believ film best sto...\n",
              "3                 1  ...  busi die busi live ye spoiler film emot impact...\n",
              "4                 1  ...  great stori wondrous told act heart extraordin...\n",
              "\n",
              "[5 rows x 3 columns]"
            ]
          },
          "metadata": {
            "tags": []
          },
          "execution_count": 23
        }
      ]
    },
    {
      "cell_type": "code",
      "metadata": {
        "colab": {
          "base_uri": "https://localhost:8080/",
          "height": 419
        },
        "id": "si2DaICM9NfB",
        "outputId": "76d0452a-7667-43ff-b279-0bbd752f198a"
      },
      "source": [
        "df_use.drop(columns=\"full_summary\", inplace= True)\n",
        "df_use"
      ],
      "execution_count": 25,
      "outputs": [
        {
          "output_type": "execute_result",
          "data": {
            "text/html": [
              "<div>\n",
              "<style scoped>\n",
              "    .dataframe tbody tr th:only-of-type {\n",
              "        vertical-align: middle;\n",
              "    }\n",
              "\n",
              "    .dataframe tbody tr th {\n",
              "        vertical-align: top;\n",
              "    }\n",
              "\n",
              "    .dataframe thead th {\n",
              "        text-align: right;\n",
              "    }\n",
              "</style>\n",
              "<table border=\"1\" class=\"dataframe\">\n",
              "  <thead>\n",
              "    <tr style=\"text-align: right;\">\n",
              "      <th></th>\n",
              "      <th>is_spoiler_label</th>\n",
              "      <th>full_summary_clean</th>\n",
              "    </tr>\n",
              "  </thead>\n",
              "  <tbody>\n",
              "    <tr>\n",
              "      <th>0</th>\n",
              "      <td>1</td>\n",
              "      <td>classic piec unforgett film make oscar year sh...</td>\n",
              "    </tr>\n",
              "    <tr>\n",
              "      <th>1</th>\n",
              "      <td>1</td>\n",
              "      <td>simpli amaz best film shawshank redempt withou...</td>\n",
              "    </tr>\n",
              "    <tr>\n",
              "      <th>2</th>\n",
              "      <td>1</td>\n",
              "      <td>best stori ever told film believ film best sto...</td>\n",
              "    </tr>\n",
              "    <tr>\n",
              "      <th>3</th>\n",
              "      <td>1</td>\n",
              "      <td>busi die busi live ye spoiler film emot impact...</td>\n",
              "    </tr>\n",
              "    <tr>\n",
              "      <th>4</th>\n",
              "      <td>1</td>\n",
              "      <td>great stori wondrous told act heart extraordin...</td>\n",
              "    </tr>\n",
              "    <tr>\n",
              "      <th>...</th>\n",
              "      <td>...</td>\n",
              "      <td>...</td>\n",
              "    </tr>\n",
              "    <tr>\n",
              "      <th>573908</th>\n",
              "      <td>0</td>\n",
              "      <td>best teen movi nineti go wise fast pure entert...</td>\n",
              "    </tr>\n",
              "    <tr>\n",
              "      <th>573909</th>\n",
              "      <td>0</td>\n",
              "      <td>go see movi well shall say fun rate three plot...</td>\n",
              "    </tr>\n",
              "    <tr>\n",
              "      <th>573910</th>\n",
              "      <td>0</td>\n",
              "      <td>best movi ever seen go best movi ever seen see...</td>\n",
              "    </tr>\n",
              "    <tr>\n",
              "      <th>573911</th>\n",
              "      <td>0</td>\n",
              "      <td>seen call teenag version pulp fiction whatev w...</td>\n",
              "    </tr>\n",
              "    <tr>\n",
              "      <th>573912</th>\n",
              "      <td>0</td>\n",
              "      <td>go go anywher movi made doubt sucker famili re...</td>\n",
              "    </tr>\n",
              "  </tbody>\n",
              "</table>\n",
              "<p>573913 rows × 2 columns</p>\n",
              "</div>"
            ],
            "text/plain": [
              "        is_spoiler_label                                 full_summary_clean\n",
              "0                      1  classic piec unforgett film make oscar year sh...\n",
              "1                      1  simpli amaz best film shawshank redempt withou...\n",
              "2                      1  best stori ever told film believ film best sto...\n",
              "3                      1  busi die busi live ye spoiler film emot impact...\n",
              "4                      1  great stori wondrous told act heart extraordin...\n",
              "...                  ...                                                ...\n",
              "573908                 0  best teen movi nineti go wise fast pure entert...\n",
              "573909                 0  go see movi well shall say fun rate three plot...\n",
              "573910                 0  best movi ever seen go best movi ever seen see...\n",
              "573911                 0  seen call teenag version pulp fiction whatev w...\n",
              "573912                 0  go go anywher movi made doubt sucker famili re...\n",
              "\n",
              "[573913 rows x 2 columns]"
            ]
          },
          "metadata": {
            "tags": []
          },
          "execution_count": 25
        }
      ]
    },
    {
      "cell_type": "code",
      "metadata": {
        "id": "tCVwrJaXPedu"
      },
      "source": [
        "df_use.to_csv('data_cleaned_stem_v4.csv', index=False)"
      ],
      "execution_count": 26,
      "outputs": []
    },
    {
      "cell_type": "code",
      "metadata": {
        "id": "AO1_XHZlP9dA"
      },
      "source": [
        "!cp data_cleaned_stem_v4.csv \"/content/drive/My Drive/Colab Notebooks\""
      ],
      "execution_count": 28,
      "outputs": []
    },
    {
      "cell_type": "markdown",
      "metadata": {
        "id": "ez4puLnu98wC"
      },
      "source": [
        "DO NOT RUN ANY CELL BELOW HERE :)\n"
      ]
    },
    {
      "cell_type": "code",
      "metadata": {
        "id": "-p4AeNbtiR8y"
      },
      "source": [
        "### DO NOT RUUUUUUUUUUUUUUUUUUN###\n",
        "# Training set sizes to loop over\n",
        "train_sizes = [50,100,200,300,400,500,600]\n",
        "\n",
        "for size in train_sizes:\n",
        "    \n",
        "    # Sample the training set\n",
        "    data_train_sample = data_train.sample(size, random_state = 5)\n",
        "    \n",
        "    # Prepare X and y\n",
        "    X_train = data_train_sample[['surface']]\n",
        "    y_train = data_train_sample['price']\n",
        "    \n",
        "    # Train the model on the sampled Train data\n",
        "    model = LinearRegression().fit(X_train, y_train)\n",
        "\n",
        "    # Score the model on the train data (sampled) and test data (fixed)\n",
        "    test_score =   model.score(X_test,y_test)\n",
        "    train_score =  model.score(X_train,y_train)\n",
        "    \n",
        "    # Append associated train score, test score, and train size to dataframe\n",
        "    learning_curves_elements = learning_curves_elements.append({'train_score': train_score,\n",
        "                                  'test_score': test_score,\n",
        "                                  'train_size': size}, ignore_index=True)\n",
        "    \n",
        "import matplotlib.pyplot as plt\n",
        "\n",
        "plt.plot(learning_curves_elements.train_size,learning_curves_elements.train_score,  color = 'red', label='train score')\n",
        "plt.plot(learning_curves_elements.train_size,learning_curves_elements.test_score, color = 'blue', label='test score')\n",
        "plt.title('Learning Curves')\n",
        "plt.xlabel('train size')\n",
        "plt.ylabel('R2 score')\n",
        "plt.legend()\n",
        "plt.show()"
      ],
      "execution_count": null,
      "outputs": []
    },
    {
      "cell_type": "code",
      "metadata": {
        "id": "nekBkJf7iVtE"
      },
      "source": [
        "### DO NOT RUUUUUUUUUUUUUUUUUUN###\n",
        "\n",
        "from sklearn.linear_model import LinearRegression\n",
        "\n",
        "model = LinearRegression()\n",
        "\n",
        "# 5-Fold Cross validate model\n",
        "cv_results = cross_validate(model, X, y, cv=5)\n",
        "\n",
        "# Cross validation results\n",
        "cv_results\n",
        "\n",
        "# Mean of scores\n",
        "cv_results['test_score'].mean()\n",
        "\n",
        "\n"
      ],
      "execution_count": null,
      "outputs": []
    },
    {
      "cell_type": "code",
      "metadata": {
        "id": "7gQMH0RekBi4"
      },
      "source": [
        "### DO NOT RUUUUUUUUUUUUUUUUUUN###\n",
        "\n",
        "from sklearn.model_selection import cross_val_predict\n",
        "\n",
        "log_model = LinearRegression()\n",
        "\n",
        "y_pred = cross_val_predict(log_model, X, y, cv=5)"
      ],
      "execution_count": null,
      "outputs": []
    },
    {
      "cell_type": "code",
      "metadata": {
        "id": "Us9hmtgaluJN"
      },
      "source": [
        "### DO NOT RUUUUUUUUUUUUUUUUUUN###\n",
        "\n",
        "\n",
        "from sklearn.preprocessing import LabelEncoder\n",
        "from sklearn.linear_model import LogisticRegression\n",
        "from sklearn.metrics import accuracy_score, precision_score, recall_score, f1_score\n",
        "\n",
        "# Encode the target\n",
        "data['price_range_encoded'] = LabelEncoder().fit_transform(data['price_range'])\n",
        "\n",
        "# Make predictions using a LogisticRegression model\n",
        "data['predictions'] = cross_val_predict(LogisticRegression(), X ,data['price_range_encoded'])\n",
        "\n",
        "# Accuracy\n",
        "print('Accuracy =', round(accuracy_score(data['price_range_encoded'], data['predictions']), 3))\n",
        "# Precision\n",
        "print('Precision =', round(precision_score(data['price_range_encoded'], data['predictions']), 3))\n",
        "# Recall\n",
        "print('Recall =', round(recall_score(data['price_range_encoded'], data['predictions']), 3))\n",
        "# F1 score\n",
        "print('F1 score =', round(f1_score(data['price_range_encoded'], data['predictions']), 3))"
      ],
      "execution_count": null,
      "outputs": []
    }
  ]
}