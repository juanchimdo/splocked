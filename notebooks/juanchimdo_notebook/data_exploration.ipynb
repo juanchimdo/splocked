{
 "cells": [
  {
   "cell_type": "code",
   "execution_count": 1,
   "metadata": {
    "executionInfo": {
     "elapsed": 783,
     "status": "ok",
     "timestamp": 1606410279084,
     "user": {
      "displayName": "juan cruz montes de oca",
      "photoUrl": "",
      "userId": "02993317737855160151"
     },
     "user_tz": 180
    },
    "id": "MrH_pyF8sJQ6"
   },
   "outputs": [],
   "source": [
    "import numpy as np\n",
    "import pandas as pd\n",
    "from nltk.tokenize import word_tokenize\n",
    "from nltk.corpus import stopwords \n",
    "import string\n",
    "import nltk\n",
    "from nltk.stem import WordNetLemmatizer\n",
    "from sklearn.model_selection import train_test_split"
   ]
  },
  {
   "cell_type": "code",
   "execution_count": 2,
   "metadata": {
    "colab": {
     "base_uri": "https://localhost:8080/"
    },
    "executionInfo": {
     "elapsed": 903,
     "status": "ok",
     "timestamp": 1606410281030,
     "user": {
      "displayName": "juan cruz montes de oca",
      "photoUrl": "",
      "userId": "02993317737855160151"
     },
     "user_tz": 180
    },
    "id": "nYZsAc8JsvQw",
    "outputId": "468238a8-5383-48c1-ed3d-230281dc2eff"
   },
   "outputs": [],
   "source": [
    "# From the cloud\n",
    "\n",
    "#from google.colab import drive\n",
    "#drive.mount(\"/content/drive\")\n",
    "#df = pd.read_json('/content/drive/My Drive/Colab Notebooks/IMDB_reviews.json', lines=True)\n",
    "#df.head()"
   ]
  },
  {
   "cell_type": "code",
   "execution_count": 3,
   "metadata": {
    "colab": {
     "base_uri": "https://localhost:8080/",
     "height": 204
    },
    "executionInfo": {
     "elapsed": 10691,
     "status": "ok",
     "timestamp": 1606410292999,
     "user": {
      "displayName": "juan cruz montes de oca",
      "photoUrl": "",
      "userId": "02993317737855160151"
     },
     "user_tz": 180
    },
    "id": "qP0c1NyfsJQ6",
    "outputId": "20560a65-6bc6-42fa-e728-8defdef2ce64"
   },
   "outputs": [
    {
     "data": {
      "text/html": [
       "<div>\n",
       "<style scoped>\n",
       "    .dataframe tbody tr th:only-of-type {\n",
       "        vertical-align: middle;\n",
       "    }\n",
       "\n",
       "    .dataframe tbody tr th {\n",
       "        vertical-align: top;\n",
       "    }\n",
       "\n",
       "    .dataframe thead th {\n",
       "        text-align: right;\n",
       "    }\n",
       "</style>\n",
       "<table border=\"1\" class=\"dataframe\">\n",
       "  <thead>\n",
       "    <tr style=\"text-align: right;\">\n",
       "      <th></th>\n",
       "      <th>is_spoiler</th>\n",
       "      <th>movie_id</th>\n",
       "      <th>rating</th>\n",
       "      <th>review_date</th>\n",
       "      <th>review_summary</th>\n",
       "      <th>review_text</th>\n",
       "      <th>user_id</th>\n",
       "    </tr>\n",
       "  </thead>\n",
       "  <tbody>\n",
       "    <tr>\n",
       "      <th>0</th>\n",
       "      <td>True</td>\n",
       "      <td>tt0111161</td>\n",
       "      <td>10</td>\n",
       "      <td>10 February 2006</td>\n",
       "      <td>A classic piece of unforgettable film-making.</td>\n",
       "      <td>In its Oscar year, Shawshank Redemption (writt...</td>\n",
       "      <td>ur1898687</td>\n",
       "    </tr>\n",
       "    <tr>\n",
       "      <th>1</th>\n",
       "      <td>True</td>\n",
       "      <td>tt0111161</td>\n",
       "      <td>10</td>\n",
       "      <td>6 September 2000</td>\n",
       "      <td>Simply amazing. The best film of the 90's.</td>\n",
       "      <td>The Shawshank Redemption is without a doubt on...</td>\n",
       "      <td>ur0842118</td>\n",
       "    </tr>\n",
       "    <tr>\n",
       "      <th>2</th>\n",
       "      <td>True</td>\n",
       "      <td>tt0111161</td>\n",
       "      <td>8</td>\n",
       "      <td>3 August 2001</td>\n",
       "      <td>The best story ever told on film</td>\n",
       "      <td>I believe that this film is the best story eve...</td>\n",
       "      <td>ur1285640</td>\n",
       "    </tr>\n",
       "    <tr>\n",
       "      <th>3</th>\n",
       "      <td>True</td>\n",
       "      <td>tt0111161</td>\n",
       "      <td>10</td>\n",
       "      <td>1 September 2002</td>\n",
       "      <td>Busy dying or busy living?</td>\n",
       "      <td>**Yes, there are SPOILERS here**This film has ...</td>\n",
       "      <td>ur1003471</td>\n",
       "    </tr>\n",
       "    <tr>\n",
       "      <th>4</th>\n",
       "      <td>True</td>\n",
       "      <td>tt0111161</td>\n",
       "      <td>8</td>\n",
       "      <td>20 May 2004</td>\n",
       "      <td>Great story, wondrously told and acted</td>\n",
       "      <td>At the heart of this extraordinary movie is a ...</td>\n",
       "      <td>ur0226855</td>\n",
       "    </tr>\n",
       "  </tbody>\n",
       "</table>\n",
       "</div>"
      ],
      "text/plain": [
       "   is_spoiler   movie_id  rating       review_date  \\\n",
       "0        True  tt0111161      10  10 February 2006   \n",
       "1        True  tt0111161      10  6 September 2000   \n",
       "2        True  tt0111161       8     3 August 2001   \n",
       "3        True  tt0111161      10  1 September 2002   \n",
       "4        True  tt0111161       8       20 May 2004   \n",
       "\n",
       "                                  review_summary  \\\n",
       "0  A classic piece of unforgettable film-making.   \n",
       "1     Simply amazing. The best film of the 90's.   \n",
       "2               The best story ever told on film   \n",
       "3                     Busy dying or busy living?   \n",
       "4         Great story, wondrously told and acted   \n",
       "\n",
       "                                         review_text    user_id  \n",
       "0  In its Oscar year, Shawshank Redemption (writt...  ur1898687  \n",
       "1  The Shawshank Redemption is without a doubt on...  ur0842118  \n",
       "2  I believe that this film is the best story eve...  ur1285640  \n",
       "3  **Yes, there are SPOILERS here**This film has ...  ur1003471  \n",
       "4  At the heart of this extraordinary movie is a ...  ur0226855  "
      ]
     },
     "execution_count": 3,
     "metadata": {},
     "output_type": "execute_result"
    }
   ],
   "source": [
    "# Locally\n",
    "\n",
    "df = pd.read_json('../../Raw_Data/IMDB_reviews.json', lines=True)\n",
    "df.head()"
   ]
  },
  {
   "cell_type": "code",
   "execution_count": 4,
   "metadata": {
    "executionInfo": {
     "elapsed": 811,
     "status": "ok",
     "timestamp": 1606410294959,
     "user": {
      "displayName": "juan cruz montes de oca",
      "photoUrl": "",
      "userId": "02993317737855160151"
     },
     "user_tz": 180
    },
    "id": "-N7Hm-1A_bAo"
   },
   "outputs": [],
   "source": [
    "df = df.loc[:1000, :].copy()"
   ]
  },
  {
   "cell_type": "code",
   "execution_count": 5,
   "metadata": {
    "colab": {
     "base_uri": "https://localhost:8080/",
     "height": 204
    },
    "executionInfo": {
     "elapsed": 655,
     "status": "ok",
     "timestamp": 1606410296190,
     "user": {
      "displayName": "juan cruz montes de oca",
      "photoUrl": "",
      "userId": "02993317737855160151"
     },
     "user_tz": 180
    },
    "id": "tNQclegnsJQ6",
    "outputId": "ab71ef93-d9ef-4d18-df55-9fd3e2717523"
   },
   "outputs": [
    {
     "data": {
      "text/html": [
       "<div>\n",
       "<style scoped>\n",
       "    .dataframe tbody tr th:only-of-type {\n",
       "        vertical-align: middle;\n",
       "    }\n",
       "\n",
       "    .dataframe tbody tr th {\n",
       "        vertical-align: top;\n",
       "    }\n",
       "\n",
       "    .dataframe thead th {\n",
       "        text-align: right;\n",
       "    }\n",
       "</style>\n",
       "<table border=\"1\" class=\"dataframe\">\n",
       "  <thead>\n",
       "    <tr style=\"text-align: right;\">\n",
       "      <th></th>\n",
       "      <th>is_spoiler</th>\n",
       "      <th>review_summary</th>\n",
       "      <th>review_text</th>\n",
       "    </tr>\n",
       "  </thead>\n",
       "  <tbody>\n",
       "    <tr>\n",
       "      <th>0</th>\n",
       "      <td>True</td>\n",
       "      <td>A classic piece of unforgettable film-making.</td>\n",
       "      <td>In its Oscar year, Shawshank Redemption (writt...</td>\n",
       "    </tr>\n",
       "    <tr>\n",
       "      <th>1</th>\n",
       "      <td>True</td>\n",
       "      <td>Simply amazing. The best film of the 90's.</td>\n",
       "      <td>The Shawshank Redemption is without a doubt on...</td>\n",
       "    </tr>\n",
       "    <tr>\n",
       "      <th>2</th>\n",
       "      <td>True</td>\n",
       "      <td>The best story ever told on film</td>\n",
       "      <td>I believe that this film is the best story eve...</td>\n",
       "    </tr>\n",
       "    <tr>\n",
       "      <th>3</th>\n",
       "      <td>True</td>\n",
       "      <td>Busy dying or busy living?</td>\n",
       "      <td>**Yes, there are SPOILERS here**This film has ...</td>\n",
       "    </tr>\n",
       "    <tr>\n",
       "      <th>4</th>\n",
       "      <td>True</td>\n",
       "      <td>Great story, wondrously told and acted</td>\n",
       "      <td>At the heart of this extraordinary movie is a ...</td>\n",
       "    </tr>\n",
       "  </tbody>\n",
       "</table>\n",
       "</div>"
      ],
      "text/plain": [
       "   is_spoiler                                 review_summary  \\\n",
       "0        True  A classic piece of unforgettable film-making.   \n",
       "1        True     Simply amazing. The best film of the 90's.   \n",
       "2        True               The best story ever told on film   \n",
       "3        True                     Busy dying or busy living?   \n",
       "4        True         Great story, wondrously told and acted   \n",
       "\n",
       "                                         review_text  \n",
       "0  In its Oscar year, Shawshank Redemption (writt...  \n",
       "1  The Shawshank Redemption is without a doubt on...  \n",
       "2  I believe that this film is the best story eve...  \n",
       "3  **Yes, there are SPOILERS here**This film has ...  \n",
       "4  At the heart of this extraordinary movie is a ...  "
      ]
     },
     "execution_count": 5,
     "metadata": {},
     "output_type": "execute_result"
    }
   ],
   "source": [
    "df = df[['is_spoiler', 'review_summary', 'review_text']]\n",
    "df.head()"
   ]
  },
  {
   "cell_type": "code",
   "execution_count": 6,
   "metadata": {
    "executionInfo": {
     "elapsed": 837,
     "status": "ok",
     "timestamp": 1606410298021,
     "user": {
      "displayName": "juan cruz montes de oca",
      "photoUrl": "",
      "userId": "02993317737855160151"
     },
     "user_tz": 180
    },
    "id": "2C4p27ucsJQ7"
   },
   "outputs": [],
   "source": [
    "df['review'] = df['review_summary'] + ' ' + df['review_text']"
   ]
  },
  {
   "cell_type": "code",
   "execution_count": 7,
   "metadata": {
    "executionInfo": {
     "elapsed": 1065,
     "status": "ok",
     "timestamp": 1606410299566,
     "user": {
      "displayName": "juan cruz montes de oca",
      "photoUrl": "",
      "userId": "02993317737855160151"
     },
     "user_tz": 180
    },
    "id": "dUBLtjZjsJQ7"
   },
   "outputs": [],
   "source": [
    "df = df.drop(columns=['review_summary', 'review_text'])"
   ]
  },
  {
   "cell_type": "code",
   "execution_count": 8,
   "metadata": {
    "executionInfo": {
     "elapsed": 772,
     "status": "ok",
     "timestamp": 1606410300780,
     "user": {
      "displayName": "juan cruz montes de oca",
      "photoUrl": "",
      "userId": "02993317737855160151"
     },
     "user_tz": 180
    },
    "id": "_g-HmXXlQnq1"
   },
   "outputs": [],
   "source": [
    "df['is_spoiler'] = df['is_spoiler'].map({True:1, False:0})"
   ]
  },
  {
   "cell_type": "code",
   "execution_count": 9,
   "metadata": {
    "colab": {
     "base_uri": "https://localhost:8080/",
     "height": 204
    },
    "executionInfo": {
     "elapsed": 726,
     "status": "ok",
     "timestamp": 1606410302097,
     "user": {
      "displayName": "juan cruz montes de oca",
      "photoUrl": "",
      "userId": "02993317737855160151"
     },
     "user_tz": 180
    },
    "id": "mTyi7fjssJQ7",
    "outputId": "a9b172b8-30e4-47cc-9a0b-4de04a9aa176"
   },
   "outputs": [
    {
     "data": {
      "text/html": [
       "<div>\n",
       "<style scoped>\n",
       "    .dataframe tbody tr th:only-of-type {\n",
       "        vertical-align: middle;\n",
       "    }\n",
       "\n",
       "    .dataframe tbody tr th {\n",
       "        vertical-align: top;\n",
       "    }\n",
       "\n",
       "    .dataframe thead th {\n",
       "        text-align: right;\n",
       "    }\n",
       "</style>\n",
       "<table border=\"1\" class=\"dataframe\">\n",
       "  <thead>\n",
       "    <tr style=\"text-align: right;\">\n",
       "      <th></th>\n",
       "      <th>is_spoiler</th>\n",
       "      <th>review</th>\n",
       "    </tr>\n",
       "  </thead>\n",
       "  <tbody>\n",
       "    <tr>\n",
       "      <th>0</th>\n",
       "      <td>1</td>\n",
       "      <td>A classic piece of unforgettable film-making. ...</td>\n",
       "    </tr>\n",
       "    <tr>\n",
       "      <th>1</th>\n",
       "      <td>1</td>\n",
       "      <td>Simply amazing. The best film of the 90's. The...</td>\n",
       "    </tr>\n",
       "    <tr>\n",
       "      <th>2</th>\n",
       "      <td>1</td>\n",
       "      <td>The best story ever told on film I believe tha...</td>\n",
       "    </tr>\n",
       "    <tr>\n",
       "      <th>3</th>\n",
       "      <td>1</td>\n",
       "      <td>Busy dying or busy living? **Yes, there are SP...</td>\n",
       "    </tr>\n",
       "    <tr>\n",
       "      <th>4</th>\n",
       "      <td>1</td>\n",
       "      <td>Great story, wondrously told and acted At the ...</td>\n",
       "    </tr>\n",
       "  </tbody>\n",
       "</table>\n",
       "</div>"
      ],
      "text/plain": [
       "   is_spoiler                                             review\n",
       "0           1  A classic piece of unforgettable film-making. ...\n",
       "1           1  Simply amazing. The best film of the 90's. The...\n",
       "2           1  The best story ever told on film I believe tha...\n",
       "3           1  Busy dying or busy living? **Yes, there are SP...\n",
       "4           1  Great story, wondrously told and acted At the ..."
      ]
     },
     "execution_count": 9,
     "metadata": {},
     "output_type": "execute_result"
    }
   ],
   "source": [
    "df.head()"
   ]
  },
  {
   "cell_type": "code",
   "execution_count": 10,
   "metadata": {
    "colab": {
     "base_uri": "https://localhost:8080/"
    },
    "executionInfo": {
     "elapsed": 803,
     "status": "ok",
     "timestamp": 1606410305758,
     "user": {
      "displayName": "juan cruz montes de oca",
      "photoUrl": "",
      "userId": "02993317737855160151"
     },
     "user_tz": 180
    },
    "id": "4K4lTvhNsJQ7",
    "outputId": "d6a8ab56-3c7f-4337-d9ae-6521ce794952"
   },
   "outputs": [
    {
     "data": {
      "text/plain": [
       "(1001, 2)"
      ]
     },
     "execution_count": 10,
     "metadata": {},
     "output_type": "execute_result"
    }
   ],
   "source": [
    "df.shape"
   ]
  },
  {
   "cell_type": "code",
   "execution_count": 11,
   "metadata": {
    "colab": {
     "base_uri": "https://localhost:8080/"
    },
    "executionInfo": {
     "elapsed": 1632,
     "status": "ok",
     "timestamp": 1606410308097,
     "user": {
      "displayName": "juan cruz montes de oca",
      "photoUrl": "",
      "userId": "02993317737855160151"
     },
     "user_tz": 180
    },
    "id": "o2RvMjAcsJQ7",
    "outputId": "5ba33ed7-4fb8-4fd0-9674-4b3cd5a8f35c"
   },
   "outputs": [
    {
     "data": {
      "text/plain": [
       "is_spoiler      2\n",
       "review        999\n",
       "dtype: int64"
      ]
     },
     "execution_count": 11,
     "metadata": {},
     "output_type": "execute_result"
    }
   ],
   "source": [
    "df.nunique()"
   ]
  },
  {
   "cell_type": "code",
   "execution_count": 12,
   "metadata": {
    "colab": {
     "base_uri": "https://localhost:8080/"
    },
    "executionInfo": {
     "elapsed": 707,
     "status": "ok",
     "timestamp": 1606410309571,
     "user": {
      "displayName": "juan cruz montes de oca",
      "photoUrl": "",
      "userId": "02993317737855160151"
     },
     "user_tz": 180
    },
    "id": "x4HgR_PrsJQ7",
    "outputId": "f9ebe963-de28-426f-afce-3278fceef7ad"
   },
   "outputs": [
    {
     "data": {
      "text/plain": [
       "1    956\n",
       "0     45\n",
       "Name: is_spoiler, dtype: int64"
      ]
     },
     "execution_count": 12,
     "metadata": {},
     "output_type": "execute_result"
    }
   ],
   "source": [
    "df['is_spoiler'].value_counts()"
   ]
  },
  {
   "cell_type": "code",
   "execution_count": 13,
   "metadata": {
    "colab": {
     "base_uri": "https://localhost:8080/"
    },
    "executionInfo": {
     "elapsed": 832,
     "status": "ok",
     "timestamp": 1606410311241,
     "user": {
      "displayName": "juan cruz montes de oca",
      "photoUrl": "",
      "userId": "02993317737855160151"
     },
     "user_tz": 180
    },
    "id": "IM9RuD94sJQ9",
    "outputId": "354e13fd-9d4b-487a-f4b1-144d36ebd132"
   },
   "outputs": [
    {
     "data": {
      "text/plain": [
       "is_spoiler    0\n",
       "review        0\n",
       "dtype: int64"
      ]
     },
     "execution_count": 13,
     "metadata": {},
     "output_type": "execute_result"
    }
   ],
   "source": [
    "df.isna().sum()"
   ]
  },
  {
   "cell_type": "code",
   "execution_count": 14,
   "metadata": {
    "executionInfo": {
     "elapsed": 1030,
     "status": "ok",
     "timestamp": 1606410313007,
     "user": {
      "displayName": "juan cruz montes de oca",
      "photoUrl": "",
      "userId": "02993317737855160151"
     },
     "user_tz": 180
    },
    "id": "RL-s1ILhsJQ-"
   },
   "outputs": [],
   "source": [
    "def clean (text):\n",
    "    \n",
    "    for punctuation in string.punctuation:\n",
    "        text = text.replace(punctuation, ' ') # Remove Punctuation\n",
    "        \n",
    "    lowercased = text.lower() # Lower Case\n",
    "        \n",
    "    tokenized = word_tokenize(lowercased) # Tokenize\n",
    "    \n",
    "    words_only = [word for word in tokenized if word.isalpha()] # Remove numbers\n",
    "    \n",
    "    stop_words = set(stopwords.words('english')) # Make stopword list\n",
    "    \n",
    "    without_stopwords = [word for word in words_only if not word in stop_words] # Remove Stop Words\n",
    "    \n",
    "    return \" \".join(without_stopwords)"
   ]
  },
  {
   "cell_type": "code",
   "execution_count": 15,
   "metadata": {
    "colab": {
     "base_uri": "https://localhost:8080/",
     "height": 238
    },
    "executionInfo": {
     "elapsed": 244297,
     "status": "ok",
     "timestamp": 1606410558639,
     "user": {
      "displayName": "juan cruz montes de oca",
      "photoUrl": "",
      "userId": "02993317737855160151"
     },
     "user_tz": 180
    },
    "id": "_o3JfwLjsJQ-",
    "outputId": "2496ca28-deaa-44d2-e719-6a0992c54178"
   },
   "outputs": [
    {
     "name": "stderr",
     "output_type": "stream",
     "text": [
      "[nltk_data] Downloading package stopwords to\n",
      "[nltk_data]     /Users/juanchimdo/nltk_data...\n",
      "[nltk_data]   Package stopwords is already up-to-date!\n"
     ]
    },
    {
     "data": {
      "text/html": [
       "<div>\n",
       "<style scoped>\n",
       "    .dataframe tbody tr th:only-of-type {\n",
       "        vertical-align: middle;\n",
       "    }\n",
       "\n",
       "    .dataframe tbody tr th {\n",
       "        vertical-align: top;\n",
       "    }\n",
       "\n",
       "    .dataframe thead th {\n",
       "        text-align: right;\n",
       "    }\n",
       "</style>\n",
       "<table border=\"1\" class=\"dataframe\">\n",
       "  <thead>\n",
       "    <tr style=\"text-align: right;\">\n",
       "      <th></th>\n",
       "      <th>is_spoiler</th>\n",
       "      <th>review</th>\n",
       "      <th>clean_reviews</th>\n",
       "    </tr>\n",
       "  </thead>\n",
       "  <tbody>\n",
       "    <tr>\n",
       "      <th>0</th>\n",
       "      <td>1</td>\n",
       "      <td>A classic piece of unforgettable film-making. ...</td>\n",
       "      <td>classic piece unforgettable film making oscar ...</td>\n",
       "    </tr>\n",
       "    <tr>\n",
       "      <th>1</th>\n",
       "      <td>1</td>\n",
       "      <td>Simply amazing. The best film of the 90's. The...</td>\n",
       "      <td>simply amazing best film shawshank redemption ...</td>\n",
       "    </tr>\n",
       "    <tr>\n",
       "      <th>2</th>\n",
       "      <td>1</td>\n",
       "      <td>The best story ever told on film I believe tha...</td>\n",
       "      <td>best story ever told film believe film best st...</td>\n",
       "    </tr>\n",
       "    <tr>\n",
       "      <th>3</th>\n",
       "      <td>1</td>\n",
       "      <td>Busy dying or busy living? **Yes, there are SP...</td>\n",
       "      <td>busy dying busy living yes spoilers film emoti...</td>\n",
       "    </tr>\n",
       "    <tr>\n",
       "      <th>4</th>\n",
       "      <td>1</td>\n",
       "      <td>Great story, wondrously told and acted At the ...</td>\n",
       "      <td>great story wondrously told acted heart extrao...</td>\n",
       "    </tr>\n",
       "  </tbody>\n",
       "</table>\n",
       "</div>"
      ],
      "text/plain": [
       "   is_spoiler                                             review  \\\n",
       "0           1  A classic piece of unforgettable film-making. ...   \n",
       "1           1  Simply amazing. The best film of the 90's. The...   \n",
       "2           1  The best story ever told on film I believe tha...   \n",
       "3           1  Busy dying or busy living? **Yes, there are SP...   \n",
       "4           1  Great story, wondrously told and acted At the ...   \n",
       "\n",
       "                                       clean_reviews  \n",
       "0  classic piece unforgettable film making oscar ...  \n",
       "1  simply amazing best film shawshank redemption ...  \n",
       "2  best story ever told film believe film best st...  \n",
       "3  busy dying busy living yes spoilers film emoti...  \n",
       "4  great story wondrously told acted heart extrao...  "
      ]
     },
     "execution_count": 15,
     "metadata": {},
     "output_type": "execute_result"
    }
   ],
   "source": [
    "nltk.download('stopwords')\n",
    "\n",
    "df['clean_reviews'] = df['review'].apply(clean)\n",
    "\n",
    "df.head()"
   ]
  },
  {
   "cell_type": "code",
   "execution_count": 16,
   "metadata": {
    "executionInfo": {
     "elapsed": 812,
     "status": "ok",
     "timestamp": 1606410561791,
     "user": {
      "displayName": "juan cruz montes de oca",
      "photoUrl": "",
      "userId": "02993317737855160151"
     },
     "user_tz": 180
    },
    "id": "dPQhzb5wsJQ-"
   },
   "outputs": [],
   "source": [
    "df.drop(columns='review', inplace=True)"
   ]
  },
  {
   "cell_type": "code",
   "execution_count": 17,
   "metadata": {
    "colab": {
     "base_uri": "https://localhost:8080/",
     "height": 204
    },
    "executionInfo": {
     "elapsed": 787,
     "status": "ok",
     "timestamp": 1606410563352,
     "user": {
      "displayName": "juan cruz montes de oca",
      "photoUrl": "",
      "userId": "02993317737855160151"
     },
     "user_tz": 180
    },
    "id": "2jHilH4msJQ-",
    "outputId": "41526248-8a5e-4508-85aa-b004d9957da1"
   },
   "outputs": [
    {
     "data": {
      "text/html": [
       "<div>\n",
       "<style scoped>\n",
       "    .dataframe tbody tr th:only-of-type {\n",
       "        vertical-align: middle;\n",
       "    }\n",
       "\n",
       "    .dataframe tbody tr th {\n",
       "        vertical-align: top;\n",
       "    }\n",
       "\n",
       "    .dataframe thead th {\n",
       "        text-align: right;\n",
       "    }\n",
       "</style>\n",
       "<table border=\"1\" class=\"dataframe\">\n",
       "  <thead>\n",
       "    <tr style=\"text-align: right;\">\n",
       "      <th></th>\n",
       "      <th>is_spoiler</th>\n",
       "      <th>clean_reviews</th>\n",
       "    </tr>\n",
       "  </thead>\n",
       "  <tbody>\n",
       "    <tr>\n",
       "      <th>0</th>\n",
       "      <td>1</td>\n",
       "      <td>classic piece unforgettable film making oscar ...</td>\n",
       "    </tr>\n",
       "    <tr>\n",
       "      <th>1</th>\n",
       "      <td>1</td>\n",
       "      <td>simply amazing best film shawshank redemption ...</td>\n",
       "    </tr>\n",
       "    <tr>\n",
       "      <th>2</th>\n",
       "      <td>1</td>\n",
       "      <td>best story ever told film believe film best st...</td>\n",
       "    </tr>\n",
       "    <tr>\n",
       "      <th>3</th>\n",
       "      <td>1</td>\n",
       "      <td>busy dying busy living yes spoilers film emoti...</td>\n",
       "    </tr>\n",
       "    <tr>\n",
       "      <th>4</th>\n",
       "      <td>1</td>\n",
       "      <td>great story wondrously told acted heart extrao...</td>\n",
       "    </tr>\n",
       "  </tbody>\n",
       "</table>\n",
       "</div>"
      ],
      "text/plain": [
       "   is_spoiler                                      clean_reviews\n",
       "0           1  classic piece unforgettable film making oscar ...\n",
       "1           1  simply amazing best film shawshank redemption ...\n",
       "2           1  best story ever told film believe film best st...\n",
       "3           1  busy dying busy living yes spoilers film emoti...\n",
       "4           1  great story wondrously told acted heart extrao..."
      ]
     },
     "execution_count": 17,
     "metadata": {},
     "output_type": "execute_result"
    }
   ],
   "source": [
    "df.head()"
   ]
  },
  {
   "cell_type": "code",
   "execution_count": 18,
   "metadata": {
    "colab": {
     "base_uri": "https://localhost:8080/",
     "height": 238
    },
    "executionInfo": {
     "elapsed": 545100,
     "status": "ok",
     "timestamp": 1606411109508,
     "user": {
      "displayName": "juan cruz montes de oca",
      "photoUrl": "",
      "userId": "02993317737855160151"
     },
     "user_tz": 180
    },
    "id": "wOcAEDZUsJQ-",
    "outputId": "1aae7d07-12aa-4e1f-b584-10520bd84d45"
   },
   "outputs": [
    {
     "name": "stderr",
     "output_type": "stream",
     "text": [
      "[nltk_data] Downloading package wordnet to\n",
      "[nltk_data]     /Users/juanchimdo/nltk_data...\n",
      "[nltk_data]   Package wordnet is already up-to-date!\n"
     ]
    },
    {
     "data": {
      "text/html": [
       "<div>\n",
       "<style scoped>\n",
       "    .dataframe tbody tr th:only-of-type {\n",
       "        vertical-align: middle;\n",
       "    }\n",
       "\n",
       "    .dataframe tbody tr th {\n",
       "        vertical-align: top;\n",
       "    }\n",
       "\n",
       "    .dataframe thead th {\n",
       "        text-align: right;\n",
       "    }\n",
       "</style>\n",
       "<table border=\"1\" class=\"dataframe\">\n",
       "  <thead>\n",
       "    <tr style=\"text-align: right;\">\n",
       "      <th></th>\n",
       "      <th>is_spoiler</th>\n",
       "      <th>clean_reviews</th>\n",
       "    </tr>\n",
       "  </thead>\n",
       "  <tbody>\n",
       "    <tr>\n",
       "      <th>0</th>\n",
       "      <td>1</td>\n",
       "      <td>classic piece unforgettable film making oscar ...</td>\n",
       "    </tr>\n",
       "    <tr>\n",
       "      <th>1</th>\n",
       "      <td>1</td>\n",
       "      <td>simply amazing best film shawshank redemption ...</td>\n",
       "    </tr>\n",
       "    <tr>\n",
       "      <th>2</th>\n",
       "      <td>1</td>\n",
       "      <td>best story ever told film believe film best st...</td>\n",
       "    </tr>\n",
       "    <tr>\n",
       "      <th>3</th>\n",
       "      <td>1</td>\n",
       "      <td>busy dying busy living yes spoiler film emotio...</td>\n",
       "    </tr>\n",
       "    <tr>\n",
       "      <th>4</th>\n",
       "      <td>1</td>\n",
       "      <td>great story wondrously told acted heart extrao...</td>\n",
       "    </tr>\n",
       "  </tbody>\n",
       "</table>\n",
       "</div>"
      ],
      "text/plain": [
       "   is_spoiler                                      clean_reviews\n",
       "0           1  classic piece unforgettable film making oscar ...\n",
       "1           1  simply amazing best film shawshank redemption ...\n",
       "2           1  best story ever told film believe film best st...\n",
       "3           1  busy dying busy living yes spoiler film emotio...\n",
       "4           1  great story wondrously told acted heart extrao..."
      ]
     },
     "execution_count": 18,
     "metadata": {},
     "output_type": "execute_result"
    }
   ],
   "source": [
    "nltk.download('wordnet')\n",
    "\n",
    "def lemm (text):\n",
    "    tokenized = word_tokenize(text)\n",
    "    lemmatizer = WordNetLemmatizer()\n",
    "    lemmatized = [lemmatizer.lemmatize(word) for word in tokenized]\n",
    "    return \" \".join(lemmatized)\n",
    "\n",
    "df['clean_reviews'] = df['clean_reviews'].apply(lemm)\n",
    "df.head()"
   ]
  },
  {
   "cell_type": "code",
   "execution_count": 19,
   "metadata": {
    "executionInfo": {
     "elapsed": 732,
     "status": "ok",
     "timestamp": 1606411113225,
     "user": {
      "displayName": "juan cruz montes de oca",
      "photoUrl": "",
      "userId": "02993317737855160151"
     },
     "user_tz": 180
    },
    "id": "tQHJlrBr51Ez"
   },
   "outputs": [],
   "source": [
    "X = df[['clean_reviews']]\n",
    "y = df['is_spoiler']\n",
    "\n",
    "X_train, X_test, y_train, y_test = train_test_split(X, y, test_size=.3)"
   ]
  },
  {
   "cell_type": "code",
   "execution_count": 20,
   "metadata": {
    "colab": {
     "base_uri": "https://localhost:8080/",
     "height": 204
    },
    "executionInfo": {
     "elapsed": 772,
     "status": "ok",
     "timestamp": 1606411115977,
     "user": {
      "displayName": "juan cruz montes de oca",
      "photoUrl": "",
      "userId": "02993317737855160151"
     },
     "user_tz": 180
    },
    "id": "rReMchN1EGLT",
    "outputId": "50a7b901-9303-4dbf-eb8a-c50a6b8f6532"
   },
   "outputs": [
    {
     "data": {
      "text/html": [
       "<div>\n",
       "<style scoped>\n",
       "    .dataframe tbody tr th:only-of-type {\n",
       "        vertical-align: middle;\n",
       "    }\n",
       "\n",
       "    .dataframe tbody tr th {\n",
       "        vertical-align: top;\n",
       "    }\n",
       "\n",
       "    .dataframe thead th {\n",
       "        text-align: right;\n",
       "    }\n",
       "</style>\n",
       "<table border=\"1\" class=\"dataframe\">\n",
       "  <thead>\n",
       "    <tr style=\"text-align: right;\">\n",
       "      <th></th>\n",
       "      <th>clean_reviews</th>\n",
       "    </tr>\n",
       "  </thead>\n",
       "  <tbody>\n",
       "    <tr>\n",
       "      <th>896</th>\n",
       "      <td>short review simply one best movie seen whole ...</td>\n",
       "    </tr>\n",
       "    <tr>\n",
       "      <th>14</th>\n",
       "      <td>yes banker andy dufresne tim robbins convicted...</td>\n",
       "    </tr>\n",
       "    <tr>\n",
       "      <th>924</th>\n",
       "      <td>truly wonderful movie spoiler first time saw s...</td>\n",
       "    </tr>\n",
       "    <tr>\n",
       "      <th>509</th>\n",
       "      <td>really think movie awesome something weird bod...</td>\n",
       "    </tr>\n",
       "    <tr>\n",
       "      <th>610</th>\n",
       "      <td>best movie forget others including might sugge...</td>\n",
       "    </tr>\n",
       "  </tbody>\n",
       "</table>\n",
       "</div>"
      ],
      "text/plain": [
       "                                         clean_reviews\n",
       "896  short review simply one best movie seen whole ...\n",
       "14   yes banker andy dufresne tim robbins convicted...\n",
       "924  truly wonderful movie spoiler first time saw s...\n",
       "509  really think movie awesome something weird bod...\n",
       "610  best movie forget others including might sugge..."
      ]
     },
     "execution_count": 20,
     "metadata": {},
     "output_type": "execute_result"
    }
   ],
   "source": [
    "X_train.head()"
   ]
  },
  {
   "cell_type": "code",
   "execution_count": 36,
   "metadata": {
    "executionInfo": {
     "elapsed": 5203,
     "status": "ok",
     "timestamp": 1606411122516,
     "user": {
      "displayName": "juan cruz montes de oca",
      "photoUrl": "",
      "userId": "02993317737855160151"
     },
     "user_tz": 180
    },
    "id": "FZjkipRIFU3s"
   },
   "outputs": [],
   "source": [
    "def convert_sentences(X):\n",
    "    return [sentence.split(' ') for sentence in X]\n",
    "\n",
    "X_train = X_train.apply(convert_sentences)\n",
    "X_test = X_test.apply(convert_sentences)"
   ]
  },
  {
   "cell_type": "code",
   "execution_count": 37,
   "metadata": {
    "colab": {
     "base_uri": "https://localhost:8080/",
     "height": 204
    },
    "executionInfo": {
     "elapsed": 774,
     "status": "ok",
     "timestamp": 1606411125165,
     "user": {
      "displayName": "juan cruz montes de oca",
      "photoUrl": "",
      "userId": "02993317737855160151"
     },
     "user_tz": 180
    },
    "id": "Uw3mOckMFXnc",
    "outputId": "c9c7a662-edb6-4428-8210-7e52efdef0d9"
   },
   "outputs": [
    {
     "data": {
      "text/html": [
       "<div>\n",
       "<style scoped>\n",
       "    .dataframe tbody tr th:only-of-type {\n",
       "        vertical-align: middle;\n",
       "    }\n",
       "\n",
       "    .dataframe tbody tr th {\n",
       "        vertical-align: top;\n",
       "    }\n",
       "\n",
       "    .dataframe thead th {\n",
       "        text-align: right;\n",
       "    }\n",
       "</style>\n",
       "<table border=\"1\" class=\"dataframe\">\n",
       "  <thead>\n",
       "    <tr style=\"text-align: right;\">\n",
       "      <th></th>\n",
       "      <th>clean_reviews</th>\n",
       "    </tr>\n",
       "  </thead>\n",
       "  <tbody>\n",
       "    <tr>\n",
       "      <th>134466</th>\n",
       "      <td>[alice, chains, maybe, getting, cgi, phantasma...</td>\n",
       "    </tr>\n",
       "    <tr>\n",
       "      <th>184134</th>\n",
       "      <td>[one, scariest, movies, ever, made, movie, sca...</td>\n",
       "    </tr>\n",
       "    <tr>\n",
       "      <th>47147</th>\n",
       "      <td>[movie, definitely, one, best, movie, upon, ot...</td>\n",
       "    </tr>\n",
       "    <tr>\n",
       "      <th>147964</th>\n",
       "      <td>[devils, black, sheep, really, bad, eggs, wast...</td>\n",
       "    </tr>\n",
       "    <tr>\n",
       "      <th>34225</th>\n",
       "      <td>[thrill, minute, watching, movie, dvd, fascina...</td>\n",
       "    </tr>\n",
       "  </tbody>\n",
       "</table>\n",
       "</div>"
      ],
      "text/plain": [
       "                                            clean_reviews\n",
       "134466  [alice, chains, maybe, getting, cgi, phantasma...\n",
       "184134  [one, scariest, movies, ever, made, movie, sca...\n",
       "47147   [movie, definitely, one, best, movie, upon, ot...\n",
       "147964  [devils, black, sheep, really, bad, eggs, wast...\n",
       "34225   [thrill, minute, watching, movie, dvd, fascina..."
      ]
     },
     "execution_count": 37,
     "metadata": {
      "tags": []
     },
     "output_type": "execute_result"
    }
   ],
   "source": [
    "X_train.head()"
   ]
  },
  {
   "cell_type": "code",
   "execution_count": 38,
   "metadata": {
    "executionInfo": {
     "elapsed": 4008,
     "status": "ok",
     "timestamp": 1606411132384,
     "user": {
      "displayName": "juan cruz montes de oca",
      "photoUrl": "",
      "userId": "02993317737855160151"
     },
     "user_tz": 180
    },
    "id": "5Ovqe9jQDVSh"
   },
   "outputs": [],
   "source": [
    "word_to_id = {}\n",
    "iter_ = 1\n",
    "for sentence in X_train['clean_reviews']:\n",
    "    for word in sentence:\n",
    "        if word in word_to_id:\n",
    "            continue\n",
    "        word_to_id[word] = iter_\n",
    "        iter_ += 1"
   ]
  },
  {
   "cell_type": "code",
   "execution_count": 39,
   "metadata": {
    "colab": {
     "base_uri": "https://localhost:8080/"
    },
    "executionInfo": {
     "elapsed": 890,
     "status": "ok",
     "timestamp": 1606411136760,
     "user": {
      "displayName": "juan cruz montes de oca",
      "photoUrl": "",
      "userId": "02993317737855160151"
     },
     "user_tz": 180
    },
    "id": "fML6lcJyD2Qw",
    "outputId": "a34c9bc8-2aaa-4d0a-8581-f77d81330cbe"
   },
   "outputs": [
    {
     "name": "stdout",
     "output_type": "stream",
     "text": [
      "There are 132286 different words in the train sentences\n"
     ]
    }
   ],
   "source": [
    "print(f'There are {len(word_to_id)} different words in the train sentences')"
   ]
  },
  {
   "cell_type": "code",
   "execution_count": 40,
   "metadata": {
    "executionInfo": {
     "elapsed": 811,
     "status": "ok",
     "timestamp": 1606411140889,
     "user": {
      "displayName": "juan cruz montes de oca",
      "photoUrl": "",
      "userId": "02993317737855160151"
     },
     "user_tz": 180
    },
    "id": "bx6wPiycLPRd"
   },
   "outputs": [],
   "source": [
    "id_to_word = {v:k for k, v in word_to_id.items()}"
   ]
  },
  {
   "cell_type": "code",
   "execution_count": 41,
   "metadata": {
    "executionInfo": {
     "elapsed": 6992,
     "status": "ok",
     "timestamp": 1606411149354,
     "user": {
      "displayName": "juan cruz montes de oca",
      "photoUrl": "",
      "userId": "02993317737855160151"
     },
     "user_tz": 180
    },
    "id": "Woo4_cVlLU_v"
   },
   "outputs": [],
   "source": [
    "def tokenize(sentences, word_to_id):\n",
    "    return [[word_to_id[_] for _ in s if _ in word_to_id] for s in sentences]\n",
    "\n",
    "X_token_train = tokenize(X_train['clean_reviews'], word_to_id)\n",
    "X_token_test = tokenize(X_test['clean_reviews'], word_to_id)"
   ]
  },
  {
   "cell_type": "code",
   "execution_count": 42,
   "metadata": {
    "executionInfo": {
     "elapsed": 8615,
     "status": "ok",
     "timestamp": 1606411160180,
     "user": {
      "displayName": "juan cruz montes de oca",
      "photoUrl": "",
      "userId": "02993317737855160151"
     },
     "user_tz": 180
    },
    "id": "k3K3Dnt6AY70"
   },
   "outputs": [],
   "source": [
    "from tensorflow.keras.preprocessing.sequence import pad_sequences\n",
    "\n",
    "X_train_maxlen = pad_sequences(X_token_train, maxlen=150, dtype='float32', padding='post')\n",
    "X_test_maxlen = pad_sequences(X_token_test, maxlen=150, dtype='float32', padding='post')"
   ]
  },
  {
   "cell_type": "code",
   "execution_count": 54,
   "metadata": {
    "colab": {
     "base_uri": "https://localhost:8080/"
    },
    "executionInfo": {
     "elapsed": 737,
     "status": "ok",
     "timestamp": 1606418859099,
     "user": {
      "displayName": "juan cruz montes de oca",
      "photoUrl": "",
      "userId": "02993317737855160151"
     },
     "user_tz": 180
    },
    "id": "TzMjECvz43ER",
    "outputId": "925e1922-5a5e-406a-a9b0-71ffd832a08b"
   },
   "outputs": [
    {
     "data": {
      "text/plain": [
       "array([ 12., 191.,   7., 192., 107., 193., 194., 195.,  97., 196., 197.,\n",
       "       198., 199., 200., 201., 202., 203., 204.,  12., 205., 206., 207.,\n",
       "       208., 193., 101., 193., 208.,  20., 209., 210., 211., 212., 213.,\n",
       "       214., 215., 216., 217.,  97., 218., 219., 220., 221., 219., 222.,\n",
       "       223., 193., 193., 224., 225., 183., 226., 219., 227., 193., 228.,\n",
       "        20., 208., 193., 193., 229., 230., 208., 193., 107., 231., 232.,\n",
       "       233.,  71., 234., 235., 236., 237., 238., 239., 240., 241., 242.,\n",
       "       125., 235., 236., 243., 244.,  37., 245.,  28., 246.,  53., 203.,\n",
       "       204.,   0.,   0.,   0.,   0.,   0.,   0.,   0.,   0.,   0.,   0.,\n",
       "         0.,   0.,   0.,   0.,   0.,   0.,   0.,   0.,   0.,   0.,   0.,\n",
       "         0.,   0.,   0.,   0.,   0.,   0.,   0.,   0.,   0.,   0.,   0.,\n",
       "         0.,   0.,   0.,   0.,   0.,   0.,   0.,   0.,   0.,   0.,   0.,\n",
       "         0.,   0.,   0.,   0.,   0.,   0.,   0.,   0.,   0.,   0.,   0.,\n",
       "         0.,   0.,   0.,   0.,   0.,   0.,   0.], dtype=float32)"
      ]
     },
     "execution_count": 54,
     "metadata": {
      "tags": []
     },
     "output_type": "execute_result"
    }
   ],
   "source": [
    "X_train_maxlen[1]"
   ]
  },
  {
   "cell_type": "code",
   "execution_count": 43,
   "metadata": {
    "executionInfo": {
     "elapsed": 720,
     "status": "ok",
     "timestamp": 1606411174498,
     "user": {
      "displayName": "juan cruz montes de oca",
      "photoUrl": "",
      "userId": "02993317737855160151"
     },
     "user_tz": 180
    },
    "id": "8x4v25yJLkLH"
   },
   "outputs": [],
   "source": [
    "from tensorflow.keras import Sequential\n",
    "from tensorflow.keras import layers \n",
    "\n",
    "def init_model(vocab_size):\n",
    "    model = Sequential()\n",
    "    model.add(layers.Embedding(input_dim=vocab_size+1, output_dim=30, mask_zero=True))\n",
    "    model.add(layers.LSTM(10))\n",
    "    model.add(layers.Dense(5))\n",
    "    model.add(layers.Dense(1, activation='sigmoid'))\n",
    "\n",
    "    model.compile(loss='binary_crossentropy', optimizer='rmsprop', metrics=['accuracy'])\n",
    "    \n",
    "    return model"
   ]
  },
  {
   "cell_type": "code",
   "execution_count": 44,
   "metadata": {
    "colab": {
     "base_uri": "https://localhost:8080/"
    },
    "executionInfo": {
     "elapsed": 658204,
     "status": "ok",
     "timestamp": 1606411834768,
     "user": {
      "displayName": "juan cruz montes de oca",
      "photoUrl": "",
      "userId": "02993317737855160151"
     },
     "user_tz": 180
    },
    "id": "Ij7cKD7GMaiF",
    "outputId": "fb0ab3e1-1b09-4009-f45e-5669b1dbfed7"
   },
   "outputs": [
    {
     "name": "stdout",
     "output_type": "stream",
     "text": [
      "Epoch 1/100\n",
      "3063/3063 [==============================] - 91s 30ms/step - loss: 0.5572 - accuracy: 0.7247 - val_loss: 0.5355 - val_accuracy: 0.7402\n",
      "Epoch 2/100\n",
      "3063/3063 [==============================] - 90s 30ms/step - loss: 0.5130 - accuracy: 0.7582 - val_loss: 0.5279 - val_accuracy: 0.7479\n",
      "Epoch 3/100\n",
      "3063/3063 [==============================] - 89s 29ms/step - loss: 0.4867 - accuracy: 0.7753 - val_loss: 0.5305 - val_accuracy: 0.7485\n",
      "Epoch 4/100\n",
      "3063/3063 [==============================] - 90s 29ms/step - loss: 0.4599 - accuracy: 0.7928 - val_loss: 0.5404 - val_accuracy: 0.7449\n",
      "Epoch 5/100\n",
      "3063/3063 [==============================] - 93s 30ms/step - loss: 0.4297 - accuracy: 0.8107 - val_loss: 0.5598 - val_accuracy: 0.7414\n",
      "Epoch 6/100\n",
      "3063/3063 [==============================] - 93s 30ms/step - loss: 0.3962 - accuracy: 0.8298 - val_loss: 0.5730 - val_accuracy: 0.7282\n",
      "Epoch 7/100\n",
      "3063/3063 [==============================] - 94s 31ms/step - loss: 0.3601 - accuracy: 0.8495 - val_loss: 0.6033 - val_accuracy: 0.7226\n"
     ]
    },
    {
     "data": {
      "text/plain": [
       "<tensorflow.python.keras.callbacks.History at 0x7f76e779b7f0>"
      ]
     },
     "execution_count": 44,
     "metadata": {
      "tags": []
     },
     "output_type": "execute_result"
    }
   ],
   "source": [
    "from tensorflow.keras.callbacks import EarlyStopping\n",
    "\n",
    "model = init_model(len(word_to_id))\n",
    "\n",
    "es = EarlyStopping(patience=5, restore_best_weights=True)\n",
    "\n",
    "model.fit(X_train_maxlen, y_train, \n",
    "          epochs=100, \n",
    "          batch_size=32,\n",
    "          validation_split=0.3,\n",
    "          callbacks=[es]\n",
    "         )"
   ]
  },
  {
   "cell_type": "code",
   "execution_count": 45,
   "metadata": {
    "colab": {
     "base_uri": "https://localhost:8080/"
    },
    "executionInfo": {
     "elapsed": 10483,
     "status": "ok",
     "timestamp": 1606412192614,
     "user": {
      "displayName": "juan cruz montes de oca",
      "photoUrl": "",
      "userId": "02993317737855160151"
     },
     "user_tz": 180
    },
    "id": "wzTXOihrOmjt",
    "outputId": "ef031f09-17cc-4922-eab9-2c290d8b4475"
   },
   "outputs": [
    {
     "name": "stdout",
     "output_type": "stream",
     "text": [
      "1876/1876 [==============================] - 10s 5ms/step - loss: 0.5241 - accuracy: 0.7519\n",
      "Test accuracy: 0.7518874406814575\n"
     ]
    }
   ],
   "source": [
    "res = model.evaluate(X_test_maxlen, y_test)\n",
    "print('Test accuracy:', res[1])"
   ]
  },
  {
   "cell_type": "code",
   "execution_count": 52,
   "metadata": {
    "colab": {
     "base_uri": "https://localhost:8080/"
    },
    "executionInfo": {
     "elapsed": 976,
     "status": "ok",
     "timestamp": 1606416775162,
     "user": {
      "displayName": "juan cruz montes de oca",
      "photoUrl": "",
      "userId": "02993317737855160151"
     },
     "user_tz": 180
    },
    "id": "LANjbmt8PB_5",
    "outputId": "58c4cf24-5028-4625-bd8e-f55c6d563088"
   },
   "outputs": [
    {
     "data": {
      "text/plain": [
       "array([[0.67379004]], dtype=float32)"
      ]
     },
     "execution_count": 52,
     "metadata": {
      "tags": []
     },
     "output_type": "execute_result"
    }
   ],
   "source": [
    "review_to_predict = ['spoiler spoiler spoiler alert this is a spoiler, darth vader is lukes father. im making a spoiler']\n",
    "\n",
    "sentence_converted = convert_sentences(review_to_predict)\n",
    "\n",
    "#print(sentence_converted)\n",
    "\n",
    "prediction_token = tokenize(sentence_converted, word_to_id)\n",
    "\n",
    "prediction_pad = pad_sequences(prediction_token, maxlen=150, dtype='float32', padding='post')\n",
    "\n",
    "model.predict(prediction_pad)"
   ]
  },
  {
   "cell_type": "code",
   "execution_count": 55,
   "metadata": {
    "colab": {
     "base_uri": "https://localhost:8080/"
    },
    "executionInfo": {
     "elapsed": 1303,
     "status": "ok",
     "timestamp": 1606419413183,
     "user": {
      "displayName": "juan cruz montes de oca",
      "photoUrl": "",
      "userId": "02993317737855160151"
     },
     "user_tz": 180
    },
    "id": "pcBvkCixDf_Y",
    "outputId": "b688eaf7-2cd4-47c2-d797-a02e195405a7"
   },
   "outputs": [
    {
     "name": "stdout",
     "output_type": "stream",
     "text": [
      "WARNING:tensorflow:From <ipython-input-55-f471063bed9c>:1: Sequential.predict_proba (from tensorflow.python.keras.engine.sequential) is deprecated and will be removed after 2021-01-01.\n",
      "Instructions for updating:\n",
      "Please use `model.predict()` instead.\n"
     ]
    },
    {
     "data": {
      "text/plain": [
       "array([[0.67379004]], dtype=float32)"
      ]
     },
     "execution_count": 55,
     "metadata": {
      "tags": []
     },
     "output_type": "execute_result"
    }
   ],
   "source": [
    "model.predict_proba(prediction_pad)"
   ]
  }
 ],
 "metadata": {
  "accelerator": "GPU",
  "colab": {
   "collapsed_sections": [],
   "name": "data_exploration.ipynb",
   "provenance": []
  },
  "kernelspec": {
   "display_name": "Python 3",
   "language": "python",
   "name": "python3"
  },
  "language_info": {
   "codemirror_mode": {
    "name": "ipython",
    "version": 3
   },
   "file_extension": ".py",
   "mimetype": "text/x-python",
   "name": "python",
   "nbconvert_exporter": "python",
   "pygments_lexer": "ipython3",
   "version": "3.7.7"
  },
  "toc": {
   "base_numbering": 1,
   "nav_menu": {},
   "number_sections": true,
   "sideBar": true,
   "skip_h1_title": false,
   "title_cell": "Table of Contents",
   "title_sidebar": "Contents",
   "toc_cell": false,
   "toc_position": {},
   "toc_section_display": true,
   "toc_window_display": false
  }
 },
 "nbformat": 4,
 "nbformat_minor": 1
}
