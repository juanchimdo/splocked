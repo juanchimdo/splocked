{
 "cells": [
  {
   "cell_type": "code",
   "execution_count": 13,
   "metadata": {
    "executionInfo": {
     "elapsed": 783,
     "status": "ok",
     "timestamp": 1606410279084,
     "user": {
      "displayName": "juan cruz montes de oca",
      "photoUrl": "",
      "userId": "02993317737855160151"
     },
     "user_tz": 180
    },
    "id": "MrH_pyF8sJQ6"
   },
   "outputs": [],
   "source": [
    "import numpy as np\n",
    "import pandas as pd\n",
    "from nltk.tokenize import word_tokenize\n",
    "from nltk.corpus import stopwords \n",
    "import string\n",
    "import nltk\n",
    "from nltk.stem.porter import PorterStemmer\n",
    "from sklearn.model_selection import train_test_split"
   ]
  },
  {
   "cell_type": "code",
   "execution_count": 2,
   "metadata": {
    "colab": {
     "base_uri": "https://localhost:8080/"
    },
    "executionInfo": {
     "elapsed": 903,
     "status": "ok",
     "timestamp": 1606410281030,
     "user": {
      "displayName": "juan cruz montes de oca",
      "photoUrl": "",
      "userId": "02993317737855160151"
     },
     "user_tz": 180
    },
    "id": "nYZsAc8JsvQw",
    "outputId": "468238a8-5383-48c1-ed3d-230281dc2eff"
   },
   "outputs": [],
   "source": [
    "# From the cloud\n",
    "\n",
    "#from google.colab import drive\n",
    "#drive.mount(\"/content/drive\")\n",
    "#df = pd.read_json('/content/drive/My Drive/Colab Notebooks/IMDB_reviews.json', lines=True)\n",
    "#df.head()"
   ]
  },
  {
   "cell_type": "code",
   "execution_count": 22,
   "metadata": {
    "colab": {
     "base_uri": "https://localhost:8080/",
     "height": 204
    },
    "executionInfo": {
     "elapsed": 10691,
     "status": "ok",
     "timestamp": 1606410292999,
     "user": {
      "displayName": "juan cruz montes de oca",
      "photoUrl": "",
      "userId": "02993317737855160151"
     },
     "user_tz": 180
    },
    "id": "qP0c1NyfsJQ6",
    "outputId": "20560a65-6bc6-42fa-e728-8defdef2ce64"
   },
   "outputs": [
    {
     "data": {
      "text/html": [
       "<div>\n",
       "<style scoped>\n",
       "    .dataframe tbody tr th:only-of-type {\n",
       "        vertical-align: middle;\n",
       "    }\n",
       "\n",
       "    .dataframe tbody tr th {\n",
       "        vertical-align: top;\n",
       "    }\n",
       "\n",
       "    .dataframe thead th {\n",
       "        text-align: right;\n",
       "    }\n",
       "</style>\n",
       "<table border=\"1\" class=\"dataframe\">\n",
       "  <thead>\n",
       "    <tr style=\"text-align: right;\">\n",
       "      <th></th>\n",
       "      <th>is_spoiler</th>\n",
       "      <th>movie_id</th>\n",
       "      <th>rating</th>\n",
       "      <th>review_date</th>\n",
       "      <th>review_summary</th>\n",
       "      <th>review_text</th>\n",
       "      <th>user_id</th>\n",
       "    </tr>\n",
       "  </thead>\n",
       "  <tbody>\n",
       "    <tr>\n",
       "      <th>0</th>\n",
       "      <td>True</td>\n",
       "      <td>tt0111161</td>\n",
       "      <td>10</td>\n",
       "      <td>10 February 2006</td>\n",
       "      <td>A classic piece of unforgettable film-making.</td>\n",
       "      <td>In its Oscar year, Shawshank Redemption (writt...</td>\n",
       "      <td>ur1898687</td>\n",
       "    </tr>\n",
       "    <tr>\n",
       "      <th>1</th>\n",
       "      <td>True</td>\n",
       "      <td>tt0111161</td>\n",
       "      <td>10</td>\n",
       "      <td>6 September 2000</td>\n",
       "      <td>Simply amazing. The best film of the 90's.</td>\n",
       "      <td>The Shawshank Redemption is without a doubt on...</td>\n",
       "      <td>ur0842118</td>\n",
       "    </tr>\n",
       "    <tr>\n",
       "      <th>2</th>\n",
       "      <td>True</td>\n",
       "      <td>tt0111161</td>\n",
       "      <td>8</td>\n",
       "      <td>3 August 2001</td>\n",
       "      <td>The best story ever told on film</td>\n",
       "      <td>I believe that this film is the best story eve...</td>\n",
       "      <td>ur1285640</td>\n",
       "    </tr>\n",
       "    <tr>\n",
       "      <th>3</th>\n",
       "      <td>True</td>\n",
       "      <td>tt0111161</td>\n",
       "      <td>10</td>\n",
       "      <td>1 September 2002</td>\n",
       "      <td>Busy dying or busy living?</td>\n",
       "      <td>**Yes, there are SPOILERS here**This film has ...</td>\n",
       "      <td>ur1003471</td>\n",
       "    </tr>\n",
       "    <tr>\n",
       "      <th>4</th>\n",
       "      <td>True</td>\n",
       "      <td>tt0111161</td>\n",
       "      <td>8</td>\n",
       "      <td>20 May 2004</td>\n",
       "      <td>Great story, wondrously told and acted</td>\n",
       "      <td>At the heart of this extraordinary movie is a ...</td>\n",
       "      <td>ur0226855</td>\n",
       "    </tr>\n",
       "  </tbody>\n",
       "</table>\n",
       "</div>"
      ],
      "text/plain": [
       "   is_spoiler   movie_id  rating       review_date  \\\n",
       "0        True  tt0111161      10  10 February 2006   \n",
       "1        True  tt0111161      10  6 September 2000   \n",
       "2        True  tt0111161       8     3 August 2001   \n",
       "3        True  tt0111161      10  1 September 2002   \n",
       "4        True  tt0111161       8       20 May 2004   \n",
       "\n",
       "                                  review_summary  \\\n",
       "0  A classic piece of unforgettable film-making.   \n",
       "1     Simply amazing. The best film of the 90's.   \n",
       "2               The best story ever told on film   \n",
       "3                     Busy dying or busy living?   \n",
       "4         Great story, wondrously told and acted   \n",
       "\n",
       "                                         review_text    user_id  \n",
       "0  In its Oscar year, Shawshank Redemption (writt...  ur1898687  \n",
       "1  The Shawshank Redemption is without a doubt on...  ur0842118  \n",
       "2  I believe that this film is the best story eve...  ur1285640  \n",
       "3  **Yes, there are SPOILERS here**This film has ...  ur1003471  \n",
       "4  At the heart of this extraordinary movie is a ...  ur0226855  "
      ]
     },
     "execution_count": 22,
     "metadata": {},
     "output_type": "execute_result"
    }
   ],
   "source": [
    "# Locally\n",
    "\n",
    "data = pd.read_json('../../Raw_Data/IMDB_reviews.json', lines=True)\n",
    "data.head()"
   ]
  },
  {
   "cell_type": "code",
   "execution_count": 23,
   "metadata": {
    "executionInfo": {
     "elapsed": 811,
     "status": "ok",
     "timestamp": 1606410294959,
     "user": {
      "displayName": "juan cruz montes de oca",
      "photoUrl": "",
      "userId": "02993317737855160151"
     },
     "user_tz": 180
    },
    "id": "-N7Hm-1A_bAo"
   },
   "outputs": [],
   "source": [
    "df = data.loc[:1000, :].copy()"
   ]
  },
  {
   "cell_type": "code",
   "execution_count": 24,
   "metadata": {
    "colab": {
     "base_uri": "https://localhost:8080/",
     "height": 204
    },
    "executionInfo": {
     "elapsed": 655,
     "status": "ok",
     "timestamp": 1606410296190,
     "user": {
      "displayName": "juan cruz montes de oca",
      "photoUrl": "",
      "userId": "02993317737855160151"
     },
     "user_tz": 180
    },
    "id": "tNQclegnsJQ6",
    "outputId": "ab71ef93-d9ef-4d18-df55-9fd3e2717523"
   },
   "outputs": [
    {
     "data": {
      "text/html": [
       "<div>\n",
       "<style scoped>\n",
       "    .dataframe tbody tr th:only-of-type {\n",
       "        vertical-align: middle;\n",
       "    }\n",
       "\n",
       "    .dataframe tbody tr th {\n",
       "        vertical-align: top;\n",
       "    }\n",
       "\n",
       "    .dataframe thead th {\n",
       "        text-align: right;\n",
       "    }\n",
       "</style>\n",
       "<table border=\"1\" class=\"dataframe\">\n",
       "  <thead>\n",
       "    <tr style=\"text-align: right;\">\n",
       "      <th></th>\n",
       "      <th>is_spoiler</th>\n",
       "      <th>review</th>\n",
       "    </tr>\n",
       "  </thead>\n",
       "  <tbody>\n",
       "    <tr>\n",
       "      <th>0</th>\n",
       "      <td>1</td>\n",
       "      <td>A classic piece of unforgettable film-making. ...</td>\n",
       "    </tr>\n",
       "    <tr>\n",
       "      <th>1</th>\n",
       "      <td>1</td>\n",
       "      <td>Simply amazing. The best film of the 90's. The...</td>\n",
       "    </tr>\n",
       "    <tr>\n",
       "      <th>2</th>\n",
       "      <td>1</td>\n",
       "      <td>The best story ever told on film I believe tha...</td>\n",
       "    </tr>\n",
       "    <tr>\n",
       "      <th>3</th>\n",
       "      <td>1</td>\n",
       "      <td>Busy dying or busy living? **Yes, there are SP...</td>\n",
       "    </tr>\n",
       "    <tr>\n",
       "      <th>4</th>\n",
       "      <td>1</td>\n",
       "      <td>Great story, wondrously told and acted At the ...</td>\n",
       "    </tr>\n",
       "  </tbody>\n",
       "</table>\n",
       "</div>"
      ],
      "text/plain": [
       "   is_spoiler                                             review\n",
       "0           1  A classic piece of unforgettable film-making. ...\n",
       "1           1  Simply amazing. The best film of the 90's. The...\n",
       "2           1  The best story ever told on film I believe tha...\n",
       "3           1  Busy dying or busy living? **Yes, there are SP...\n",
       "4           1  Great story, wondrously told and acted At the ..."
      ]
     },
     "execution_count": 24,
     "metadata": {},
     "output_type": "execute_result"
    }
   ],
   "source": [
    "df = df[['is_spoiler', 'review_summary', 'review_text']]\n",
    "\n",
    "df['review'] = df['review_summary'] + ' ' + df['review_text']\n",
    "\n",
    "df = df.drop(columns=['review_summary', 'review_text'])\n",
    "\n",
    "df['is_spoiler'] = df['is_spoiler'].map({True:1, False:0})\n",
    "\n",
    "df.head()"
   ]
  },
  {
   "cell_type": "code",
   "execution_count": 25,
   "metadata": {
    "colab": {
     "base_uri": "https://localhost:8080/"
    },
    "executionInfo": {
     "elapsed": 803,
     "status": "ok",
     "timestamp": 1606410305758,
     "user": {
      "displayName": "juan cruz montes de oca",
      "photoUrl": "",
      "userId": "02993317737855160151"
     },
     "user_tz": 180
    },
    "id": "4K4lTvhNsJQ7",
    "outputId": "d6a8ab56-3c7f-4337-d9ae-6521ce794952"
   },
   "outputs": [
    {
     "data": {
      "text/plain": [
       "(1001, 2)"
      ]
     },
     "execution_count": 25,
     "metadata": {},
     "output_type": "execute_result"
    }
   ],
   "source": [
    "df.shape"
   ]
  },
  {
   "cell_type": "code",
   "execution_count": 27,
   "metadata": {
    "colab": {
     "base_uri": "https://localhost:8080/"
    },
    "executionInfo": {
     "elapsed": 707,
     "status": "ok",
     "timestamp": 1606410309571,
     "user": {
      "displayName": "juan cruz montes de oca",
      "photoUrl": "",
      "userId": "02993317737855160151"
     },
     "user_tz": 180
    },
    "id": "x4HgR_PrsJQ7",
    "outputId": "f9ebe963-de28-426f-afce-3278fceef7ad"
   },
   "outputs": [
    {
     "data": {
      "text/plain": [
       "1    956\n",
       "0     45\n",
       "Name: is_spoiler, dtype: int64"
      ]
     },
     "execution_count": 27,
     "metadata": {},
     "output_type": "execute_result"
    }
   ],
   "source": [
    "df['is_spoiler'].value_counts()"
   ]
  },
  {
   "cell_type": "code",
   "execution_count": 31,
   "metadata": {
    "executionInfo": {
     "elapsed": 1030,
     "status": "ok",
     "timestamp": 1606410313007,
     "user": {
      "displayName": "juan cruz montes de oca",
      "photoUrl": "",
      "userId": "02993317737855160151"
     },
     "user_tz": 180
    },
    "id": "RL-s1ILhsJQ-"
   },
   "outputs": [
    {
     "name": "stderr",
     "output_type": "stream",
     "text": [
      "[nltk_data] Downloading package stopwords to\n",
      "[nltk_data]     /Users/juanchimdo/nltk_data...\n",
      "[nltk_data]   Package stopwords is already up-to-date!\n"
     ]
    },
    {
     "data": {
      "text/html": [
       "<div>\n",
       "<style scoped>\n",
       "    .dataframe tbody tr th:only-of-type {\n",
       "        vertical-align: middle;\n",
       "    }\n",
       "\n",
       "    .dataframe tbody tr th {\n",
       "        vertical-align: top;\n",
       "    }\n",
       "\n",
       "    .dataframe thead th {\n",
       "        text-align: right;\n",
       "    }\n",
       "</style>\n",
       "<table border=\"1\" class=\"dataframe\">\n",
       "  <thead>\n",
       "    <tr style=\"text-align: right;\">\n",
       "      <th></th>\n",
       "      <th>is_spoiler</th>\n",
       "      <th>review</th>\n",
       "      <th>clean_reviews</th>\n",
       "    </tr>\n",
       "  </thead>\n",
       "  <tbody>\n",
       "    <tr>\n",
       "      <th>0</th>\n",
       "      <td>1</td>\n",
       "      <td>A classic piece of unforgettable film-making. ...</td>\n",
       "      <td>classic piece unforgettable film making oscar ...</td>\n",
       "    </tr>\n",
       "    <tr>\n",
       "      <th>1</th>\n",
       "      <td>1</td>\n",
       "      <td>Simply amazing. The best film of the 90's. The...</td>\n",
       "      <td>simply amazing best film shawshank redemption ...</td>\n",
       "    </tr>\n",
       "    <tr>\n",
       "      <th>2</th>\n",
       "      <td>1</td>\n",
       "      <td>The best story ever told on film I believe tha...</td>\n",
       "      <td>best story ever told film believe film best st...</td>\n",
       "    </tr>\n",
       "    <tr>\n",
       "      <th>3</th>\n",
       "      <td>1</td>\n",
       "      <td>Busy dying or busy living? **Yes, there are SP...</td>\n",
       "      <td>busy dying busy living yes spoilers film emoti...</td>\n",
       "    </tr>\n",
       "    <tr>\n",
       "      <th>4</th>\n",
       "      <td>1</td>\n",
       "      <td>Great story, wondrously told and acted At the ...</td>\n",
       "      <td>great story wondrously told acted heart extrao...</td>\n",
       "    </tr>\n",
       "  </tbody>\n",
       "</table>\n",
       "</div>"
      ],
      "text/plain": [
       "   is_spoiler                                             review  \\\n",
       "0           1  A classic piece of unforgettable film-making. ...   \n",
       "1           1  Simply amazing. The best film of the 90's. The...   \n",
       "2           1  The best story ever told on film I believe tha...   \n",
       "3           1  Busy dying or busy living? **Yes, there are SP...   \n",
       "4           1  Great story, wondrously told and acted At the ...   \n",
       "\n",
       "                                       clean_reviews  \n",
       "0  classic piece unforgettable film making oscar ...  \n",
       "1  simply amazing best film shawshank redemption ...  \n",
       "2  best story ever told film believe film best st...  \n",
       "3  busy dying busy living yes spoilers film emoti...  \n",
       "4  great story wondrously told acted heart extrao...  "
      ]
     },
     "execution_count": 31,
     "metadata": {},
     "output_type": "execute_result"
    }
   ],
   "source": [
    "def clean (text):\n",
    "    \n",
    "    for punctuation in string.punctuation:\n",
    "        text = text.replace(punctuation, ' ') # Remove Punctuation\n",
    "        \n",
    "    lowercased = text.lower() # Lower Case\n",
    "        \n",
    "    tokenized = word_tokenize(lowercased) # Tokenize\n",
    "    \n",
    "    words_only = [word for word in tokenized if word.isalpha()] # Remove numbers\n",
    "    \n",
    "    stop_words = set(stopwords.words('english')) # Make stopword list\n",
    "    \n",
    "    without_stopwords = [word for word in words_only if not word in stop_words] # Remove Stop Words\n",
    "    \n",
    "    return \" \".join(without_stopwords)\n",
    "\n",
    "nltk.download('stopwords')\n",
    "\n",
    "df['clean_reviews'] = df['review'].apply(clean)\n",
    "\n",
    "df.head()"
   ]
  },
  {
   "cell_type": "code",
   "execution_count": 32,
   "metadata": {
    "executionInfo": {
     "elapsed": 812,
     "status": "ok",
     "timestamp": 1606410561791,
     "user": {
      "displayName": "juan cruz montes de oca",
      "photoUrl": "",
      "userId": "02993317737855160151"
     },
     "user_tz": 180
    },
    "id": "dPQhzb5wsJQ-"
   },
   "outputs": [
    {
     "data": {
      "text/html": [
       "<div>\n",
       "<style scoped>\n",
       "    .dataframe tbody tr th:only-of-type {\n",
       "        vertical-align: middle;\n",
       "    }\n",
       "\n",
       "    .dataframe tbody tr th {\n",
       "        vertical-align: top;\n",
       "    }\n",
       "\n",
       "    .dataframe thead th {\n",
       "        text-align: right;\n",
       "    }\n",
       "</style>\n",
       "<table border=\"1\" class=\"dataframe\">\n",
       "  <thead>\n",
       "    <tr style=\"text-align: right;\">\n",
       "      <th></th>\n",
       "      <th>is_spoiler</th>\n",
       "      <th>clean_reviews</th>\n",
       "    </tr>\n",
       "  </thead>\n",
       "  <tbody>\n",
       "    <tr>\n",
       "      <th>0</th>\n",
       "      <td>1</td>\n",
       "      <td>classic piece unforgettable film making oscar ...</td>\n",
       "    </tr>\n",
       "    <tr>\n",
       "      <th>1</th>\n",
       "      <td>1</td>\n",
       "      <td>simply amazing best film shawshank redemption ...</td>\n",
       "    </tr>\n",
       "    <tr>\n",
       "      <th>2</th>\n",
       "      <td>1</td>\n",
       "      <td>best story ever told film believe film best st...</td>\n",
       "    </tr>\n",
       "    <tr>\n",
       "      <th>3</th>\n",
       "      <td>1</td>\n",
       "      <td>busy dying busy living yes spoilers film emoti...</td>\n",
       "    </tr>\n",
       "    <tr>\n",
       "      <th>4</th>\n",
       "      <td>1</td>\n",
       "      <td>great story wondrously told acted heart extrao...</td>\n",
       "    </tr>\n",
       "  </tbody>\n",
       "</table>\n",
       "</div>"
      ],
      "text/plain": [
       "   is_spoiler                                      clean_reviews\n",
       "0           1  classic piece unforgettable film making oscar ...\n",
       "1           1  simply amazing best film shawshank redemption ...\n",
       "2           1  best story ever told film believe film best st...\n",
       "3           1  busy dying busy living yes spoilers film emoti...\n",
       "4           1  great story wondrously told acted heart extrao..."
      ]
     },
     "execution_count": 32,
     "metadata": {},
     "output_type": "execute_result"
    }
   ],
   "source": [
    "df.drop(columns='review', inplace=True)\n",
    "\n",
    "df.head()"
   ]
  },
  {
   "cell_type": "code",
   "execution_count": 33,
   "metadata": {
    "colab": {
     "base_uri": "https://localhost:8080/",
     "height": 238
    },
    "executionInfo": {
     "elapsed": 545100,
     "status": "ok",
     "timestamp": 1606411109508,
     "user": {
      "displayName": "juan cruz montes de oca",
      "photoUrl": "",
      "userId": "02993317737855160151"
     },
     "user_tz": 180
    },
    "id": "wOcAEDZUsJQ-",
    "outputId": "1aae7d07-12aa-4e1f-b584-10520bd84d45"
   },
   "outputs": [
    {
     "name": "stderr",
     "output_type": "stream",
     "text": [
      "[nltk_data] Downloading package wordnet to\n",
      "[nltk_data]     /Users/juanchimdo/nltk_data...\n",
      "[nltk_data]   Package wordnet is already up-to-date!\n"
     ]
    },
    {
     "data": {
      "text/html": [
       "<div>\n",
       "<style scoped>\n",
       "    .dataframe tbody tr th:only-of-type {\n",
       "        vertical-align: middle;\n",
       "    }\n",
       "\n",
       "    .dataframe tbody tr th {\n",
       "        vertical-align: top;\n",
       "    }\n",
       "\n",
       "    .dataframe thead th {\n",
       "        text-align: right;\n",
       "    }\n",
       "</style>\n",
       "<table border=\"1\" class=\"dataframe\">\n",
       "  <thead>\n",
       "    <tr style=\"text-align: right;\">\n",
       "      <th></th>\n",
       "      <th>is_spoiler</th>\n",
       "      <th>clean_reviews</th>\n",
       "    </tr>\n",
       "  </thead>\n",
       "  <tbody>\n",
       "    <tr>\n",
       "      <th>0</th>\n",
       "      <td>1</td>\n",
       "      <td>classic piec unforgett film make oscar year sh...</td>\n",
       "    </tr>\n",
       "    <tr>\n",
       "      <th>1</th>\n",
       "      <td>1</td>\n",
       "      <td>simpli amaz best film shawshank redempt withou...</td>\n",
       "    </tr>\n",
       "    <tr>\n",
       "      <th>2</th>\n",
       "      <td>1</td>\n",
       "      <td>best stori ever told film believ film best sto...</td>\n",
       "    </tr>\n",
       "    <tr>\n",
       "      <th>3</th>\n",
       "      <td>1</td>\n",
       "      <td>busi die busi live ye spoiler film emot impact...</td>\n",
       "    </tr>\n",
       "    <tr>\n",
       "      <th>4</th>\n",
       "      <td>1</td>\n",
       "      <td>great stori wondrous told act heart extraordin...</td>\n",
       "    </tr>\n",
       "  </tbody>\n",
       "</table>\n",
       "</div>"
      ],
      "text/plain": [
       "   is_spoiler                                      clean_reviews\n",
       "0           1  classic piec unforgett film make oscar year sh...\n",
       "1           1  simpli amaz best film shawshank redempt withou...\n",
       "2           1  best stori ever told film believ film best sto...\n",
       "3           1  busi die busi live ye spoiler film emot impact...\n",
       "4           1  great stori wondrous told act heart extraordin..."
      ]
     },
     "execution_count": 33,
     "metadata": {},
     "output_type": "execute_result"
    }
   ],
   "source": [
    "nltk.download('wordnet')\n",
    "\n",
    "def stemm (text):\n",
    "    tokenized = word_tokenize(text)\n",
    "    stemmer = PorterStemmer()\n",
    "    stemmed = [stemmer.stem(word) for word in tokenized]\n",
    "    return \" \".join(stemmed)\n",
    "\n",
    "df['clean_reviews'] = df['clean_reviews'].apply(stemm)\n",
    "df.head()"
   ]
  },
  {
   "cell_type": "code",
   "execution_count": null,
   "metadata": {},
   "outputs": [],
   "source": [
    "# IN GOOGLE COLAB\n",
    "#df.to_csv('data_cleaned.csv', index=False)"
   ]
  },
  {
   "cell_type": "code",
   "execution_count": null,
   "metadata": {},
   "outputs": [],
   "source": [
    "# IN GOOGLE COLAB\n",
    "#!cp data_cleaned.csv \"drive/My Drive/\""
   ]
  }
 ],
 "metadata": {
  "accelerator": "GPU",
  "colab": {
   "collapsed_sections": [],
   "name": "data_exploration.ipynb",
   "provenance": []
  },
  "kernelspec": {
   "display_name": "Python 3",
   "language": "python",
   "name": "python3"
  },
  "language_info": {
   "codemirror_mode": {
    "name": "ipython",
    "version": 3
   },
   "file_extension": ".py",
   "mimetype": "text/x-python",
   "name": "python",
   "nbconvert_exporter": "python",
   "pygments_lexer": "ipython3",
   "version": "3.7.7"
  },
  "toc": {
   "base_numbering": 1,
   "nav_menu": {},
   "number_sections": true,
   "sideBar": true,
   "skip_h1_title": false,
   "title_cell": "Table of Contents",
   "title_sidebar": "Contents",
   "toc_cell": false,
   "toc_position": {},
   "toc_section_display": true,
   "toc_window_display": false
  }
 },
 "nbformat": 4,
 "nbformat_minor": 1
}
