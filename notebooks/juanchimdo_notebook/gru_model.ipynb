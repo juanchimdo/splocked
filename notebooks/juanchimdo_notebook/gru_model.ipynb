{
 "cells": [
  {
   "cell_type": "code",
   "execution_count": 2,
   "metadata": {
    "executionInfo": {
     "elapsed": 537,
     "status": "ok",
     "timestamp": 1606837354785,
     "user": {
      "displayName": "juan cruz montes de oca",
      "photoUrl": "",
      "userId": "02993317737855160151"
     },
     "user_tz": 180
    },
    "id": "WOeNob7xaAFY"
   },
   "outputs": [],
   "source": [
    "# REMEMBER TO TURN GPU ON !!!\n",
    "\n",
    "import pandas as pd\n",
    "from sklearn.model_selection import train_test_split\n",
    "from tensorflow.keras.preprocessing.sequence import pad_sequences\n",
    "from tensorflow.keras.metrics import Recall\n",
    "from tensorflow.keras import Sequential\n",
    "from tensorflow.keras import layers\n",
    "from tensorflow.keras.callbacks import EarlyStopping"
   ]
  },
  {
   "cell_type": "code",
   "execution_count": 3,
   "metadata": {
    "executionInfo": {
     "elapsed": 1219,
     "status": "ok",
     "timestamp": 1606837357911,
     "user": {
      "displayName": "juan cruz montes de oca",
      "photoUrl": "",
      "userId": "02993317737855160151"
     },
     "user_tz": 180
    },
    "id": "jJhKFSHsaAFZ"
   },
   "outputs": [],
   "source": [
    "# LOCALLY\n",
    "\n",
    "#data = pd.read_csv('../../Raw_Data/data_cleaned.csv')\n",
    "#data.head()"
   ]
  },
  {
   "cell_type": "code",
   "execution_count": 4,
   "metadata": {
    "colab": {
     "base_uri": "https://localhost:8080/",
     "height": 221
    },
    "executionInfo": {
     "elapsed": 28105,
     "status": "ok",
     "timestamp": 1606837387035,
     "user": {
      "displayName": "juan cruz montes de oca",
      "photoUrl": "",
      "userId": "02993317737855160151"
     },
     "user_tz": 180
    },
    "id": "sapa6lFHaLj1",
    "outputId": "a35f7984-5b9d-47cc-a501-26ff5a8432a0"
   },
   "outputs": [
    {
     "name": "stdout",
     "output_type": "stream",
     "text": [
      "Mounted at /content/drive\n"
     ]
    },
    {
     "data": {
      "text/html": [
       "<div>\n",
       "<style scoped>\n",
       "    .dataframe tbody tr th:only-of-type {\n",
       "        vertical-align: middle;\n",
       "    }\n",
       "\n",
       "    .dataframe tbody tr th {\n",
       "        vertical-align: top;\n",
       "    }\n",
       "\n",
       "    .dataframe thead th {\n",
       "        text-align: right;\n",
       "    }\n",
       "</style>\n",
       "<table border=\"1\" class=\"dataframe\">\n",
       "  <thead>\n",
       "    <tr style=\"text-align: right;\">\n",
       "      <th></th>\n",
       "      <th>is_spoiler</th>\n",
       "      <th>clean_reviews</th>\n",
       "    </tr>\n",
       "  </thead>\n",
       "  <tbody>\n",
       "    <tr>\n",
       "      <th>0</th>\n",
       "      <td>1</td>\n",
       "      <td>classic piec unforgett film make oscar year sh...</td>\n",
       "    </tr>\n",
       "    <tr>\n",
       "      <th>1</th>\n",
       "      <td>1</td>\n",
       "      <td>simpli amaz best film shawshank redempt withou...</td>\n",
       "    </tr>\n",
       "    <tr>\n",
       "      <th>2</th>\n",
       "      <td>1</td>\n",
       "      <td>best stori ever told film believ film best sto...</td>\n",
       "    </tr>\n",
       "    <tr>\n",
       "      <th>3</th>\n",
       "      <td>1</td>\n",
       "      <td>busi die busi live ye spoiler film emot impact...</td>\n",
       "    </tr>\n",
       "    <tr>\n",
       "      <th>4</th>\n",
       "      <td>1</td>\n",
       "      <td>great stori wondrous told act heart extraordin...</td>\n",
       "    </tr>\n",
       "  </tbody>\n",
       "</table>\n",
       "</div>"
      ],
      "text/plain": [
       "   is_spoiler                                      clean_reviews\n",
       "0           1  classic piec unforgett film make oscar year sh...\n",
       "1           1  simpli amaz best film shawshank redempt withou...\n",
       "2           1  best stori ever told film believ film best sto...\n",
       "3           1  busi die busi live ye spoiler film emot impact...\n",
       "4           1  great stori wondrous told act heart extraordin..."
      ]
     },
     "execution_count": 4,
     "metadata": {
      "tags": []
     },
     "output_type": "execute_result"
    }
   ],
   "source": [
    "# FROM GOOGLE COLAB\n",
    "\n",
    "from google.colab import drive\n",
    "drive.mount(\"/content/drive\")\n",
    "data = pd.read_csv('/content/drive/My Drive/data_cleaned.csv')\n",
    "data.head()"
   ]
  },
  {
   "cell_type": "code",
   "execution_count": 5,
   "metadata": {
    "colab": {
     "base_uri": "https://localhost:8080/"
    },
    "executionInfo": {
     "elapsed": 809,
     "status": "ok",
     "timestamp": 1606837390226,
     "user": {
      "displayName": "juan cruz montes de oca",
      "photoUrl": "",
      "userId": "02993317737855160151"
     },
     "user_tz": 180
    },
    "id": "UX2qSzesaAFa",
    "outputId": "0fac09b5-9ba5-4653-c9d2-0e6951fd64fd"
   },
   "outputs": [
    {
     "data": {
      "text/plain": [
       "(573913, 2)"
      ]
     },
     "execution_count": 5,
     "metadata": {
      "tags": []
     },
     "output_type": "execute_result"
    }
   ],
   "source": [
    "data.shape"
   ]
  },
  {
   "cell_type": "code",
   "execution_count": 6,
   "metadata": {
    "colab": {
     "base_uri": "https://localhost:8080/",
     "height": 419
    },
    "executionInfo": {
     "elapsed": 1264,
     "status": "ok",
     "timestamp": 1606837441311,
     "user": {
      "displayName": "juan cruz montes de oca",
      "photoUrl": "",
      "userId": "02993317737855160151"
     },
     "user_tz": 180
    },
    "id": "iXlcKGFn-VLe",
    "outputId": "c4cb83cd-2af0-4b72-efab-eecee81cd7fe"
   },
   "outputs": [
    {
     "data": {
      "text/html": [
       "<div>\n",
       "<style scoped>\n",
       "    .dataframe tbody tr th:only-of-type {\n",
       "        vertical-align: middle;\n",
       "    }\n",
       "\n",
       "    .dataframe tbody tr th {\n",
       "        vertical-align: top;\n",
       "    }\n",
       "\n",
       "    .dataframe thead th {\n",
       "        text-align: right;\n",
       "    }\n",
       "</style>\n",
       "<table border=\"1\" class=\"dataframe\">\n",
       "  <thead>\n",
       "    <tr style=\"text-align: right;\">\n",
       "      <th></th>\n",
       "      <th>is_spoiler</th>\n",
       "      <th>clean_reviews</th>\n",
       "    </tr>\n",
       "  </thead>\n",
       "  <tbody>\n",
       "    <tr>\n",
       "      <th>0</th>\n",
       "      <td>1</td>\n",
       "      <td>lightheart romp whitewash genocid whole famili...</td>\n",
       "    </tr>\n",
       "    <tr>\n",
       "      <th>1</th>\n",
       "      <td>0</td>\n",
       "      <td>live everi posit review head late show tonight...</td>\n",
       "    </tr>\n",
       "    <tr>\n",
       "      <th>2</th>\n",
       "      <td>0</td>\n",
       "      <td>well done open rang pretti good job show life ...</td>\n",
       "    </tr>\n",
       "    <tr>\n",
       "      <th>3</th>\n",
       "      <td>1</td>\n",
       "      <td>love husband inde middl class coupl quietli ho...</td>\n",
       "    </tr>\n",
       "    <tr>\n",
       "      <th>4</th>\n",
       "      <td>0</td>\n",
       "      <td>joyou julio tenoch teenag friend member secret...</td>\n",
       "    </tr>\n",
       "    <tr>\n",
       "      <th>...</th>\n",
       "      <td>...</td>\n",
       "      <td>...</td>\n",
       "    </tr>\n",
       "    <tr>\n",
       "      <th>573908</th>\n",
       "      <td>1</td>\n",
       "      <td>great movi long spoiler realli like movi ron p...</td>\n",
       "    </tr>\n",
       "    <tr>\n",
       "      <th>573909</th>\n",
       "      <td>1</td>\n",
       "      <td>one best literari adapt seen year mild spoiler...</td>\n",
       "    </tr>\n",
       "    <tr>\n",
       "      <th>573910</th>\n",
       "      <td>1</td>\n",
       "      <td>straight review siddharth sai amaz spider man ...</td>\n",
       "    </tr>\n",
       "    <tr>\n",
       "      <th>573911</th>\n",
       "      <td>0</td>\n",
       "      <td>mean would die guy first ever review imdb disg...</td>\n",
       "    </tr>\n",
       "    <tr>\n",
       "      <th>573912</th>\n",
       "      <td>1</td>\n",
       "      <td>one start fast furiou one kind movi polar peop...</td>\n",
       "    </tr>\n",
       "  </tbody>\n",
       "</table>\n",
       "<p>573913 rows × 2 columns</p>\n",
       "</div>"
      ],
      "text/plain": [
       "        is_spoiler                                      clean_reviews\n",
       "0                1  lightheart romp whitewash genocid whole famili...\n",
       "1                0  live everi posit review head late show tonight...\n",
       "2                0  well done open rang pretti good job show life ...\n",
       "3                1  love husband inde middl class coupl quietli ho...\n",
       "4                0  joyou julio tenoch teenag friend member secret...\n",
       "...            ...                                                ...\n",
       "573908           1  great movi long spoiler realli like movi ron p...\n",
       "573909           1  one best literari adapt seen year mild spoiler...\n",
       "573910           1  straight review siddharth sai amaz spider man ...\n",
       "573911           0  mean would die guy first ever review imdb disg...\n",
       "573912           1  one start fast furiou one kind movi polar peop...\n",
       "\n",
       "[573913 rows x 2 columns]"
      ]
     },
     "execution_count": 6,
     "metadata": {
      "tags": []
     },
     "output_type": "execute_result"
    }
   ],
   "source": [
    "df_shuffle = data.sample(frac=1).copy()\n",
    "\n",
    "df_shuffle.reset_index(inplace =True)\n",
    "df_shuffle.drop(columns='index', inplace= True)\n",
    "df_shuffle"
   ]
  },
  {
   "cell_type": "code",
   "execution_count": 7,
   "metadata": {
    "executionInfo": {
     "elapsed": 756,
     "status": "ok",
     "timestamp": 1606837487507,
     "user": {
      "displayName": "juan cruz montes de oca",
      "photoUrl": "",
      "userId": "02993317737855160151"
     },
     "user_tz": 180
    },
    "id": "2mvk7dR6-jOG"
   },
   "outputs": [],
   "source": [
    "df_shuffle_test = df_shuffle.loc[:199_999]\n",
    "df_shuffle_train = df_shuffle.loc[200_000:]"
   ]
  },
  {
   "cell_type": "code",
   "execution_count": 8,
   "metadata": {
    "colab": {
     "base_uri": "https://localhost:8080/"
    },
    "executionInfo": {
     "elapsed": 1238,
     "status": "ok",
     "timestamp": 1606837498313,
     "user": {
      "displayName": "juan cruz montes de oca",
      "photoUrl": "",
      "userId": "02993317737855160151"
     },
     "user_tz": 180
    },
    "id": "yPiJI-I0-k-y",
    "outputId": "751d6118-1636-4b38-86ad-1c3c53b7086f"
   },
   "outputs": [
    {
     "data": {
      "text/plain": [
       "(200000, 2)"
      ]
     },
     "execution_count": 8,
     "metadata": {
      "tags": []
     },
     "output_type": "execute_result"
    }
   ],
   "source": [
    "df_shuffle_test.shape"
   ]
  },
  {
   "cell_type": "code",
   "execution_count": 9,
   "metadata": {
    "colab": {
     "base_uri": "https://localhost:8080/"
    },
    "executionInfo": {
     "elapsed": 974,
     "status": "ok",
     "timestamp": 1606837521107,
     "user": {
      "displayName": "juan cruz montes de oca",
      "photoUrl": "",
      "userId": "02993317737855160151"
     },
     "user_tz": 180
    },
    "id": "A5xuLxal-nZs",
    "outputId": "3c9d083a-9bb8-4819-ebc3-3ed12eff76cd"
   },
   "outputs": [
    {
     "data": {
      "text/plain": [
       "0    0.738095\n",
       "1    0.261905\n",
       "Name: is_spoiler, dtype: float64"
      ]
     },
     "execution_count": 9,
     "metadata": {
      "tags": []
     },
     "output_type": "execute_result"
    }
   ],
   "source": [
    "df_shuffle_test['is_spoiler'].value_counts(normalize=True)"
   ]
  },
  {
   "cell_type": "code",
   "execution_count": 10,
   "metadata": {
    "colab": {
     "base_uri": "https://localhost:8080/",
     "height": 204
    },
    "executionInfo": {
     "elapsed": 970,
     "status": "ok",
     "timestamp": 1606837555480,
     "user": {
      "displayName": "juan cruz montes de oca",
      "photoUrl": "",
      "userId": "02993317737855160151"
     },
     "user_tz": 180
    },
    "id": "4Dk9JBNL-wVI",
    "outputId": "c78ed757-d241-4d05-ee4e-6b1944a8e60f"
   },
   "outputs": [
    {
     "data": {
      "text/html": [
       "<div>\n",
       "<style scoped>\n",
       "    .dataframe tbody tr th:only-of-type {\n",
       "        vertical-align: middle;\n",
       "    }\n",
       "\n",
       "    .dataframe tbody tr th {\n",
       "        vertical-align: top;\n",
       "    }\n",
       "\n",
       "    .dataframe thead th {\n",
       "        text-align: right;\n",
       "    }\n",
       "</style>\n",
       "<table border=\"1\" class=\"dataframe\">\n",
       "  <thead>\n",
       "    <tr style=\"text-align: right;\">\n",
       "      <th></th>\n",
       "      <th>is_spoiler</th>\n",
       "      <th>clean_reviews</th>\n",
       "    </tr>\n",
       "  </thead>\n",
       "  <tbody>\n",
       "    <tr>\n",
       "      <th>0</th>\n",
       "      <td>0</td>\n",
       "      <td>ryder joli anchor genuin interest movi month m...</td>\n",
       "    </tr>\n",
       "    <tr>\n",
       "      <th>1</th>\n",
       "      <td>0</td>\n",
       "      <td>lawrenc arabia david lean see old film often s...</td>\n",
       "    </tr>\n",
       "    <tr>\n",
       "      <th>2</th>\n",
       "      <td>0</td>\n",
       "      <td>cheesi comedi movi live bill laugh hard gave f...</td>\n",
       "    </tr>\n",
       "    <tr>\n",
       "      <th>3</th>\n",
       "      <td>0</td>\n",
       "      <td>movi one mish mash nicol kidman full makeup al...</td>\n",
       "    </tr>\n",
       "    <tr>\n",
       "      <th>4</th>\n",
       "      <td>0</td>\n",
       "      <td>pretti freak bad tantamount blasphemi saw dvd ...</td>\n",
       "    </tr>\n",
       "  </tbody>\n",
       "</table>\n",
       "</div>"
      ],
      "text/plain": [
       "   is_spoiler                                      clean_reviews\n",
       "0           0  ryder joli anchor genuin interest movi month m...\n",
       "1           0  lawrenc arabia david lean see old film often s...\n",
       "2           0  cheesi comedi movi live bill laugh hard gave f...\n",
       "3           0  movi one mish mash nicol kidman full makeup al...\n",
       "4           0  pretti freak bad tantamount blasphemi saw dvd ..."
      ]
     },
     "execution_count": 10,
     "metadata": {
      "tags": []
     },
     "output_type": "execute_result"
    }
   ],
   "source": [
    " g = df_shuffle_train.groupby('is_spoiler')\n",
    " g = g.apply(lambda x: x.sample(g.size().min()).reset_index(drop=True))\n",
    " g = g.set_index('is_spoiler')\n",
    " g = g.reset_index()\n",
    " g.head()"
   ]
  },
  {
   "cell_type": "code",
   "execution_count": 11,
   "metadata": {
    "executionInfo": {
     "elapsed": 767,
     "status": "ok",
     "timestamp": 1606837573642,
     "user": {
      "displayName": "juan cruz montes de oca",
      "photoUrl": "",
      "userId": "02993317737855160151"
     },
     "user_tz": 180
    },
    "id": "CfEt2yM4-2BY"
   },
   "outputs": [],
   "source": [
    "df_shuffle_train = g"
   ]
  },
  {
   "cell_type": "code",
   "execution_count": 12,
   "metadata": {
    "colab": {
     "base_uri": "https://localhost:8080/"
    },
    "executionInfo": {
     "elapsed": 887,
     "status": "ok",
     "timestamp": 1606837602179,
     "user": {
      "displayName": "juan cruz montes de oca",
      "photoUrl": "",
      "userId": "02993317737855160151"
     },
     "user_tz": 180
    },
    "id": "RXaSDSb0-50W",
    "outputId": "b6b7e247-fef8-4990-ec94-894e7275b401"
   },
   "outputs": [
    {
     "data": {
      "text/plain": [
       "1    0.5\n",
       "0    0.5\n",
       "Name: is_spoiler, dtype: float64"
      ]
     },
     "execution_count": 12,
     "metadata": {
      "tags": []
     },
     "output_type": "execute_result"
    }
   ],
   "source": [
    "df_shuffle_train['is_spoiler'].value_counts(normalize=True)"
   ]
  },
  {
   "cell_type": "code",
   "execution_count": 13,
   "metadata": {
    "executionInfo": {
     "elapsed": 1075,
     "status": "ok",
     "timestamp": 1606837617123,
     "user": {
      "displayName": "juan cruz montes de oca",
      "photoUrl": "",
      "userId": "02993317737855160151"
     },
     "user_tz": 180
    },
    "id": "mW8M5xgV_C1I"
   },
   "outputs": [],
   "source": [
    "df_sample_train = df_shuffle_train.sample(n=100_000)"
   ]
  },
  {
   "cell_type": "code",
   "execution_count": 15,
   "metadata": {
    "colab": {
     "base_uri": "https://localhost:8080/"
    },
    "executionInfo": {
     "elapsed": 726,
     "status": "ok",
     "timestamp": 1606837644715,
     "user": {
      "displayName": "juan cruz montes de oca",
      "photoUrl": "",
      "userId": "02993317737855160151"
     },
     "user_tz": 180
    },
    "id": "mPKTo4O9_G7k",
    "outputId": "c59d5985-3639-4d17-a1e1-1152ab4cd11c"
   },
   "outputs": [
    {
     "data": {
      "text/plain": [
       "1    0.5006\n",
       "0    0.4994\n",
       "Name: is_spoiler, dtype: float64"
      ]
     },
     "execution_count": 15,
     "metadata": {
      "tags": []
     },
     "output_type": "execute_result"
    }
   ],
   "source": [
    "df_sample_train['is_spoiler'].value_counts(normalize=True)"
   ]
  },
  {
   "cell_type": "code",
   "execution_count": 16,
   "metadata": {
    "executionInfo": {
     "elapsed": 793,
     "status": "ok",
     "timestamp": 1606837714713,
     "user": {
      "displayName": "juan cruz montes de oca",
      "photoUrl": "",
      "userId": "02993317737855160151"
     },
     "user_tz": 180
    },
    "id": "HcmYBuBgaAFa"
   },
   "outputs": [],
   "source": [
    "X = df_sample_train[['clean_reviews']]\n",
    "y = df_sample_train['is_spoiler']\n",
    "\n",
    "X_train, X_test, y_train, y_test = train_test_split(X, y, test_size=.2)"
   ]
  },
  {
   "cell_type": "code",
   "execution_count": 17,
   "metadata": {
    "executionInfo": {
     "elapsed": 3570,
     "status": "ok",
     "timestamp": 1606837727949,
     "user": {
      "displayName": "juan cruz montes de oca",
      "photoUrl": "",
      "userId": "02993317737855160151"
     },
     "user_tz": 180
    },
    "id": "jXxcFTZHaAFa"
   },
   "outputs": [],
   "source": [
    "def convert_sentences(X):\n",
    "    return [sentence.split(' ') for sentence in X]\n",
    "\n",
    "X_train = X_train.apply(convert_sentences)\n",
    "X_test = X_test.apply(convert_sentences)"
   ]
  },
  {
   "cell_type": "code",
   "execution_count": 18,
   "metadata": {
    "executionInfo": {
     "elapsed": 2398,
     "status": "ok",
     "timestamp": 1606837732139,
     "user": {
      "displayName": "juan cruz montes de oca",
      "photoUrl": "",
      "userId": "02993317737855160151"
     },
     "user_tz": 180
    },
    "id": "wHW6b7FdaAFa"
   },
   "outputs": [],
   "source": [
    "word_to_id = {}\n",
    "iter_ = 1\n",
    "for sentence in X_train['clean_reviews']:\n",
    "    for word in sentence:\n",
    "        if word in word_to_id:\n",
    "            continue\n",
    "        word_to_id[word] = iter_\n",
    "        iter_ += 1"
   ]
  },
  {
   "cell_type": "code",
   "execution_count": 19,
   "metadata": {
    "executionInfo": {
     "elapsed": 843,
     "status": "ok",
     "timestamp": 1606837755376,
     "user": {
      "displayName": "juan cruz montes de oca",
      "photoUrl": "",
      "userId": "02993317737855160151"
     },
     "user_tz": 180
    },
    "id": "vTwMDSlAl8aN"
   },
   "outputs": [],
   "source": [
    "# SAVING WORD_TO_ID INTO A JSON FILE\n",
    "\n",
    "import json\n",
    "\n",
    "with open('word_to_id.json', 'w') as fp:\n",
    "    json.dump(word_to_id, fp)"
   ]
  },
  {
   "cell_type": "code",
   "execution_count": 20,
   "metadata": {
    "executionInfo": {
     "elapsed": 821,
     "status": "ok",
     "timestamp": 1606837758594,
     "user": {
      "displayName": "juan cruz montes de oca",
      "photoUrl": "",
      "userId": "02993317737855160151"
     },
     "user_tz": 180
    },
    "id": "5pyaK5Omm01M"
   },
   "outputs": [],
   "source": [
    "!cp word_to_id.json \"drive/My Drive/Colab Notebooks\""
   ]
  },
  {
   "cell_type": "code",
   "execution_count": 21,
   "metadata": {
    "colab": {
     "base_uri": "https://localhost:8080/"
    },
    "executionInfo": {
     "elapsed": 1209,
     "status": "ok",
     "timestamp": 1606837762274,
     "user": {
      "displayName": "juan cruz montes de oca",
      "photoUrl": "",
      "userId": "02993317737855160151"
     },
     "user_tz": 180
    },
    "id": "HpQql-I5aAFa",
    "outputId": "9013daab-d1e8-4c9f-c070-2d742436d581"
   },
   "outputs": [
    {
     "name": "stdout",
     "output_type": "stream",
     "text": [
      "There are 78370 different words in the train sentences\n"
     ]
    }
   ],
   "source": [
    "print(f'There are {len(word_to_id)} different words in the train sentences')"
   ]
  },
  {
   "cell_type": "code",
   "execution_count": 22,
   "metadata": {
    "executionInfo": {
     "elapsed": 4034,
     "status": "ok",
     "timestamp": 1606837769726,
     "user": {
      "displayName": "juan cruz montes de oca",
      "photoUrl": "",
      "userId": "02993317737855160151"
     },
     "user_tz": 180
    },
    "id": "07wMiEQ7aAFb"
   },
   "outputs": [],
   "source": [
    "def tokenize(sentences, word_to_id):\n",
    "    return [[word_to_id[_] for _ in s if _ in word_to_id] for s in sentences]\n",
    "\n",
    "X_token_train = tokenize(X_train['clean_reviews'], word_to_id)\n",
    "X_token_test = tokenize(X_test['clean_reviews'], word_to_id)"
   ]
  },
  {
   "cell_type": "code",
   "execution_count": 23,
   "metadata": {
    "executionInfo": {
     "elapsed": 2411,
     "status": "ok",
     "timestamp": 1606837775930,
     "user": {
      "displayName": "juan cruz montes de oca",
      "photoUrl": "",
      "userId": "02993317737855160151"
     },
     "user_tz": 180
    },
    "id": "L4Oa6a2BaAFb"
   },
   "outputs": [],
   "source": [
    "X_train_maxlen = pad_sequences(X_token_train, maxlen=200, dtype='float32', padding='post')\n",
    "X_test_maxlen = pad_sequences(X_token_test, maxlen=200, dtype='float32', padding='post')"
   ]
  },
  {
   "cell_type": "code",
   "execution_count": 24,
   "metadata": {
    "executionInfo": {
     "elapsed": 6219,
     "status": "ok",
     "timestamp": 1606837784496,
     "user": {
      "displayName": "juan cruz montes de oca",
      "photoUrl": "",
      "userId": "02993317737855160151"
     },
     "user_tz": 180
    },
    "id": "Zznrh4O5aAFb"
   },
   "outputs": [],
   "source": [
    "recall = Recall(name='recall')\n",
    "\n",
    "def init_model(vocab_size):\n",
    "    model = Sequential()\n",
    "    model.add(layers.Embedding(input_dim=vocab_size+1, output_dim=30, mask_zero=True))\n",
    "    model.add(layers.GRU(units=128 , recurrent_dropout = 0.1 , dropout = 0.1))\n",
    "    #model.add(layers.GRU(units=128 , recurrent_dropout = 0.1 , dropout = 0.1, return_sequences=True, input_shape=(X_train_maxlen.shape[1],200)))\n",
    "    #model.add(layers.GRU(units=64, return_sequences=True, input_shape=(X_train_maxlen.shape[1],150)))\n",
    "    #model.add(layers.GRU(units=32))\n",
    "    #model.add(layers.Dense(64, activation='relu'))\n",
    "    model.add(layers.Dense(1, activation='sigmoid'))\n",
    "\n",
    "    model.compile(loss='binary_crossentropy', optimizer='rmsprop', metrics=recall)\n",
    "    \n",
    "    return model"
   ]
  },
  {
   "cell_type": "code",
   "execution_count": 25,
   "metadata": {
    "colab": {
     "base_uri": "https://localhost:8080/"
    },
    "executionInfo": {
     "elapsed": 4575274,
     "status": "ok",
     "timestamp": 1606842362933,
     "user": {
      "displayName": "juan cruz montes de oca",
      "photoUrl": "",
      "userId": "02993317737855160151"
     },
     "user_tz": 180
    },
    "id": "z8lDjAssaAFb",
    "outputId": "b21abda7-3f88-4218-a384-6afc8cddd08c"
   },
   "outputs": [
    {
     "name": "stdout",
     "output_type": "stream",
     "text": [
      "WARNING:tensorflow:Layer gru will not use cuDNN kernel since it doesn't meet the cuDNN kernel criteria. It will use generic GPU kernel as fallback when running on GPU\n",
      "Epoch 1/10\n",
      "2000/2000 [==============================] - 653s 327ms/step - loss: 0.6337 - recall: 0.6490 - val_loss: 0.5891 - val_recall: 0.5729\n",
      "Epoch 2/10\n",
      "2000/2000 [==============================] - 659s 330ms/step - loss: 0.5601 - recall: 0.7066 - val_loss: 0.5721 - val_recall: 0.7613\n",
      "Epoch 3/10\n",
      "2000/2000 [==============================] - 660s 330ms/step - loss: 0.5351 - recall: 0.7230 - val_loss: 0.5929 - val_recall: 0.5729\n",
      "Epoch 4/10\n",
      "2000/2000 [==============================] - 643s 321ms/step - loss: 0.5143 - recall: 0.7364 - val_loss: 0.5907 - val_recall: 0.5839\n",
      "Epoch 5/10\n",
      "2000/2000 [==============================] - 642s 321ms/step - loss: 0.4942 - recall: 0.7487 - val_loss: 0.5979 - val_recall: 0.6547\n",
      "Epoch 6/10\n",
      "2000/2000 [==============================] - 657s 328ms/step - loss: 0.4731 - recall: 0.7626 - val_loss: 0.6151 - val_recall: 0.6357\n",
      "Epoch 7/10\n",
      "2000/2000 [==============================] - 655s 328ms/step - loss: 0.4499 - recall: 0.7759 - val_loss: 0.6220 - val_recall: 0.6453\n"
     ]
    },
    {
     "data": {
      "text/plain": [
       "<tensorflow.python.keras.callbacks.History at 0x7f0cd03ad828>"
      ]
     },
     "execution_count": 25,
     "metadata": {
      "tags": []
     },
     "output_type": "execute_result"
    }
   ],
   "source": [
    "model = init_model(len(word_to_id))\n",
    "es = EarlyStopping(patience=5, restore_best_weights=True)\n",
    "model.fit(X_train_maxlen, y_train, epochs=10, batch_size=32, validation_split=0.2, callbacks=[es] )"
   ]
  },
  {
   "cell_type": "code",
   "execution_count": 26,
   "metadata": {
    "colab": {
     "base_uri": "https://localhost:8080/"
    },
    "executionInfo": {
     "elapsed": 39832,
     "status": "ok",
     "timestamp": 1606843345657,
     "user": {
      "displayName": "juan cruz montes de oca",
      "photoUrl": "",
      "userId": "02993317737855160151"
     },
     "user_tz": 180
    },
    "id": "W6-SM_WOaAFb",
    "outputId": "1beba93a-b367-4e58-fbb5-6bc48341b55e"
   },
   "outputs": [
    {
     "name": "stdout",
     "output_type": "stream",
     "text": [
      "625/625 [==============================] - 38s 61ms/step - loss: 0.5718 - recall: 0.7585\n"
     ]
    },
    {
     "data": {
      "text/plain": [
       "[0.571760356426239, 0.7584953904151917]"
      ]
     },
     "execution_count": 26,
     "metadata": {
      "tags": []
     },
     "output_type": "execute_result"
    }
   ],
   "source": [
    "model.evaluate(X_test_maxlen, y_test)"
   ]
  },
  {
   "cell_type": "code",
   "execution_count": 32,
   "metadata": {
    "executionInfo": {
     "elapsed": 14653,
     "status": "ok",
     "timestamp": 1606844314461,
     "user": {
      "displayName": "juan cruz montes de oca",
      "photoUrl": "",
      "userId": "02993317737855160151"
     },
     "user_tz": 180
    },
    "id": "oLeOWa2tWhYr"
   },
   "outputs": [],
   "source": [
    "X_shuffle_test = df_shuffle_test[['clean_reviews']]\n",
    "y_shuffle_test = df_shuffle_test['is_spoiler']\n",
    "\n",
    "X_shuffle_test_converted = X_shuffle_test.apply(convert_sentences)\n",
    "X_shuffle_test_tokenized = tokenize(X_shuffle_test_converted['clean_reviews'], word_to_id)\n",
    "X_shuffle_test_maxlen = pad_sequences(X_shuffle_test_tokenized, maxlen=200, dtype='float32', padding='post')\n"
   ]
  },
  {
   "cell_type": "code",
   "execution_count": 33,
   "metadata": {
    "colab": {
     "base_uri": "https://localhost:8080/"
    },
    "executionInfo": {
     "elapsed": 387763,
     "status": "ok",
     "timestamp": 1606844704558,
     "user": {
      "displayName": "juan cruz montes de oca",
      "photoUrl": "",
      "userId": "02993317737855160151"
     },
     "user_tz": 180
    },
    "id": "WyVkiDHNXP_F",
    "outputId": "9dea0fbf-5302-4ab8-9de6-1739e1fb9da8"
   },
   "outputs": [
    {
     "name": "stdout",
     "output_type": "stream",
     "text": [
      "6250/6250 [==============================] - 386s 62ms/step - loss: 0.6030 - recall: 0.7639\n"
     ]
    },
    {
     "data": {
      "text/plain": [
       "[0.6030338406562805, 0.7638838291168213]"
      ]
     },
     "execution_count": 33,
     "metadata": {
      "tags": []
     },
     "output_type": "execute_result"
    }
   ],
   "source": [
    "model.evaluate(X_shuffle_test_maxlen, y_shuffle_test)"
   ]
  },
  {
   "cell_type": "code",
   "execution_count": 34,
   "metadata": {
    "executionInfo": {
     "elapsed": 365158,
     "status": "ok",
     "timestamp": 1606845221477,
     "user": {
      "displayName": "juan cruz montes de oca",
      "photoUrl": "",
      "userId": "02993317737855160151"
     },
     "user_tz": 180
    },
    "id": "6PR-22HuahVK"
   },
   "outputs": [],
   "source": [
    "y_predict = model.predict(X_shuffle_test_maxlen)"
   ]
  },
  {
   "cell_type": "code",
   "execution_count": 35,
   "metadata": {
    "colab": {
     "base_uri": "https://localhost:8080/"
    },
    "executionInfo": {
     "elapsed": 809,
     "status": "ok",
     "timestamp": 1606845227300,
     "user": {
      "displayName": "juan cruz montes de oca",
      "photoUrl": "",
      "userId": "02993317737855160151"
     },
     "user_tz": 180
    },
    "id": "vPLn8El4a3y_",
    "outputId": "3f697eb7-4eac-4f8f-94fa-a42b9b261753"
   },
   "outputs": [
    {
     "data": {
      "text/plain": [
       "200000"
      ]
     },
     "execution_count": 35,
     "metadata": {
      "tags": []
     },
     "output_type": "execute_result"
    }
   ],
   "source": [
    "len(y_predict)"
   ]
  },
  {
   "cell_type": "code",
   "execution_count": 36,
   "metadata": {
    "colab": {
     "base_uri": "https://localhost:8080/"
    },
    "executionInfo": {
     "elapsed": 1184,
     "status": "ok",
     "timestamp": 1606845230747,
     "user": {
      "displayName": "juan cruz montes de oca",
      "photoUrl": "",
      "userId": "02993317737855160151"
     },
     "user_tz": 180
    },
    "id": "thOr1z0Ca7We",
    "outputId": "621c515a-fa1e-4b43-9c46-42fa634f2c30"
   },
   "outputs": [
    {
     "data": {
      "text/plain": [
       "array([[0.8235458 ],\n",
       "       [0.35441515],\n",
       "       [0.22897525],\n",
       "       [0.8257432 ],\n",
       "       [0.5712198 ],\n",
       "       [0.9715403 ],\n",
       "       [0.6104355 ],\n",
       "       [0.12103421],\n",
       "       [0.11966778],\n",
       "       [0.08729726]], dtype=float32)"
      ]
     },
     "execution_count": 36,
     "metadata": {
      "tags": []
     },
     "output_type": "execute_result"
    }
   ],
   "source": [
    "y_predict[0:10]"
   ]
  },
  {
   "cell_type": "code",
   "execution_count": 48,
   "metadata": {
    "executionInfo": {
     "elapsed": 767,
     "status": "ok",
     "timestamp": 1606845583168,
     "user": {
      "displayName": "juan cruz montes de oca",
      "photoUrl": "",
      "userId": "02993317737855160151"
     },
     "user_tz": 180
    },
    "id": "wB_FpIyJcQH1"
   },
   "outputs": [],
   "source": [
    "y_predict_df = pd.DataFrame(y_predict)\n",
    "#y_predict_df.head()\n",
    "y_predict_labeled = y_predict_df[0].apply(lambda x: 1 if x>0.5 else 0)"
   ]
  },
  {
   "cell_type": "code",
   "execution_count": 52,
   "metadata": {
    "colab": {
     "base_uri": "https://localhost:8080/"
    },
    "executionInfo": {
     "elapsed": 1004,
     "status": "ok",
     "timestamp": 1606845639577,
     "user": {
      "displayName": "juan cruz montes de oca",
      "photoUrl": "",
      "userId": "02993317737855160151"
     },
     "user_tz": 180
    },
    "id": "z9ozgczOabq-",
    "outputId": "887811ce-5d13-4ce3-932c-5dcfd0af9fde"
   },
   "outputs": [
    {
     "name": "stdout",
     "output_type": "stream",
     "text": [
      "              precision    recall  f1-score   support\n",
      "\n",
      "           0       0.88      0.62      0.73    147619\n",
      "           1       0.42      0.76      0.54     52381\n",
      "\n",
      "    accuracy                           0.66    200000\n",
      "   macro avg       0.65      0.69      0.63    200000\n",
      "weighted avg       0.76      0.66      0.68    200000\n",
      "\n"
     ]
    }
   ],
   "source": [
    "from sklearn.metrics import classification_report\n",
    "\n",
    "print(classification_report(y_shuffle_test, y_predict_labeled))"
   ]
  },
  {
   "cell_type": "code",
   "execution_count": 27,
   "metadata": {
    "colab": {
     "base_uri": "https://localhost:8080/"
    },
    "executionInfo": {
     "elapsed": 4042,
     "status": "ok",
     "timestamp": 1606843361986,
     "user": {
      "displayName": "juan cruz montes de oca",
      "photoUrl": "",
      "userId": "02993317737855160151"
     },
     "user_tz": 180
    },
    "id": "_6A79L7SnMJA",
    "outputId": "cfa5739a-3281-4fcd-8712-ba34b6f51a31"
   },
   "outputs": [
    {
     "name": "stdout",
     "output_type": "stream",
     "text": [
      "WARNING:tensorflow:From /usr/local/lib/python3.6/dist-packages/tensorflow/python/training/tracking/tracking.py:111: Model.state_updates (from tensorflow.python.keras.engine.training) is deprecated and will be removed in a future version.\n",
      "Instructions for updating:\n",
      "This property should not be used in TensorFlow 2.0, as updates are applied automatically.\n",
      "WARNING:tensorflow:From /usr/local/lib/python3.6/dist-packages/tensorflow/python/training/tracking/tracking.py:111: Layer.updates (from tensorflow.python.keras.engine.base_layer) is deprecated and will be removed in a future version.\n",
      "Instructions for updating:\n",
      "This property should not be used in TensorFlow 2.0, as updates are applied automatically.\n",
      "INFO:tensorflow:Assets written to: model_baseline/assets\n"
     ]
    }
   ],
   "source": [
    "model.save('model_baseline')"
   ]
  },
  {
   "cell_type": "code",
   "execution_count": 28,
   "metadata": {
    "executionInfo": {
     "elapsed": 763,
     "status": "ok",
     "timestamp": 1606843367816,
     "user": {
      "displayName": "juan cruz montes de oca",
      "photoUrl": "",
      "userId": "02993317737855160151"
     },
     "user_tz": 180
    },
    "id": "EubyBqEynfeJ"
   },
   "outputs": [],
   "source": [
    "!cp -r model_baseline \"drive/My Drive/Colab Notebooks\""
   ]
  }
 ],
 "metadata": {
  "accelerator": "GPU",
  "colab": {
   "collapsed_sections": [],
   "name": "better_model.ipynb",
   "provenance": []
  },
  "kernelspec": {
   "display_name": "Python 3",
   "language": "python",
   "name": "python3"
  },
  "language_info": {
   "codemirror_mode": {
    "name": "ipython",
    "version": 3
   },
   "file_extension": ".py",
   "mimetype": "text/x-python",
   "name": "python",
   "nbconvert_exporter": "python",
   "pygments_lexer": "ipython3",
   "version": "3.7.7"
  },
  "toc": {
   "base_numbering": 1,
   "nav_menu": {},
   "number_sections": true,
   "sideBar": true,
   "skip_h1_title": false,
   "title_cell": "Table of Contents",
   "title_sidebar": "Contents",
   "toc_cell": false,
   "toc_position": {},
   "toc_section_display": true,
   "toc_window_display": false
  }
 },
 "nbformat": 4,
 "nbformat_minor": 1
}
