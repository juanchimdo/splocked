{
 "cells": [
  {
   "cell_type": "code",
   "execution_count": 1,
   "metadata": {
    "executionInfo": {
     "elapsed": 783,
     "status": "ok",
     "timestamp": 1606410279084,
     "user": {
      "displayName": "juan cruz montes de oca",
      "photoUrl": "",
      "userId": "02993317737855160151"
     },
     "user_tz": 180
    },
    "id": "MrH_pyF8sJQ6"
   },
   "outputs": [],
   "source": [
    "import pandas as pd\n",
    "from sklearn.model_selection import train_test_split\n",
    "from tensorflow.keras.preprocessing.sequence import pad_sequences\n",
    "from tensorflow.keras import Sequential\n",
    "from tensorflow.keras import layers\n",
    "from tensorflow.keras.callbacks import EarlyStopping\n",
    "from tensorflow.keras.metrics import Recall"
   ]
  },
  {
   "cell_type": "code",
   "execution_count": 2,
   "metadata": {
    "colab": {
     "base_uri": "https://localhost:8080/"
    },
    "executionInfo": {
     "elapsed": 903,
     "status": "ok",
     "timestamp": 1606410281030,
     "user": {
      "displayName": "juan cruz montes de oca",
      "photoUrl": "",
      "userId": "02993317737855160151"
     },
     "user_tz": 180
    },
    "id": "nYZsAc8JsvQw",
    "outputId": "468238a8-5383-48c1-ed3d-230281dc2eff"
   },
   "outputs": [],
   "source": [
    "# FROM GOOGLE COLAB\n",
    "\n",
    "#from google.colab import drive\n",
    "#drive.mount(\"/content/drive\")\n",
    "#dataframe = pd.read_csv('/content/drive/My Drive/data_cleaned.csv')\n",
    "#dataframe.head()"
   ]
  },
  {
   "cell_type": "code",
   "execution_count": 3,
   "metadata": {
    "colab": {
     "base_uri": "https://localhost:8080/",
     "height": 204
    },
    "executionInfo": {
     "elapsed": 10691,
     "status": "ok",
     "timestamp": 1606410292999,
     "user": {
      "displayName": "juan cruz montes de oca",
      "photoUrl": "",
      "userId": "02993317737855160151"
     },
     "user_tz": 180
    },
    "id": "qP0c1NyfsJQ6",
    "outputId": "20560a65-6bc6-42fa-e728-8defdef2ce64"
   },
   "outputs": [
    {
     "data": {
      "text/html": [
       "<div>\n",
       "<style scoped>\n",
       "    .dataframe tbody tr th:only-of-type {\n",
       "        vertical-align: middle;\n",
       "    }\n",
       "\n",
       "    .dataframe tbody tr th {\n",
       "        vertical-align: top;\n",
       "    }\n",
       "\n",
       "    .dataframe thead th {\n",
       "        text-align: right;\n",
       "    }\n",
       "</style>\n",
       "<table border=\"1\" class=\"dataframe\">\n",
       "  <thead>\n",
       "    <tr style=\"text-align: right;\">\n",
       "      <th></th>\n",
       "      <th>is_spoiler</th>\n",
       "      <th>clean_reviews</th>\n",
       "    </tr>\n",
       "  </thead>\n",
       "  <tbody>\n",
       "    <tr>\n",
       "      <th>0</th>\n",
       "      <td>1</td>\n",
       "      <td>classic piece unforgettable film making oscar ...</td>\n",
       "    </tr>\n",
       "    <tr>\n",
       "      <th>1</th>\n",
       "      <td>1</td>\n",
       "      <td>simply amazing best film shawshank redemption ...</td>\n",
       "    </tr>\n",
       "    <tr>\n",
       "      <th>2</th>\n",
       "      <td>1</td>\n",
       "      <td>best story ever told film believe film best st...</td>\n",
       "    </tr>\n",
       "    <tr>\n",
       "      <th>3</th>\n",
       "      <td>1</td>\n",
       "      <td>busy dying busy living yes spoiler film emotio...</td>\n",
       "    </tr>\n",
       "    <tr>\n",
       "      <th>4</th>\n",
       "      <td>1</td>\n",
       "      <td>great story wondrously told acted heart extrao...</td>\n",
       "    </tr>\n",
       "  </tbody>\n",
       "</table>\n",
       "</div>"
      ],
      "text/plain": [
       "   is_spoiler                                      clean_reviews\n",
       "0           1  classic piece unforgettable film making oscar ...\n",
       "1           1  simply amazing best film shawshank redemption ...\n",
       "2           1  best story ever told film believe film best st...\n",
       "3           1  busy dying busy living yes spoiler film emotio...\n",
       "4           1  great story wondrously told acted heart extrao..."
      ]
     },
     "execution_count": 3,
     "metadata": {},
     "output_type": "execute_result"
    }
   ],
   "source": [
    "# Locally\n",
    "\n",
    "dataframe = pd.read_csv('../../Raw_Data/data_cleaned.csv')\n",
    "dataframe.head()"
   ]
  },
  {
   "cell_type": "code",
   "execution_count": 4,
   "metadata": {
    "executionInfo": {
     "elapsed": 811,
     "status": "ok",
     "timestamp": 1606410294959,
     "user": {
      "displayName": "juan cruz montes de oca",
      "photoUrl": "",
      "userId": "02993317737855160151"
     },
     "user_tz": 180
    },
    "id": "-N7Hm-1A_bAo"
   },
   "outputs": [],
   "source": [
    "# PORTION OF THE DATA\n",
    "\n",
    "df = dataframe.loc[:1000, :].copy()"
   ]
  },
  {
   "cell_type": "code",
   "execution_count": 5,
   "metadata": {
    "colab": {
     "base_uri": "https://localhost:8080/",
     "height": 204
    },
    "executionInfo": {
     "elapsed": 655,
     "status": "ok",
     "timestamp": 1606410296190,
     "user": {
      "displayName": "juan cruz montes de oca",
      "photoUrl": "",
      "userId": "02993317737855160151"
     },
     "user_tz": 180
    },
    "id": "tNQclegnsJQ6",
    "outputId": "ab71ef93-d9ef-4d18-df55-9fd3e2717523"
   },
   "outputs": [],
   "source": [
    "X = df[['clean_reviews']]\n",
    "y = df['is_spoiler']\n",
    "\n",
    "X_train, X_test, y_train, y_test = train_test_split(X, y, test_size=.2)"
   ]
  },
  {
   "cell_type": "code",
   "execution_count": 6,
   "metadata": {},
   "outputs": [],
   "source": [
    "def convert_sentences(X):\n",
    "    return [sentence.split(' ') for sentence in X]\n",
    "\n",
    "X_train = X_train.apply(convert_sentences)\n",
    "X_test = X_test.apply(convert_sentences)"
   ]
  },
  {
   "cell_type": "code",
   "execution_count": 7,
   "metadata": {},
   "outputs": [],
   "source": [
    "word_to_id = {}\n",
    "iter_ = 1\n",
    "for sentence in X_train['clean_reviews']:\n",
    "    for word in sentence:\n",
    "        if word in word_to_id:\n",
    "            continue\n",
    "        word_to_id[word] = iter_\n",
    "        iter_ += 1"
   ]
  },
  {
   "cell_type": "code",
   "execution_count": 8,
   "metadata": {},
   "outputs": [
    {
     "name": "stdout",
     "output_type": "stream",
     "text": [
      "There are 8740 different words in the train sentences\n"
     ]
    }
   ],
   "source": [
    "print(f'There are {len(word_to_id)} different words in the train sentences')"
   ]
  },
  {
   "cell_type": "code",
   "execution_count": 9,
   "metadata": {},
   "outputs": [],
   "source": [
    "def tokenize(sentences, word_to_id):\n",
    "    return [[word_to_id[_] for _ in s if _ in word_to_id] for s in sentences]\n",
    "\n",
    "X_token_train = tokenize(X_train['clean_reviews'], word_to_id)\n",
    "X_token_test = tokenize(X_test['clean_reviews'], word_to_id)"
   ]
  },
  {
   "cell_type": "code",
   "execution_count": 11,
   "metadata": {
    "executionInfo": {
     "elapsed": 6992,
     "status": "ok",
     "timestamp": 1606411149354,
     "user": {
      "displayName": "juan cruz montes de oca",
      "photoUrl": "",
      "userId": "02993317737855160151"
     },
     "user_tz": 180
    },
    "id": "Woo4_cVlLU_v"
   },
   "outputs": [],
   "source": [
    "X_train_maxlen = pad_sequences(X_token_train, maxlen=150, dtype='float32', padding='post')\n",
    "X_test_maxlen = pad_sequences(X_token_test, maxlen=150, dtype='float32', padding='post')"
   ]
  },
  {
   "cell_type": "code",
   "execution_count": 12,
   "metadata": {},
   "outputs": [],
   "source": [
    "recall = Recall(name='recall')\n",
    "\n",
    "def init_model(vocab_size):\n",
    "    model = Sequential()\n",
    "    model.add(layers.Embedding(input_dim=vocab_size+1, output_dim=30, mask_zero=True))\n",
    "    model.add(layers.LSTM(units=128 , recurrent_dropout = 0.5 , dropout = 0.5))\n",
    "    model.add(layers.Dense(5, activation='relu'))\n",
    "    model.add(layers.Dense(1, activation='sigmoid'))\n",
    "\n",
    "    model.compile(loss='binary_crossentropy', optimizer='rmsprop', metrics=recall)\n",
    "    \n",
    "    return model"
   ]
  },
  {
   "cell_type": "code",
   "execution_count": 13,
   "metadata": {},
   "outputs": [
    {
     "name": "stdout",
     "output_type": "stream",
     "text": [
      "Epoch 1/10\n",
      "20/20 [==============================] - 4s 204ms/step - loss: 0.2955 - recall: 0.9984 - val_loss: 0.2167 - val_recall: 1.0000\n",
      "Epoch 2/10\n",
      "20/20 [==============================] - 4s 179ms/step - loss: 0.2014 - recall: 1.0000 - val_loss: 0.2119 - val_recall: 1.0000\n",
      "Epoch 3/10\n",
      "20/20 [==============================] - 4s 208ms/step - loss: 0.1981 - recall: 1.0000 - val_loss: 0.2138 - val_recall: 1.0000\n",
      "Epoch 4/10\n",
      "20/20 [==============================] - 4s 222ms/step - loss: 0.1962 - recall: 1.0000 - val_loss: 0.2156 - val_recall: 1.0000\n",
      "Epoch 5/10\n",
      "20/20 [==============================] - 4s 191ms/step - loss: 0.1966 - recall: 1.0000 - val_loss: 0.2153 - val_recall: 1.0000\n",
      "Epoch 6/10\n",
      "20/20 [==============================] - 4s 197ms/step - loss: 0.1941 - recall: 1.0000 - val_loss: 0.2165 - val_recall: 1.0000\n",
      "Epoch 7/10\n",
      "20/20 [==============================] - 4s 189ms/step - loss: 0.1885 - recall: 1.0000 - val_loss: 0.2144 - val_recall: 1.0000\n"
     ]
    },
    {
     "data": {
      "text/plain": [
       "<tensorflow.python.keras.callbacks.History at 0x144bd6890>"
      ]
     },
     "execution_count": 13,
     "metadata": {},
     "output_type": "execute_result"
    }
   ],
   "source": [
    "model = init_model(len(word_to_id))\n",
    "es = EarlyStopping(patience=5, restore_best_weights=True)\n",
    "model.fit(X_train_maxlen, y_train, epochs=10, batch_size=32, validation_split=0.2, callbacks=[es] )"
   ]
  },
  {
   "cell_type": "code",
   "execution_count": 14,
   "metadata": {},
   "outputs": [
    {
     "name": "stdout",
     "output_type": "stream",
     "text": [
      "7/7 [==============================] - 0s 27ms/step - loss: 0.1258 - recall: 1.0000\n",
      "Test recall: 1.0\n"
     ]
    }
   ],
   "source": [
    "res = model.evaluate(X_test_maxlen, y_test)\n",
    "print('Test recall:', res[1])"
   ]
  },
  {
   "cell_type": "code",
   "execution_count": 15,
   "metadata": {},
   "outputs": [
    {
     "data": {
      "text/plain": [
       "array([[0.504695]], dtype=float32)"
      ]
     },
     "execution_count": 15,
     "metadata": {},
     "output_type": "execute_result"
    }
   ],
   "source": [
    "review_to_predict = ['kjkhkjhkh']\n",
    "\n",
    "sentence_converted = convert_sentences(review_to_predict)\n",
    "\n",
    "#print(sentence_converted)\n",
    "\n",
    "prediction_token = tokenize(sentence_converted, word_to_id)\n",
    "\n",
    "prediction_pad = pad_sequences(prediction_token, maxlen=150, dtype='float32', padding='post')\n",
    "\n",
    "model.predict(prediction_pad)"
   ]
  }
 ],
 "metadata": {
  "accelerator": "GPU",
  "colab": {
   "collapsed_sections": [],
   "name": "data_exploration.ipynb",
   "provenance": []
  },
  "kernelspec": {
   "display_name": "Python 3",
   "language": "python",
   "name": "python3"
  },
  "language_info": {
   "codemirror_mode": {
    "name": "ipython",
    "version": 3
   },
   "file_extension": ".py",
   "mimetype": "text/x-python",
   "name": "python",
   "nbconvert_exporter": "python",
   "pygments_lexer": "ipython3",
   "version": "3.7.7"
  },
  "toc": {
   "base_numbering": 1,
   "nav_menu": {},
   "number_sections": true,
   "sideBar": true,
   "skip_h1_title": false,
   "title_cell": "Table of Contents",
   "title_sidebar": "Contents",
   "toc_cell": false,
   "toc_position": {},
   "toc_section_display": true,
   "toc_window_display": false
  }
 },
 "nbformat": 4,
 "nbformat_minor": 1
}
